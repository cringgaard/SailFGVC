{
 "cells": [
  {
   "cell_type": "code",
   "execution_count": 11,
   "metadata": {},
   "outputs": [],
   "source": [
    "import pandas as pd\n",
    "import numpy as np \n",
    "import PIL\n",
    "import requests\n",
    "from bs4 import BeautifulSoup\n",
    "import re\n",
    "from tqdm import tqdm\n",
    "from classes import *\n",
    "import os\n",
    "from Labeller import Labeller\n"
   ]
  },
  {
   "cell_type": "code",
   "execution_count": 3,
   "metadata": {},
   "outputs": [],
   "source": [
    "img_dir = 'images/'\n",
    "data_dir = 'data/'"
   ]
  },
  {
   "cell_type": "code",
   "execution_count": 4,
   "metadata": {},
   "outputs": [],
   "source": [
    "n_pages_tag = re.compile(r'\\?page=(?P<n_pages>\\d{3,})')"
   ]
  },
  {
   "cell_type": "code",
   "execution_count": 4,
   "metadata": {},
   "outputs": [],
   "source": [
    "def scrape(url , tag):\n",
    "    r = requests.get(url)\n",
    "    retval = re.findall(tag , r.text)\n",
    "    if len(retval) > 1:\n",
    "        return list(zip(*retval))\n",
    "    elif len(retval) == 1:\n",
    "        return retval[0]\n",
    "    else:\n",
    "        return None"
   ]
  },
  {
   "cell_type": "code",
   "execution_count": 19,
   "metadata": {},
   "outputs": [
    {
     "name": "stderr",
     "output_type": "stream",
     "text": [
      "100%|██████████| 207/207 [02:38<00:00,  1.31it/s]\n"
     ]
    }
   ],
   "source": [
    "n_pages = int(scrape('https://www.boat24.com/en/sailingboats/?page=&sort=datdesc' , n_pages_tag))\n",
    "link_data = []\n",
    "for page_number in tqdm(range(0 , n_pages , 20)):\n",
    "    url = f'https://www.boat24.com/en/sailingboats/?page={page_number}&sort=datdesc'\n",
    "    r = requests.get(url)\n",
    "    soup = BeautifulSoup(r.text , 'html.parser')\n",
    "    li_tags = soup.find_all('li')\n",
    "    for li_tag in li_tags:\n",
    "        links = li_tag.find_all('a')\n",
    "        for link in links:\n",
    "            href = link.get('href')\n",
    "            title = link.get('title')\n",
    "            text = link.text.strip()\n",
    "            if text == 'Show offer':\n",
    "                link_data.append({'href': href, 'title': title, 'text': text})\n",
    "boat24_data_raw = pd.DataFrame(link_data)\n",
    "boat24_data_raw.drop_duplicates(subset=['href'] , inplace=True)\n",
    "boat24_data_raw.to_csv(data_dir + 'boat24_data_raw.csv' , index=False)"
   ]
  },
  {
   "cell_type": "code",
   "execution_count": 12,
   "metadata": {},
   "outputs": [],
   "source": [
    "boat24_data_raw = pd.read_csv(data_dir + 'boat24_data_raw.csv')\n",
    "sailboatdata_data = pd.read_csv(os.path.join(data_dir, \"sailboatdata_data_hashed_cleaned.csv\"))\n",
    "boat_names = [Name_Classes[x] for x in sailboatdata_data['name'].unique()]\n",
    "labeller = Labeller(boat_names)"
   ]
  },
  {
   "cell_type": "code",
   "execution_count": 13,
   "metadata": {},
   "outputs": [
    {
     "name": "stdout",
     "output_type": "stream",
     "text": [
      "['grand', 'soleil', '', '46.3']\n"
     ]
    },
    {
     "ename": "IndexError",
     "evalue": "list index out of range",
     "output_type": "error",
     "traceback": [
      "\u001b[1;31m---------------------------------------------------------------------------\u001b[0m",
      "\u001b[1;31mIndexError\u001b[0m                                Traceback (most recent call last)",
      "\u001b[1;32mc:\\Users\\chris\\OneDrive\\Dokumenter\\GitHub\\SailFGVC\\boat24\\boat24_scraper.ipynb Cell 7\u001b[0m in \u001b[0;36m3\n\u001b[0;32m      <a href='vscode-notebook-cell:/c%3A/Users/chris/OneDrive/Dokumenter/GitHub/SailFGVC/boat24/boat24_scraper.ipynb#W6sZmlsZQ%3D%3D?line=0'>1</a>\u001b[0m \u001b[39mfor\u001b[39;00m i \u001b[39min\u001b[39;00m \u001b[39mrange\u001b[39m(\u001b[39mlen\u001b[39m(boat24_data_raw)):\n\u001b[0;32m      <a href='vscode-notebook-cell:/c%3A/Users/chris/OneDrive/Dokumenter/GitHub/SailFGVC/boat24/boat24_scraper.ipynb#W6sZmlsZQ%3D%3D?line=1'>2</a>\u001b[0m     \u001b[39mprint\u001b[39m(boat24_data_raw\u001b[39m.\u001b[39miloc[i][\u001b[39m'\u001b[39m\u001b[39mtitle\u001b[39m\u001b[39m'\u001b[39m]\u001b[39m.\u001b[39mlower()\u001b[39m.\u001b[39msplit(\u001b[39m\"\u001b[39m\u001b[39m \u001b[39m\u001b[39m\"\u001b[39m))\n\u001b[1;32m----> <a href='vscode-notebook-cell:/c%3A/Users/chris/OneDrive/Dokumenter/GitHub/SailFGVC/boat24/boat24_scraper.ipynb#W6sZmlsZQ%3D%3D?line=2'>3</a>\u001b[0m     found , label , dist \u001b[39m=\u001b[39m labeller\u001b[39m.\u001b[39;49madd_label(boat24_data_raw\u001b[39m.\u001b[39;49miloc[i][\u001b[39m'\u001b[39;49m\u001b[39mtitle\u001b[39;49m\u001b[39m'\u001b[39;49m]\u001b[39m.\u001b[39;49mlower()\u001b[39m.\u001b[39;49msplit(\u001b[39m\"\u001b[39;49m\u001b[39m \u001b[39;49m\u001b[39m\"\u001b[39;49m))\n\u001b[0;32m      <a href='vscode-notebook-cell:/c%3A/Users/chris/OneDrive/Dokumenter/GitHub/SailFGVC/boat24/boat24_scraper.ipynb#W6sZmlsZQ%3D%3D?line=3'>4</a>\u001b[0m     \u001b[39mprint\u001b[39m(Name_Classes[label] , dist)\n\u001b[0;32m      <a href='vscode-notebook-cell:/c%3A/Users/chris/OneDrive/Dokumenter/GitHub/SailFGVC/boat24/boat24_scraper.ipynb#W6sZmlsZQ%3D%3D?line=4'>5</a>\u001b[0m     \u001b[39mbreak\u001b[39;00m\n",
      "File \u001b[1;32mc:\\Users\\chris\\OneDrive\\Dokumenter\\GitHub\\SailFGVC\\boat24\\Labeller.py:19\u001b[0m, in \u001b[0;36mLabeller.add_label\u001b[1;34m(self, text)\u001b[0m\n\u001b[0;32m     17\u001b[0m similarities \u001b[39m=\u001b[39m [\u001b[39mself\u001b[39m\u001b[39m.\u001b[39mcosine_similarity(boat_name, label) \u001b[39mfor\u001b[39;00m label \u001b[39min\u001b[39;00m \u001b[39mself\u001b[39m\u001b[39m.\u001b[39membedded_labels]\n\u001b[0;32m     18\u001b[0m closest \u001b[39m=\u001b[39m np\u001b[39m.\u001b[39margmax(similarities)\n\u001b[1;32m---> 19\u001b[0m \u001b[39mif\u001b[39;00m similarities[closest] \u001b[39m>\u001b[39m \u001b[39m0.8\u001b[39m:\n\u001b[0;32m     20\u001b[0m     \u001b[39mreturn\u001b[39;00m \u001b[39mTrue\u001b[39;00m , closest , similarities[closest]\n\u001b[0;32m     21\u001b[0m \u001b[39melse\u001b[39;00m:\n",
      "\u001b[1;31mIndexError\u001b[0m: list index out of range"
     ]
    }
   ],
   "source": [
    "for i in range(len(boat24_data_raw)):\n",
    "    print(boat24_data_raw.iloc[i]['title'].lower().split(\" \"))\n",
    "    found , label , dist = labeller.add_label(boat24_data_raw.iloc[i]['title'].lower().split(\" \"))\n",
    "    print(Name_Classes[label] , dist)\n",
    "    break\n"
   ]
  },
  {
   "cell_type": "code",
   "execution_count": 6,
   "metadata": {},
   "outputs": [],
   "source": [
    "# Average hash computation.\n",
    "# See:\n",
    "# https://www.hackerfactor.com/blog/index.php?/archives/432-Looks-Like-It.html\n",
    "def average_hasher(image):\n",
    "  # Read image.\n",
    "  img = PIL.Image.open(image)\n",
    "\n",
    "  # Simplify image by reducing its size and colors.\n",
    "  pixels = img.convert(\"L\").resize((8, 8), Image.ANTIALIAS).getdata()\n",
    "\n",
    "  # Get the average pixel value.\n",
    "  sum = 0.0\n",
    "  for p in pixels: sum += p\n",
    "  mean = sum / 64\n",
    "\n",
    "  # Generate the hash by comparing each pixel's value to the average.\n",
    "  bits = 0\n",
    "  for p in pixels:\n",
    "    bits <<= 1\n",
    "    if p > mean: bits |= 1\n",
    "\n",
    "  return \"%016x\" % bits, img.width, img.height"
   ]
  }
 ],
 "metadata": {
  "kernelspec": {
   "display_name": "Python 3",
   "language": "python",
   "name": "python3"
  },
  "language_info": {
   "codemirror_mode": {
    "name": "ipython",
    "version": 3
   },
   "file_extension": ".py",
   "mimetype": "text/x-python",
   "name": "python",
   "nbconvert_exporter": "python",
   "pygments_lexer": "ipython3",
   "version": "3.10.7"
  },
  "orig_nbformat": 4
 },
 "nbformat": 4,
 "nbformat_minor": 2
}
