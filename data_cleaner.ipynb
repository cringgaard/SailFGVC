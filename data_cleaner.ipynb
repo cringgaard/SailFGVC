{
 "cells": [
  {
   "cell_type": "code",
   "execution_count": null,
   "metadata": {},
   "outputs": [],
   "source": [
    "import numpy as np\n",
    "import pandas as pd\n",
    "from data.classes import *\n",
    "import re\n",
    "import os\n",
    "from nltk.tokenize import word_tokenize\n",
    "from tqdm import tqdm\n",
    "from Labeller import Labeller\n",
    "import os\n",
    "from bs4 import BeautifulSoup\n",
    "import urllib.request as img_request"
   ]
  },
  {
   "cell_type": "code",
   "execution_count": null,
   "metadata": {},
   "outputs": [],
   "source": [
    "cwd = os.getcwd()\n",
    "data_dir = \"data/\"\n",
    "img_dir = \"E:/data/images/\""
   ]
  },
  {
   "cell_type": "code",
   "execution_count": null,
   "metadata": {},
   "outputs": [],
   "source": []
  },
  {
   "cell_type": "code",
   "execution_count": null,
   "metadata": {},
   "outputs": [],
   "source": [
    "url_name_image_tag = re.compile(r'data-link=\\\"(https://www\\.boat24\\.com/en/sailingboats/.{1,100}?\\d\\/)\\\"[^¤]*?title=\\\"(.{1,40})\\\"><div class=\\\"blurb__image-area\\\".+?srcset=\\\"(https://static\\.b24\\.co/fotos.+?\\.jpg)')\n",
    "image_tag = re.compile(r'src=\\\"(https://static\\.b24\\.co/fotos.+?\\.jpg)')"
   ]
  },
  {
   "cell_type": "code",
   "execution_count": null,
   "metadata": {},
   "outputs": [],
   "source": []
  },
  {
   "cell_type": "code",
   "execution_count": null,
   "metadata": {},
   "outputs": [],
   "source": [
    "boat24_data_raw = pd.read_csv(os.path.join(data_dir, \"boat24_data_raw.csv\"))\n",
    "sailboatdata_data = pd.read_csv(os.path.join(data_dir, \"boat_data_clean.csv\"))\n",
    "\n",
    "\n",
    "for i in tqdm(range(0,boat24_data_raw.__len__())):\n",
    "    found , name , distance = labeller.add_label(boat24_data_raw['name'][i])\n",
    "    if found and not (boat24_data_raw['url'][i] == already_scraped['url']).any():\n",
    "        images = re.findall(image_tag , boat24_data_raw['html'][i])\n",
    "        print(Name_Classes[name])\n",
    "        for image in images:\n",
    "            file_name = \"boat24_\"+str(counter).zfill(5)+\".jpg\"\n",
    "            img_path = os.path.join(img_dir,\"boat24\" , file_name)\n",
    "            img_request.urlretrieve(image,img_path)\n",
    "            row = sailboatdata_data[sailboatdata_data['name'] == name].iloc[0].to_frame().T\n",
    "            row['img_path'] = file_name\n",
    "            row['img_url'] = image\n",
    "            boat24_data_clean = pd.concat([boat24_data_clean , row])\n",
    "            counter += 1\n",
    "boat24_data_clean.to_csv(os.path.join(data_dir,\"boat24_data_clean.csv\") , index=False)\n",
    "boat24_data_raw['url'].to_csv(os.path.join(data_dir,\"already_scraped.csv\") , index=False)\n"
   ]
  },
  {
   "cell_type": "code",
   "execution_count": null,
   "metadata": {},
   "outputs": [],
   "source": [
    "data_dir = os.path.join(os.getcwd(), \"data\")"
   ]
  },
  {
   "attachments": {},
   "cell_type": "markdown",
   "metadata": {},
   "source": [
    "# Sailboatdata"
   ]
  },
  {
   "cell_type": "code",
   "execution_count": null,
   "metadata": {},
   "outputs": [],
   "source": [
    "pd.set_option('display.max_columns', None)\n",
    "data_raw = pd.read_csv(\"boat_data.csv\")\n",
    "data_raw"
   ]
  },
  {
   "cell_type": "code",
   "execution_count": null,
   "metadata": {},
   "outputs": [],
   "source": [
    "units_cleaner_tag = re.compile(r'([\\d.]+)(\\s*m|\\s*kg)(<.*>)*')"
   ]
  },
  {
   "cell_type": "code",
   "execution_count": null,
   "metadata": {},
   "outputs": [],
   "source": [
    "def clean_row(row):\n",
    "  cleaned_row = []\n",
    "  for i in range(len(row)):\n",
    "    if i != 32:\n",
    "      try:\n",
    "        cleaned_row.append(float(re.sub(units_cleaner_tag , r'\\g<1>' , row[i].replace(',','') , )))\n",
    "      except:\n",
    "        cleaned_row.append(row[i])\n",
    "    else:\n",
    "      cleaned_row.append(row[i])\n",
    "  return cleaned_row"
   ]
  },
  {
   "cell_type": "code",
   "execution_count": null,
   "metadata": {},
   "outputs": [],
   "source": [
    "cleaned_data = []\n",
    "for i , row in data_raw.iterrows():\n",
    "  cleaned_data.append(clean_row(row))"
   ]
  },
  {
   "cell_type": "code",
   "execution_count": null,
   "metadata": {},
   "outputs": [],
   "source": [
    "data_clean = pd.DataFrame(cleaned_data , columns = data_raw.columns)\n",
    "try:\n",
    "  data_clean.drop(columns = ['Unnamed: 0'] , inplace=True) # Remove an error I made when saving scraped data\n",
    "except:\n",
    "  pass"
   ]
  },
  {
   "cell_type": "code",
   "execution_count": null,
   "metadata": {},
   "outputs": [],
   "source": [
    "for i in range(0,len(data_clean)):\n",
    "    path = \"data/images/\"+str(data_clean['name'][i]).replace(\" \",\"_\").replace(\"/\",\"_\")\n",
    "    try:\n",
    "        if len(os.listdir(path)) == 0:\n",
    "            os.rmdir(path)\n",
    "            data_clean.drop(axis = \"index\" , index=i , inplace=True)\n",
    "        else:\n",
    "            pass\n",
    "    except:\n",
    "        # print(\"No dir named\" , path)\n",
    "        data_clean.drop(axis = \"index\" , index=i , inplace=True)\n",
    "\n",
    "data_clean.to_csv(\"boat_data_cleaned.csv\" , index=False)\n"
   ]
  },
  {
   "cell_type": "code",
   "execution_count": null,
   "metadata": {},
   "outputs": [],
   "source": [
    "\"data/images/\"+str('COOPER 416 TM').replace(\" \",\"_\").replace(\"/\",\"_\")"
   ]
  },
  {
   "cell_type": "code",
   "execution_count": null,
   "metadata": {},
   "outputs": [],
   "source": [
    "data_clean.index[(data_clean['name'].eq('49ERFX'))].tolist()[0]"
   ]
  },
  {
   "cell_type": "code",
   "execution_count": null,
   "metadata": {},
   "outputs": [],
   "source": [
    "data_clean.__len__()"
   ]
  },
  {
   "cell_type": "code",
   "execution_count": null,
   "metadata": {},
   "outputs": [],
   "source": [
    "pd.factorize(data_clean['Hull Type'])"
   ]
  },
  {
   "attachments": {},
   "cell_type": "markdown",
   "metadata": {},
   "source": [
    "# Boat24"
   ]
  },
  {
   "cell_type": "code",
   "execution_count": null,
   "metadata": {},
   "outputs": [],
   "source": []
  },
  {
   "cell_type": "code",
   "execution_count": null,
   "metadata": {},
   "outputs": [],
   "source": []
  },
  {
   "cell_type": "code",
   "execution_count": null,
   "metadata": {},
   "outputs": [],
   "source": []
  },
  {
   "cell_type": "code",
   "execution_count": null,
   "metadata": {},
   "outputs": [],
   "source": [
    "boat24_data['name'].astype('category').cat.codes.plot(kind='hist')"
   ]
  }
 ],
 "metadata": {
  "kernelspec": {
   "display_name": "Python 3",
   "language": "python",
   "name": "python3"
  },
  "language_info": {
   "codemirror_mode": {
    "name": "ipython",
    "version": 3
   },
   "file_extension": ".py",
   "mimetype": "text/x-python",
   "name": "python",
   "nbconvert_exporter": "python",
   "pygments_lexer": "ipython3",
   "version": "3.10.7"
  },
  "orig_nbformat": 4,
  "vscode": {
   "interpreter": {
    "hash": "edf259275ad4a72d4dd5b452264ad5fb2b635233dff2a31edc6ebc740e55e21b"
   }
  }
 },
 "nbformat": 4,
 "nbformat_minor": 2
}
