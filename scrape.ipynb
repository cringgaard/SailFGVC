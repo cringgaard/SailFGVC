{
 "cells": [
  {
   "cell_type": "code",
   "execution_count": null,
   "metadata": {},
   "outputs": [],
   "source": [
    "import re\n",
    "import requests\n",
    "import urllib.request as img_request\n",
    "import time\n",
    "from tqdm import tqdm\n",
    "import pandas as pd\n",
    "import json \n",
    "import matplotlib.pyplot as plt\n",
    "from PIL import Image\n",
    "from os import makedirs\n",
    "from os import listdir\n",
    "from os import getcwd\n",
    "import os\n",
    "from data.classes import *\n",
    "import numpy as np\n",
    "from bs4 import BeautifulSoup\n",
    "from Labeller import Labeller\n",
    "import PIL\n",
    "import torchvision\n",
    "import glob\n",
    "import torch\n",
    "import io\n",
    "\n",
    "from sklearn.model_selection import train_test_split"
   ]
  },
  {
   "attachments": {},
   "cell_type": "markdown",
   "metadata": {},
   "source": [
    "# Init"
   ]
  },
  {
   "attachments": {},
   "cell_type": "markdown",
   "metadata": {},
   "source": [
    "Defining important directories as variables"
   ]
  },
  {
   "cell_type": "code",
   "execution_count": null,
   "metadata": {},
   "outputs": [],
   "source": [
    "cwd = getcwd()\n",
    "data_dir = \"data/\"\n",
    "img_dir = \"E:/data/images/\""
   ]
  },
  {
   "attachments": {},
   "cell_type": "markdown",
   "metadata": {},
   "source": [
    "Defining regex tags"
   ]
  },
  {
   "cell_type": "code",
   "execution_count": null,
   "metadata": {},
   "outputs": [],
   "source": [
    "if not (os.path.exists(data_dir)):\n",
    "    print(\"Making dir\" , data_dir)\n",
    "    makedirs(data_dir)\n",
    "\n",
    "if not(os.path.exists(img_dir)):\n",
    "    print(\"Making dir\" , img_dir)\n",
    "    makedirs(img_dir)\n",
    "\n",
    "if not(os.path.exists(img_dir+\"/boat24\")):\n",
    "    print(\"Making dir\" , img_dir+\"/boat24\")\n",
    "    makedirs(img_dir+\"/boat24\")\n",
    "\n",
    "if not(os.path.exists(img_dir+\"/image_search\")):\n",
    "    print(\"Making dir\" , img_dir+\"/image_search\")\n",
    "    makedirs(img_dir+\"/image_search\")"
   ]
  },
  {
   "attachments": {},
   "cell_type": "markdown",
   "metadata": {},
   "source": [
    "# Scraping"
   ]
  },
  {
   "attachments": {},
   "cell_type": "markdown",
   "metadata": {},
   "source": [
    "## Sailboatdata.com"
   ]
  },
  {
   "cell_type": "code",
   "execution_count": null,
   "metadata": {},
   "outputs": [],
   "source": [
    "n_pages_tag = re.compile(r'<a href=.*page=(\\d*).*/li>') # For getting the amount of pages on the domain\n",
    "\n",
    "name_tag = re.compile(r'<a href=\\\"https://sailboatdata\\.com/sailboat/.*\\\">(.*)</a>') # For making a list of all the boats on sailboatdata\n",
    "\n",
    "specs_tag = re.compile(r'<div class=\\\" col-\\w\\w-\\d*  col-\\w\\w-6 sailboatdata-label \\\">\\s*(.*):\\s</div>\\s<.*\\s*(.*)') # For scraping data from specific boat url\n",
    "\n",
    "image_tag = re.compile(r'(?:photo|drawing)\\\".*src=\\\"(http.*)\\\"/>')\n",
    "\n",
    "photo_draw_tag = re.compile(r'sailboat/(\\w*)')\n",
    "\n",
    "name_description_tag = re.compile(r'title\" content=\"(.+)\"[^½]+?description\" content=\"(.+)\"')"
   ]
  },
  {
   "cell_type": "code",
   "execution_count": null,
   "metadata": {},
   "outputs": [],
   "source": [
    "specs = []\n",
    "categories = []\n",
    "boat_data = pd.DataFrame()\n",
    "counter = 0"
   ]
  },
  {
   "cell_type": "code",
   "execution_count": null,
   "metadata": {},
   "outputs": [],
   "source": [
    "general_url = 'https://sailboatdata.com/sailboat?page={}&paginate=25'\n",
    "\n",
    "print(\"Connecting to\" , general_url.format(1))\n",
    "init_request = requests.get(general_url.format(1))\n",
    "print(init_request.status_code)\n",
    "pages = re.findall(n_pages_tag , init_request.text)\n",
    "n_pages = pages[-1]\n",
    "\n",
    "boat_types = []\n",
    "for i in tqdm(range (1,int(n_pages)+1)):\n",
    "  # print(\"Connecting to\" , general_url.format(i))\n",
    "  r = requests.get(general_url.format(i))\n",
    "  # print(r.status_code)\n",
    "  boat_types += re.findall(name_tag,r.text)\n",
    "  time.sleep(0.5) #To not throw too many requests at the website\n",
    "\n",
    "print(len(boat_types))"
   ]
  },
  {
   "cell_type": "code",
   "execution_count": null,
   "metadata": {},
   "outputs": [],
   "source": []
  },
  {
   "cell_type": "code",
   "execution_count": null,
   "metadata": {},
   "outputs": [],
   "source": [
    "for boat in boat_types:\n",
    "    # GETTNG REQUEST\n",
    "    print(\"Scraping\",boat,\"...\")\n",
    "    r = requests.get(\"https://sailboatdata.com/sailboat/{}?units=metric\".format(boat.replace(\" \",\"-\").replace(\"(\",\"\").replace(\")\",\"\").replace(\".\",\"\")))\n",
    "    raw_text = r.text\n",
    "\n",
    "    # SCRAPING IMAGES\n",
    "    images = re.findall(image_tag,raw_text)\n",
    "    print(\"         -------scraping\")\n",
    "    for image in images:\n",
    "        img_path = str(counter).zfill(5)+\".jpg\"\n",
    "        if not os.path.isfile(img_path):\n",
    "            counter += 1\n",
    "            print(image)\n",
    "            try:\n",
    "                img_request.urlretrieve(image,os.path.join(img_dir,'sailboatdata')+img_path)\n",
    "            except:\n",
    "                print(\"Strange url\" , image.replace(\" \",\"%20\"))\n",
    "                try:\n",
    "                    img_request.urlretrieve(image,img_dir+img_path)\n",
    "                except:\n",
    "                    has_image = False\n",
    "\n",
    "            # SCRAPING SPECS\n",
    "            categories_specs = re.findall(specs_tag,raw_text)\n",
    "            specs = [el[1] for el in categories_specs]\n",
    "            categories = [el[0] for el in categories_specs]\n",
    "            new_row = {categories[i]: specs[i] for i in range(len(categories))}\n",
    "            new_row['name'] = boat\n",
    "            new_row['img_path'] = img_path\n",
    "            boat_data = pd.concat([boat_data, pd.DataFrame([new_row])], ignore_index=True)\n",
    "\n",
    "\n",
    "\n",
    "    print(\"Done\\n\")\n",
    "    if counter%100 == 1:\n",
    "        print(\"saving\")\n",
    "        boat_data.to_csv(data_dir+\"boat_data.csv\" , index=False)\n",
    "boat_data.to_csv(data_dir+\"boat_data.csv\" , index = False)"
   ]
  },
  {
   "cell_type": "code",
   "execution_count": null,
   "metadata": {},
   "outputs": [],
   "source": [
    "pd.set_option('display.max_columns', None)\n",
    "data_raw = pd.read_csv(data_dir+\"boat_data.csv\")\n",
    "data_raw"
   ]
  },
  {
   "attachments": {},
   "cell_type": "markdown",
   "metadata": {},
   "source": [
    "## boat24.com"
   ]
  },
  {
   "attachments": {},
   "cell_type": "markdown",
   "metadata": {},
   "source": [
    "regex"
   ]
  },
  {
   "cell_type": "code",
   "execution_count": null,
   "metadata": {},
   "outputs": [],
   "source": [
    "n_pages_tag = re.compile(r'\\?page=(\\d{3,})') # For getting the amount of pages on the domain\n",
    "\n",
    "# name_and_url_tag = re.compile(r'__title\\\"><a href=\\\"(https://www\\.boat24\\.com.+)\\\"\\stitle=\\\"(.+?)\\\"\\s>')\n",
    "\n",
    "# image_tag = re.compile(r'srcset=\\\"(https://[^\\s]+?\\.jpg) \\d[^2]')\n",
    "\n",
    "# name_tag = re.compile(r'\\\"blurb__title\\\"><a.+?title=\\\"(.+?)\\\"\\s*')\n",
    "# image_tag=re.compile(r'<div class=\\\"blurb__image-area\\\".+?srcset=\\\"(https://static\\.b24\\.co/fotos.+?\\.jpg)|(https://www\\.boat24\\.com/img/icons/boat-types/mynd/type-1-230\\.png)')\n",
    "# url_tag = re.compile(r'<a href=\\\"(https://www\\.boat24\\.com/en/sailingboats/.+)')\n",
    "url_name_image_tag = re.compile(r'data-link=\\\"(https://www\\.boat24\\.com/en/sailingboats/.{1,100}?\\d\\/)\\\"[^¤]*?title=\\\"(.{1,40})\\\"><div class=\\\"blurb__image-area\\\".+?srcset=\\\"(https://static\\.b24\\.co/fotos.+?\\.jpg)')\n",
    "image_tag = re.compile(r'src=\\\"(https://static\\.b24\\.co/fotos.+?\\.jpg)')"
   ]
  },
  {
   "cell_type": "code",
   "execution_count": null,
   "metadata": {},
   "outputs": [],
   "source": [
    "def scrape(url , tag):\n",
    "    r = requests.get(url)\n",
    "    retval = re.findall(tag , r.text)\n",
    "    return list(zip(*retval))"
   ]
  },
  {
   "cell_type": "code",
   "execution_count": null,
   "metadata": {},
   "outputs": [],
   "source": [
    "# sailboatdata_data = pd.read_csv(os.path.join(data_dir, \"boat_data_clean.csv\"))\n",
    "# try:\n",
    "#     boat24_data_raw = pd.read_csv(os.path.join(data_dir, \"boat24_data_raw.csv\"))\n",
    "# except:\n",
    "#     boat24_data_raw = pd.DataFrame(columns = [\"url\",\"name\",\"img_url , html\"])\n",
    "# class Labeller:\n",
    "#     def __init__(self , boat_names = Name_Classes.values(), embedding_size = 2**8):\n",
    "#         self.boat_names = boat_names\n",
    "#         self.onehot_map = {}\n",
    "#         self.embedding_size = embedding_size\n",
    "#         self.str2label = {v: k for k, v in Name_Classes.items()}\n",
    "#         for boat in boat_names:\n",
    "#             self.onehot_encode(boat)\n",
    "#         self.label2embedding = {k: self.onehot_encode(v) for k, v in sorted(Name_Classes.items())}\n",
    "\n",
    "#     def onehot_encode(self, boat_name):\n",
    "#         retval = np.zeros(self.embedding_size)\n",
    "#         for char in boat_name.upper():\n",
    "#             try:\n",
    "#                 retval += self.onehot_map[char]\n",
    "#             except:\n",
    "#                 embedding = np.zeros(2**8)\n",
    "#                 embedding[len(self.onehot_map.keys())] = 1\n",
    "#                 self.onehot_map[char] = embedding\n",
    "#                 retval += self.onehot_map[char]\n",
    "#         return retval\n",
    "    \n",
    "#     def add_label(self , boat_name , distance_threshold = 2):\n",
    "#         try:\n",
    "#             return True , self.str2label[boat_name.upper()] , 0\n",
    "#         except:\n",
    "#             embedding = self.onehot_encode(boat_name)\n",
    "#             distances = np.linalg.norm(embedding - np.array(list(self.label2embedding.values())), axis=1)\n",
    "#             return_label = np.argmin(distances)\n",
    "#             if distances[return_label] < distance_threshold:\n",
    "#                 # print(boat_name+\" not found adding label\" , Name_Classes[int(return_label)]+\" with the distance\" , distances[return_label])\n",
    "#                 return True , return_label , distances[return_label]\n",
    "#             else:\n",
    "#                 # print(boat_name+\" not found closest was\" , Name_Classes[int(return_label)]+\" with the distance\" , distances[return_label])\n",
    "#                 return False , return_label , distances[return_label]"
   ]
  },
  {
   "cell_type": "code",
   "execution_count": null,
   "metadata": {},
   "outputs": [],
   "source": [
    "urls_test , names_test , images_test = scrape(\"https://www.boat24.com/en/sailingboats/?page=1\" , url_name_image_tag)\n",
    "print(urls_test)\n",
    "print(names_test)\n",
    "print(images_test)"
   ]
  },
  {
   "cell_type": "code",
   "execution_count": null,
   "metadata": {},
   "outputs": [],
   "source": [
    "boat24_data_raw = pd.read_csv('data/boat24_data_raw.csv')\n",
    "sailboatdata_data = pd.read_csv('data/boat_data_clean.csv')\n",
    "boat_names = [Name_Classes[x] for x in sailboatdata_data['name'].unique()]\n",
    "\n",
    "try:\n",
    "    already_scraped = pd.read_csv(os.path.join(data_dir, \"already_scraped.csv\") , header=None)\n",
    "except:\n",
    "    already_scraped = pd.DataFrame(['dummy_url'])\n",
    "try:\n",
    "    boat24_data_clean = pd.read_csv(os.path.join(data_dir, \"boat24_data_clean.csv\"))\n",
    "except:\n",
    "    boat24_data_clean = pd.DataFrame(columns = sailboatdata_data.columns)"
   ]
  },
  {
   "cell_type": "code",
   "execution_count": null,
   "metadata": {},
   "outputs": [],
   "source": [
    "init_request = requests.get(\"https://www.boat24.com/en/sailingboats/?page=0\")\n",
    "n_pages = re.findall(n_pages_tag , init_request.text)\n",
    "print(int(n_pages[0]))\n",
    "\n",
    "urls = []\n",
    "names = []\n",
    "images = []\n",
    "html = []\n",
    "\n",
    "\n",
    "for i in tqdm(range(0,int(n_pages[0])+1,20)):\n",
    "    url_list , name_list , image_list = scrape(\"https://www.boat24.com/en/sailingboats/?page={}\".format(i) , url_name_image_tag)\n",
    "    urls += url_list\n",
    "    names += name_list\n",
    "    images += image_list\n",
    "    html += [requests.get(url).text for url in url_list]\n",
    "\n",
    "    time.sleep(0.1) #To not throw too many requests at the website\n",
    "boat24_data_raw = pd.concat([boat24_data_raw , pd.DataFrame({\"url\":urls , \"name\":names , \"img_url\":images , \"html\":html})])\n",
    "boat24_data_raw.drop_duplicates(subset=['url'] , keep='first')\n",
    "boat24_data_raw['name'] = boat24_data_raw['name'].str.upper()\n",
    "boat24_data_raw.to_csv(data_dir+\"boat24_data_raw.csv\" , index = False)\n",
    "    "
   ]
  },
  {
   "cell_type": "code",
   "execution_count": null,
   "metadata": {},
   "outputs": [],
   "source": [
    "# Could use UrlListCrawler with:\n",
    "# from icrawler.builtin import UrlListCrawler to download using more threads\n",
    "# see https://icrawler.readthedocs.io/en/latest/builtin.html"
   ]
  },
  {
   "cell_type": "code",
   "execution_count": null,
   "metadata": {},
   "outputs": [],
   "source": [
    "boat24_data_clean"
   ]
  },
  {
   "cell_type": "code",
   "execution_count": 24,
   "metadata": {},
   "outputs": [
    {
     "name": "stderr",
     "output_type": "stream",
     "text": [
      " 94%|█████████▎| 3737/3990 [2:58:06<15:10,  3.60s/it]"
     ]
    },
    {
     "name": "stdout",
     "output_type": "stream",
     "text": [
      "Setting BENETEAU OCEANIS 351 to OCEANIS 351 (BENETEAU) with distance [1.]\n"
     ]
    },
    {
     "name": "stderr",
     "output_type": "stream",
     "text": [
      " 94%|█████████▎| 3738/3990 [2:58:20<28:08,  6.70s/it]"
     ]
    },
    {
     "name": "stdout",
     "output_type": "stream",
     "text": [
      "Setting DELPHIA 37.3 to DELPHIA 37.3 with distance [1.]\n"
     ]
    },
    {
     "name": "stderr",
     "output_type": "stream",
     "text": [
      " 94%|█████████▎| 3739/3990 [2:58:33<35:46,  8.55s/it]"
     ]
    },
    {
     "name": "stdout",
     "output_type": "stream",
     "text": [
      "Setting BALI CATAMARANS BALI 4.0 to BALI 4.1 with distance [0.89442719]\n"
     ]
    },
    {
     "name": "stderr",
     "output_type": "stream",
     "text": [
      " 94%|█████████▎| 3740/3990 [2:58:37<29:49,  7.16s/it]"
     ]
    },
    {
     "name": "stdout",
     "output_type": "stream",
     "text": [
      "Setting BAVARIA CRUISER 37 to BAVARIA CRUISER 37 with distance [1.]\n"
     ]
    },
    {
     "name": "stderr",
     "output_type": "stream",
     "text": [
      " 94%|█████████▍| 3742/3990 [2:58:49<24:39,  5.96s/it]c:\\Users\\chris\\OneDrive\\Dokumenter\\GitHub\\SailFGVC\\Labeller.py:13: RuntimeWarning: invalid value encountered in divide\n",
      "  return (np.dot(a,b)/(norm(a)*norm(b)))\n",
      " 94%|█████████▍| 3743/3990 [2:58:49<17:23,  4.22s/it]"
     ]
    },
    {
     "name": "stdout",
     "output_type": "stream",
     "text": [
      "Setting EMKA 36 to LAPWORTH 36 (L-36) with distance [0.89442719]\n",
      "Setting JEANNEAU SUN ODYSSEY 45 to SUN ODYSSEY 45 (JEANNEAU) with distance [1.]\n"
     ]
    },
    {
     "name": "stderr",
     "output_type": "stream",
     "text": [
      " 94%|█████████▍| 3746/3990 [2:58:55<09:31,  2.34s/it]"
     ]
    },
    {
     "name": "stdout",
     "output_type": "stream",
     "text": [
      "Setting NAUTOR SWAN 36 S&S to SWAN 36 with distance [0.81649658]\n"
     ]
    },
    {
     "name": "stderr",
     "output_type": "stream",
     "text": [
      " 94%|█████████▍| 3748/3990 [2:59:05<13:33,  3.36s/it]"
     ]
    },
    {
     "name": "stdout",
     "output_type": "stream",
     "text": [
      "Setting CATANA 65 to CATANA 65 with distance [1.]\n"
     ]
    },
    {
     "name": "stderr",
     "output_type": "stream",
     "text": [
      " 94%|█████████▍| 3750/3990 [2:59:21<19:39,  4.91s/it]"
     ]
    },
    {
     "name": "stdout",
     "output_type": "stream",
     "text": [
      "Setting DEHLER 41 CR to DEHLER 41 CR with distance [1.]\n"
     ]
    },
    {
     "name": "stderr",
     "output_type": "stream",
     "text": [
      " 94%|█████████▍| 3751/3990 [2:59:27<21:13,  5.33s/it]"
     ]
    },
    {
     "name": "stdout",
     "output_type": "stream",
     "text": [
      "Setting REX MARIN APHRODITE 42 to APHRODITE 42 with distance [1.]\n"
     ]
    },
    {
     "name": "stderr",
     "output_type": "stream",
     "text": [
      " 94%|█████████▍| 3756/3990 [2:59:40<07:22,  1.89s/it]"
     ]
    },
    {
     "name": "stdout",
     "output_type": "stream",
     "text": [
      "Setting BAVARIA 32 CRUISER to BAVARIA 32 with distance [0.81649658]\n"
     ]
    },
    {
     "name": "stderr",
     "output_type": "stream",
     "text": [
      " 94%|█████████▍| 3757/3990 [2:59:53<20:28,  5.27s/it]"
     ]
    },
    {
     "name": "stdout",
     "output_type": "stream",
     "text": [
      "Setting CONTEST 31 HT to CONTEST 31 HT with distance [1.]\n"
     ]
    },
    {
     "name": "stderr",
     "output_type": "stream",
     "text": [
      " 94%|█████████▍| 3758/3990 [3:00:08<31:29,  8.14s/it]"
     ]
    },
    {
     "name": "stdout",
     "output_type": "stream",
     "text": [
      "Setting HENNINGSEN & STECKMEST SCALAR 36 to LAPWORTH 36 (L-36) with distance [0.89442719]\n"
     ]
    },
    {
     "name": "stderr",
     "output_type": "stream",
     "text": [
      " 94%|█████████▍| 3759/3990 [3:00:16<31:41,  8.23s/it]"
     ]
    },
    {
     "name": "stdout",
     "output_type": "stream",
     "text": [
      "Setting HUNTER 336 to HUNTER 336 with distance [1.]\n"
     ]
    },
    {
     "name": "stderr",
     "output_type": "stream",
     "text": [
      " 94%|█████████▍| 3760/3990 [3:00:25<32:14,  8.41s/it]"
     ]
    },
    {
     "name": "stdout",
     "output_type": "stream",
     "text": [
      "Setting MAESTRO 35 SCHERP JACHT to MAESTRO 35 with distance [1.]\n"
     ]
    },
    {
     "name": "stderr",
     "output_type": "stream",
     "text": [
      " 94%|█████████▍| 3761/3990 [3:00:40<39:18, 10.30s/it]"
     ]
    },
    {
     "name": "stdout",
     "output_type": "stream",
     "text": [
      "Setting B&EACUTEN&EACUTETEAU OCEANIS 46.1 to OCEANIS 46 (BENETEAU) with distance [0.81649658]\n"
     ]
    },
    {
     "name": "stderr",
     "output_type": "stream",
     "text": [
      " 94%|█████████▍| 3762/3990 [3:00:46<34:59,  9.21s/it]c:\\Users\\chris\\AppData\\Local\\Programs\\Python\\Python310\\lib\\site-packages\\bs4\\__init__.py:435: MarkupResemblesLocatorWarning: The input looks more like a filename than markup. You may want to open this file and pass the filehandle into Beautiful Soup.\n",
      "  warnings.warn(\n"
     ]
    },
    {
     "name": "stdout",
     "output_type": "stream",
     "text": [
      "Setting V/D MEULEN KAJUITZEILSCHOUW 700 to S-700 with distance [1.]\n"
     ]
    },
    {
     "name": "stderr",
     "output_type": "stream",
     "text": [
      "c:\\Users\\chris\\AppData\\Local\\Programs\\Python\\Python310\\lib\\site-packages\\bs4\\__init__.py:435: MarkupResemblesLocatorWarning: The input looks more like a filename than markup. You may want to open this file and pass the filehandle into Beautiful Soup.\n",
      "  warnings.warn(\n",
      "c:\\Users\\chris\\AppData\\Local\\Programs\\Python\\Python310\\lib\\site-packages\\bs4\\__init__.py:435: MarkupResemblesLocatorWarning: The input looks more like a filename than markup. You may want to open this file and pass the filehandle into Beautiful Soup.\n",
      "  warnings.warn(\n",
      "c:\\Users\\chris\\AppData\\Local\\Programs\\Python\\Python310\\lib\\site-packages\\bs4\\__init__.py:435: MarkupResemblesLocatorWarning: The input looks more like a filename than markup. You may want to open this file and pass the filehandle into Beautiful Soup.\n",
      "  warnings.warn(\n",
      "c:\\Users\\chris\\AppData\\Local\\Programs\\Python\\Python310\\lib\\site-packages\\bs4\\__init__.py:435: MarkupResemblesLocatorWarning: The input looks more like a filename than markup. You may want to open this file and pass the filehandle into Beautiful Soup.\n",
      "  warnings.warn(\n",
      "c:\\Users\\chris\\AppData\\Local\\Programs\\Python\\Python310\\lib\\site-packages\\bs4\\__init__.py:435: MarkupResemblesLocatorWarning: The input looks more like a filename than markup. You may want to open this file and pass the filehandle into Beautiful Soup.\n",
      "  warnings.warn(\n",
      "c:\\Users\\chris\\AppData\\Local\\Programs\\Python\\Python310\\lib\\site-packages\\bs4\\__init__.py:435: MarkupResemblesLocatorWarning: The input looks more like a filename than markup. You may want to open this file and pass the filehandle into Beautiful Soup.\n",
      "  warnings.warn(\n",
      "c:\\Users\\chris\\AppData\\Local\\Programs\\Python\\Python310\\lib\\site-packages\\bs4\\__init__.py:435: MarkupResemblesLocatorWarning: The input looks more like a filename than markup. You may want to open this file and pass the filehandle into Beautiful Soup.\n",
      "  warnings.warn(\n",
      "c:\\Users\\chris\\AppData\\Local\\Programs\\Python\\Python310\\lib\\site-packages\\bs4\\__init__.py:435: MarkupResemblesLocatorWarning: The input looks more like a filename than markup. You may want to open this file and pass the filehandle into Beautiful Soup.\n",
      "  warnings.warn(\n",
      "c:\\Users\\chris\\AppData\\Local\\Programs\\Python\\Python310\\lib\\site-packages\\bs4\\__init__.py:435: MarkupResemblesLocatorWarning: The input looks more like a filename than markup. You may want to open this file and pass the filehandle into Beautiful Soup.\n",
      "  warnings.warn(\n",
      "c:\\Users\\chris\\AppData\\Local\\Programs\\Python\\Python310\\lib\\site-packages\\bs4\\__init__.py:435: MarkupResemblesLocatorWarning: The input looks more like a filename than markup. You may want to open this file and pass the filehandle into Beautiful Soup.\n",
      "  warnings.warn(\n",
      "c:\\Users\\chris\\AppData\\Local\\Programs\\Python\\Python310\\lib\\site-packages\\bs4\\__init__.py:435: MarkupResemblesLocatorWarning: The input looks more like a filename than markup. You may want to open this file and pass the filehandle into Beautiful Soup.\n",
      "  warnings.warn(\n",
      "c:\\Users\\chris\\AppData\\Local\\Programs\\Python\\Python310\\lib\\site-packages\\bs4\\__init__.py:435: MarkupResemblesLocatorWarning: The input looks more like a filename than markup. You may want to open this file and pass the filehandle into Beautiful Soup.\n",
      "  warnings.warn(\n",
      "c:\\Users\\chris\\AppData\\Local\\Programs\\Python\\Python310\\lib\\site-packages\\bs4\\__init__.py:435: MarkupResemblesLocatorWarning: The input looks more like a filename than markup. You may want to open this file and pass the filehandle into Beautiful Soup.\n",
      "  warnings.warn(\n",
      "c:\\Users\\chris\\AppData\\Local\\Programs\\Python\\Python310\\lib\\site-packages\\bs4\\__init__.py:435: MarkupResemblesLocatorWarning: The input looks more like a filename than markup. You may want to open this file and pass the filehandle into Beautiful Soup.\n",
      "  warnings.warn(\n",
      "c:\\Users\\chris\\AppData\\Local\\Programs\\Python\\Python310\\lib\\site-packages\\bs4\\__init__.py:435: MarkupResemblesLocatorWarning: The input looks more like a filename than markup. You may want to open this file and pass the filehandle into Beautiful Soup.\n",
      "  warnings.warn(\n",
      "c:\\Users\\chris\\AppData\\Local\\Programs\\Python\\Python310\\lib\\site-packages\\bs4\\__init__.py:435: MarkupResemblesLocatorWarning: The input looks more like a filename than markup. You may want to open this file and pass the filehandle into Beautiful Soup.\n",
      "  warnings.warn(\n",
      "c:\\Users\\chris\\AppData\\Local\\Programs\\Python\\Python310\\lib\\site-packages\\bs4\\__init__.py:435: MarkupResemblesLocatorWarning: The input looks more like a filename than markup. You may want to open this file and pass the filehandle into Beautiful Soup.\n",
      "  warnings.warn(\n",
      "c:\\Users\\chris\\AppData\\Local\\Programs\\Python\\Python310\\lib\\site-packages\\bs4\\__init__.py:435: MarkupResemblesLocatorWarning: The input looks more like a filename than markup. You may want to open this file and pass the filehandle into Beautiful Soup.\n",
      "  warnings.warn(\n",
      "c:\\Users\\chris\\AppData\\Local\\Programs\\Python\\Python310\\lib\\site-packages\\bs4\\__init__.py:435: MarkupResemblesLocatorWarning: The input looks more like a filename than markup. You may want to open this file and pass the filehandle into Beautiful Soup.\n",
      "  warnings.warn(\n",
      "c:\\Users\\chris\\AppData\\Local\\Programs\\Python\\Python310\\lib\\site-packages\\bs4\\__init__.py:435: MarkupResemblesLocatorWarning: The input looks more like a filename than markup. You may want to open this file and pass the filehandle into Beautiful Soup.\n",
      "  warnings.warn(\n",
      "c:\\Users\\chris\\AppData\\Local\\Programs\\Python\\Python310\\lib\\site-packages\\bs4\\__init__.py:435: MarkupResemblesLocatorWarning: The input looks more like a filename than markup. You may want to open this file and pass the filehandle into Beautiful Soup.\n",
      "  warnings.warn(\n",
      "c:\\Users\\chris\\AppData\\Local\\Programs\\Python\\Python310\\lib\\site-packages\\bs4\\__init__.py:435: MarkupResemblesLocatorWarning: The input looks more like a filename than markup. You may want to open this file and pass the filehandle into Beautiful Soup.\n",
      "  warnings.warn(\n",
      "c:\\Users\\chris\\AppData\\Local\\Programs\\Python\\Python310\\lib\\site-packages\\bs4\\__init__.py:435: MarkupResemblesLocatorWarning: The input looks more like a filename than markup. You may want to open this file and pass the filehandle into Beautiful Soup.\n",
      "  warnings.warn(\n",
      "c:\\Users\\chris\\AppData\\Local\\Programs\\Python\\Python310\\lib\\site-packages\\bs4\\__init__.py:435: MarkupResemblesLocatorWarning: The input looks more like a filename than markup. You may want to open this file and pass the filehandle into Beautiful Soup.\n",
      "  warnings.warn(\n",
      "c:\\Users\\chris\\AppData\\Local\\Programs\\Python\\Python310\\lib\\site-packages\\bs4\\__init__.py:435: MarkupResemblesLocatorWarning: The input looks more like a filename than markup. You may want to open this file and pass the filehandle into Beautiful Soup.\n",
      "  warnings.warn(\n",
      "c:\\Users\\chris\\AppData\\Local\\Programs\\Python\\Python310\\lib\\site-packages\\bs4\\__init__.py:435: MarkupResemblesLocatorWarning: The input looks more like a filename than markup. You may want to open this file and pass the filehandle into Beautiful Soup.\n",
      "  warnings.warn(\n",
      "c:\\Users\\chris\\AppData\\Local\\Programs\\Python\\Python310\\lib\\site-packages\\bs4\\__init__.py:435: MarkupResemblesLocatorWarning: The input looks more like a filename than markup. You may want to open this file and pass the filehandle into Beautiful Soup.\n",
      "  warnings.warn(\n",
      "c:\\Users\\chris\\AppData\\Local\\Programs\\Python\\Python310\\lib\\site-packages\\bs4\\__init__.py:435: MarkupResemblesLocatorWarning: The input looks more like a filename than markup. You may want to open this file and pass the filehandle into Beautiful Soup.\n",
      "  warnings.warn(\n",
      "c:\\Users\\chris\\AppData\\Local\\Programs\\Python\\Python310\\lib\\site-packages\\bs4\\__init__.py:435: MarkupResemblesLocatorWarning: The input looks more like a filename than markup. You may want to open this file and pass the filehandle into Beautiful Soup.\n",
      "  warnings.warn(\n",
      "c:\\Users\\chris\\AppData\\Local\\Programs\\Python\\Python310\\lib\\site-packages\\bs4\\__init__.py:435: MarkupResemblesLocatorWarning: The input looks more like a filename than markup. You may want to open this file and pass the filehandle into Beautiful Soup.\n",
      "  warnings.warn(\n",
      " 94%|█████████▍| 3763/3990 [3:00:56<35:30,  9.39s/it]"
     ]
    },
    {
     "name": "stdout",
     "output_type": "stream",
     "text": [
      "Setting KELSALL 40 SUNCAT to X-40 with distance [1.]\n"
     ]
    },
    {
     "name": "stderr",
     "output_type": "stream",
     "text": [
      " 94%|█████████▍| 3764/3990 [3:01:03<31:55,  8.47s/it]c:\\Users\\chris\\OneDrive\\Dokumenter\\GitHub\\SailFGVC\\Labeller.py:13: RuntimeWarning: invalid value encountered in divide\n",
      "  return (np.dot(a,b)/(norm(a)*norm(b)))\n",
      " 94%|█████████▍| 3765/3990 [3:01:03<22:25,  5.98s/it]"
     ]
    },
    {
     "name": "stdout",
     "output_type": "stream",
     "text": [
      "Setting VICTOIRE 822 to VICTOIRE 855 with distance [1.]\n"
     ]
    },
    {
     "name": "stderr",
     "output_type": "stream",
     "text": [
      " 94%|█████████▍| 3766/3990 [3:01:11<25:19,  6.78s/it]"
     ]
    },
    {
     "name": "stdout",
     "output_type": "stream",
     "text": [
      "Setting PROUT SNOWGOOSE 37 ELITE to SNOWGOOSE 37 ELITE (PROUT) with distance [1.]\n"
     ]
    },
    {
     "name": "stderr",
     "output_type": "stream",
     "text": [
      " 94%|█████████▍| 3767/3990 [3:01:21<28:27,  7.66s/it]"
     ]
    },
    {
     "name": "stdout",
     "output_type": "stream",
     "text": [
      "Setting KEES VAN DE STADT 46 to VAN DE STADT 7.1 with distance [0.8660254]\n"
     ]
    },
    {
     "name": "stderr",
     "output_type": "stream",
     "text": [
      " 94%|█████████▍| 3769/3990 [3:01:39<27:22,  7.43s/it]"
     ]
    },
    {
     "name": "stdout",
     "output_type": "stream",
     "text": [
      "Setting JEANNEAU SUN ODYSSEY 51 to SUN ODYSSEY 51 (JEANNEAU) with distance [1.]\n"
     ]
    },
    {
     "name": "stderr",
     "output_type": "stream",
     "text": [
      " 94%|█████████▍| 3770/3990 [3:01:46<27:37,  7.53s/it]"
     ]
    },
    {
     "name": "stdout",
     "output_type": "stream",
     "text": [
      "Setting CHIQUITA 38 to GLOBE 38 (GY 38) with distance [0.81649658]\n"
     ]
    },
    {
     "name": "stderr",
     "output_type": "stream",
     "text": [
      " 95%|█████████▍| 3771/3990 [3:01:55<29:00,  7.95s/it]"
     ]
    },
    {
     "name": "stdout",
     "output_type": "stream",
     "text": [
      "Setting ARCONAM 41 to X-41 with distance [1.]\n"
     ]
    },
    {
     "name": "stderr",
     "output_type": "stream",
     "text": [
      " 95%|█████████▍| 3772/3990 [3:02:04<30:12,  8.31s/it]"
     ]
    },
    {
     "name": "stdout",
     "output_type": "stream",
     "text": [
      "Setting CORVO SLOOP KLASSIEK ZEILSCHIP to G SLOOP with distance [1.]\n"
     ]
    },
    {
     "name": "stderr",
     "output_type": "stream",
     "text": [
      " 95%|█████████▍| 3773/3990 [3:02:11<28:39,  7.93s/it]"
     ]
    },
    {
     "name": "stdout",
     "output_type": "stream",
     "text": [
      "Setting DUFOUR 40 PERFORMANCE E to DUFOUR 40 with distance [0.81649658]\n"
     ]
    },
    {
     "name": "stderr",
     "output_type": "stream",
     "text": [
      " 95%|█████████▍| 3777/3990 [3:02:17<08:50,  2.49s/it]c:\\Users\\chris\\OneDrive\\Dokumenter\\GitHub\\SailFGVC\\Labeller.py:13: RuntimeWarning: invalid value encountered in divide\n",
      "  return (np.dot(a,b)/(norm(a)*norm(b)))\n",
      " 95%|█████████▍| 3781/3990 [3:02:17<02:29,  1.39it/s]"
     ]
    },
    {
     "name": "stdout",
     "output_type": "stream",
     "text": [
      "Setting HANSE 315 to HANSE 315 with distance [1.]\n"
     ]
    },
    {
     "name": "stderr",
     "output_type": "stream",
     "text": [
      " 95%|█████████▍| 3782/3990 [3:02:23<07:12,  2.08s/it]"
     ]
    },
    {
     "name": "stdout",
     "output_type": "stream",
     "text": [
      "Setting ITALIA YACHTS 12.98 to ITALIA 12.98 with distance [0.8660254]\n"
     ]
    },
    {
     "name": "stderr",
     "output_type": "stream",
     "text": [
      " 95%|█████████▍| 3783/3990 [3:02:31<13:20,  3.86s/it]"
     ]
    },
    {
     "name": "stdout",
     "output_type": "stream",
     "text": [
      "Setting HANSE 348 to HANSE 348 with distance [1.]\n"
     ]
    },
    {
     "name": "stderr",
     "output_type": "stream",
     "text": [
      " 95%|█████████▍| 3784/3990 [3:02:36<15:10,  4.42s/it]"
     ]
    },
    {
     "name": "stdout",
     "output_type": "stream",
     "text": [
      "Setting LAGOON SIXTY 5 to LAGOON SIXTY 5 with distance [1.]\n"
     ]
    },
    {
     "name": "stderr",
     "output_type": "stream",
     "text": [
      " 95%|█████████▍| 3785/3990 [3:02:53<27:13,  7.97s/it]"
     ]
    },
    {
     "name": "stdout",
     "output_type": "stream",
     "text": [
      "Setting EXCESS 14 to EXCESS 14 with distance [1.]\n"
     ]
    },
    {
     "name": "stderr",
     "output_type": "stream",
     "text": [
      " 95%|█████████▍| 3786/3990 [3:02:57<23:50,  7.01s/it]"
     ]
    },
    {
     "name": "stdout",
     "output_type": "stream",
     "text": [
      "Setting HANSE 458 to HANSE 458 with distance [1.]\n"
     ]
    },
    {
     "name": "stderr",
     "output_type": "stream",
     "text": [
      " 95%|█████████▍| 3789/3990 [3:03:03<10:53,  3.25s/it]"
     ]
    },
    {
     "name": "stdout",
     "output_type": "stream",
     "text": [
      "Setting BAVARIA C45 STYLE to C45 (BAVARIA) with distance [1.]\n"
     ]
    },
    {
     "name": "stderr",
     "output_type": "stream",
     "text": [
      " 95%|█████████▍| 3790/3990 [3:03:04<09:11,  2.76s/it]"
     ]
    },
    {
     "name": "stdout",
     "output_type": "stream",
     "text": [
      "Setting HANSE 315 to HANSE 315 with distance [1.]\n"
     ]
    },
    {
     "name": "stderr",
     "output_type": "stream",
     "text": [
      " 95%|█████████▌| 3791/3990 [3:03:07<09:03,  2.73s/it]"
     ]
    },
    {
     "name": "stdout",
     "output_type": "stream",
     "text": [
      "Setting ELAN E4 to ELAN E4 with distance [1.]\n"
     ]
    },
    {
     "name": "stderr",
     "output_type": "stream",
     "text": [
      " 95%|█████████▌| 3792/3990 [3:03:12<11:28,  3.48s/it]"
     ]
    },
    {
     "name": "stdout",
     "output_type": "stream",
     "text": [
      "Setting BAVARIA C38 to C38 (BAVARIA) with distance [1.]\n"
     ]
    },
    {
     "name": "stderr",
     "output_type": "stream",
     "text": [
      " 95%|█████████▌| 3794/3990 [3:03:16<08:17,  2.54s/it]"
     ]
    },
    {
     "name": "stdout",
     "output_type": "stream",
     "text": [
      "Setting EXCESS XCS 11 to EXCESS 11 with distance [1.]\n"
     ]
    },
    {
     "name": "stderr",
     "output_type": "stream",
     "text": [
      " 95%|█████████▌| 3795/3990 [3:03:22<11:48,  3.63s/it]"
     ]
    },
    {
     "name": "stdout",
     "output_type": "stream",
     "text": [
      "Setting FOUNTAINE PAJOT TANNA 47 to TANNA 47 with distance [1.]\n"
     ]
    },
    {
     "name": "stderr",
     "output_type": "stream",
     "text": [
      " 95%|█████████▌| 3798/3990 [3:03:27<06:26,  2.01s/it]c:\\Users\\chris\\OneDrive\\Dokumenter\\GitHub\\SailFGVC\\Labeller.py:13: RuntimeWarning: invalid value encountered in divide\n",
      "  return (np.dot(a,b)/(norm(a)*norm(b)))\n",
      " 95%|█████████▌| 3799/3990 [3:03:28<04:38,  1.46s/it]"
     ]
    },
    {
     "name": "stdout",
     "output_type": "stream",
     "text": [
      "Setting DUFOUR 430 GRAND LARGE to DUFOUR 430 GRAND LARGE with distance [1.]\n"
     ]
    },
    {
     "name": "stderr",
     "output_type": "stream",
     "text": [
      " 95%|█████████▌| 3800/3990 [3:03:32<07:42,  2.43s/it]"
     ]
    },
    {
     "name": "stdout",
     "output_type": "stream",
     "text": [
      "Setting HANSE 348 to HANSE 348 with distance [1.]\n"
     ]
    },
    {
     "name": "stderr",
     "output_type": "stream",
     "text": [
      " 95%|█████████▌| 3801/3990 [3:03:38<10:48,  3.43s/it]"
     ]
    },
    {
     "name": "stdout",
     "output_type": "stream",
     "text": [
      "Setting B&EACUTEN&EACUTETEAU FIRST 24 to FIRST 24 SE (BENETEAU) with distance [0.81649658]\n"
     ]
    },
    {
     "name": "stderr",
     "output_type": "stream",
     "text": [
      " 95%|█████████▌| 3802/3990 [3:03:39<08:08,  2.60s/it]"
     ]
    },
    {
     "name": "stdout",
     "output_type": "stream",
     "text": [
      "Setting DUFOUR 32 to DUFOUR 32 with distance [1.]\n"
     ]
    },
    {
     "name": "stderr",
     "output_type": "stream",
     "text": [
      " 95%|█████████▌| 3803/3990 [3:03:47<13:21,  4.28s/it]"
     ]
    },
    {
     "name": "stdout",
     "output_type": "stream",
     "text": [
      "Setting B&EACUTEN&EACUTETEAU OCEANIS 38.1 to OCEANIS 38 (BENETEAU) with distance [0.81649658]\n"
     ]
    },
    {
     "name": "stderr",
     "output_type": "stream",
     "text": [
      " 95%|█████████▌| 3805/3990 [3:03:50<08:26,  2.74s/it]"
     ]
    },
    {
     "name": "stdout",
     "output_type": "stream",
     "text": [
      "Setting BAVARIA CRUISER 34 to BAVARIA CRUISER 34 with distance [1.]\n"
     ]
    },
    {
     "name": "stderr",
     "output_type": "stream",
     "text": [
      " 95%|█████████▌| 3806/3990 [3:03:55<10:57,  3.58s/it]"
     ]
    },
    {
     "name": "stdout",
     "output_type": "stream",
     "text": [
      "Setting FOUNTAINE PAJOT ELBA 45 to ELBA 45 with distance [1.]\n"
     ]
    },
    {
     "name": "stderr",
     "output_type": "stream",
     "text": [
      " 95%|█████████▌| 3807/3990 [3:04:01<12:42,  4.16s/it]"
     ]
    },
    {
     "name": "stdout",
     "output_type": "stream",
     "text": [
      "Setting B&EACUTEN&EACUTETEAU FIRST 36 to FIRST 36.7 (BENETEAU) with distance [0.81649658]\n"
     ]
    },
    {
     "name": "stderr",
     "output_type": "stream",
     "text": [
      " 95%|█████████▌| 3810/3990 [3:04:06<06:33,  2.19s/it]"
     ]
    },
    {
     "name": "stdout",
     "output_type": "stream",
     "text": [
      "Setting DEHLER 38 SQ to DEHLER 38 SQ with distance [1.]\n"
     ]
    },
    {
     "name": "stderr",
     "output_type": "stream",
     "text": [
      " 96%|█████████▌| 3811/3990 [3:04:13<10:35,  3.55s/it]"
     ]
    },
    {
     "name": "stdout",
     "output_type": "stream",
     "text": [
      "Setting B&EACUTEN&EACUTETEAU FIRST 27 to FIRST 27 SE (BENETEAU) with distance [0.81649658]\n"
     ]
    },
    {
     "name": "stderr",
     "output_type": "stream",
     "text": [
      " 96%|█████████▌| 3812/3990 [3:04:14<08:47,  2.96s/it]"
     ]
    },
    {
     "name": "stdout",
     "output_type": "stream",
     "text": [
      "Setting ITALIA YACHTS 9.98 to ITALIA 9.98 with distance [0.81649658]\n"
     ]
    },
    {
     "name": "stderr",
     "output_type": "stream",
     "text": [
      " 96%|█████████▌| 3813/3990 [3:04:19<10:14,  3.47s/it]c:\\Users\\chris\\OneDrive\\Dokumenter\\GitHub\\SailFGVC\\Labeller.py:13: RuntimeWarning: invalid value encountered in divide\n",
      "  return (np.dot(a,b)/(norm(a)*norm(b)))\n",
      " 96%|█████████▌| 3814/3990 [3:04:19<07:16,  2.48s/it]"
     ]
    },
    {
     "name": "stdout",
     "output_type": "stream",
     "text": [
      "Setting B&EACUTEN&EACUTETEAU FIRST 27 SE to FIRST 27-2 (BENETEAU) with distance [0.8660254]\n"
     ]
    },
    {
     "name": "stderr",
     "output_type": "stream",
     "text": [
      " 96%|█████████▌| 3815/3990 [3:04:23<08:15,  2.83s/it]c:\\Users\\chris\\OneDrive\\Dokumenter\\GitHub\\SailFGVC\\Labeller.py:13: RuntimeWarning: invalid value encountered in divide\n",
      "  return (np.dot(a,b)/(norm(a)*norm(b)))\n",
      " 96%|█████████▌| 3823/3990 [3:04:24<00:51,  3.27it/s]c:\\Users\\chris\\OneDrive\\Dokumenter\\GitHub\\SailFGVC\\Labeller.py:13: RuntimeWarning: invalid value encountered in divide\n",
      "  return (np.dot(a,b)/(norm(a)*norm(b)))\n",
      " 96%|█████████▌| 3824/3990 [3:04:24<00:43,  3.81it/s]c:\\Users\\chris\\OneDrive\\Dokumenter\\GitHub\\SailFGVC\\Labeller.py:13: RuntimeWarning: invalid value encountered in divide\n",
      "  return (np.dot(a,b)/(norm(a)*norm(b)))\n",
      " 96%|█████████▌| 3829/3990 [3:04:25<00:27,  5.85it/s]"
     ]
    },
    {
     "name": "stdout",
     "output_type": "stream",
     "text": [
      "Setting DUFOUR 61 to DUFOUR 61 with distance [1.]\n"
     ]
    },
    {
     "name": "stderr",
     "output_type": "stream",
     "text": [
      " 96%|█████████▌| 3835/3990 [3:04:34<01:25,  1.81it/s]c:\\Users\\chris\\OneDrive\\Dokumenter\\GitHub\\SailFGVC\\Labeller.py:13: RuntimeWarning: invalid value encountered in divide\n",
      "  return (np.dot(a,b)/(norm(a)*norm(b)))\n",
      " 96%|█████████▌| 3838/3990 [3:04:34<00:44,  3.45it/s]c:\\Users\\chris\\OneDrive\\Dokumenter\\GitHub\\SailFGVC\\Labeller.py:13: RuntimeWarning: invalid value encountered in divide\n",
      "  return (np.dot(a,b)/(norm(a)*norm(b)))\n",
      " 96%|█████████▌| 3840/3990 [3:04:34<00:33,  4.51it/s]c:\\Users\\chris\\AppData\\Local\\Programs\\Python\\Python310\\lib\\site-packages\\bs4\\__init__.py:435: MarkupResemblesLocatorWarning: The input looks more like a filename than markup. You may want to open this file and pass the filehandle into Beautiful Soup.\n",
      "  warnings.warn(\n",
      " 96%|█████████▋| 3845/3990 [3:04:35<00:23,  6.11it/s]c:\\Users\\chris\\OneDrive\\Dokumenter\\GitHub\\SailFGVC\\Labeller.py:13: RuntimeWarning: invalid value encountered in divide\n",
      "  return (np.dot(a,b)/(norm(a)*norm(b)))\n",
      " 96%|█████████▋| 3848/3990 [3:04:36<00:22,  6.36it/s]c:\\Users\\chris\\OneDrive\\Dokumenter\\GitHub\\SailFGVC\\Labeller.py:13: RuntimeWarning: invalid value encountered in divide\n",
      "  return (np.dot(a,b)/(norm(a)*norm(b)))\n",
      " 96%|█████████▋| 3850/3990 [3:04:36<00:21,  6.40it/s]c:\\Users\\chris\\OneDrive\\Dokumenter\\GitHub\\SailFGVC\\Labeller.py:13: RuntimeWarning: invalid value encountered in divide\n",
      "  return (np.dot(a,b)/(norm(a)*norm(b)))\n",
      " 97%|█████████▋| 3853/3990 [3:04:36<00:21,  6.47it/s]"
     ]
    },
    {
     "name": "stdout",
     "output_type": "stream",
     "text": [
      "Setting SUNBEAM 22.1 to SUNBEAM 22 with distance [1.]\n"
     ]
    },
    {
     "name": "stderr",
     "output_type": "stream",
     "text": [
      " 97%|█████████▋| 3854/3990 [3:04:38<01:24,  1.61it/s]c:\\Users\\chris\\OneDrive\\Dokumenter\\GitHub\\SailFGVC\\Labeller.py:13: RuntimeWarning: invalid value encountered in divide\n",
      "  return (np.dot(a,b)/(norm(a)*norm(b)))\n",
      " 97%|█████████▋| 3861/3990 [3:04:39<00:24,  5.24it/s]c:\\Users\\chris\\OneDrive\\Dokumenter\\GitHub\\SailFGVC\\Labeller.py:13: RuntimeWarning: invalid value encountered in divide\n",
      "  return (np.dot(a,b)/(norm(a)*norm(b)))\n",
      " 97%|█████████▋| 3865/3990 [3:04:40<00:20,  6.16it/s]c:\\Users\\chris\\OneDrive\\Dokumenter\\GitHub\\SailFGVC\\Labeller.py:13: RuntimeWarning: invalid value encountered in divide\n",
      "  return (np.dot(a,b)/(norm(a)*norm(b)))\n",
      " 97%|█████████▋| 3866/3990 [3:04:40<00:20,  6.17it/s]"
     ]
    },
    {
     "name": "stdout",
     "output_type": "stream",
     "text": [
      "Setting SUNBEAM 22.1 to SUNBEAM 22 with distance [1.]\n"
     ]
    },
    {
     "name": "stderr",
     "output_type": "stream",
     "text": [
      " 97%|█████████▋| 3870/3990 [3:04:42<00:38,  3.14it/s]"
     ]
    },
    {
     "name": "stdout",
     "output_type": "stream",
     "text": [
      "Setting DEHLER 38 SQ to DEHLER 38 SQ with distance [1.]\n"
     ]
    },
    {
     "name": "stderr",
     "output_type": "stream",
     "text": [
      " 97%|█████████▋| 3877/3990 [3:04:51<00:50,  2.23it/s]c:\\Users\\chris\\AppData\\Local\\Programs\\Python\\Python310\\lib\\site-packages\\bs4\\__init__.py:435: MarkupResemblesLocatorWarning: The input looks more like a filename than markup. You may want to open this file and pass the filehandle into Beautiful Soup.\n",
      "  warnings.warn(\n",
      " 97%|█████████▋| 3878/3990 [3:04:51<00:40,  2.78it/s]c:\\Users\\chris\\OneDrive\\Dokumenter\\GitHub\\SailFGVC\\Labeller.py:13: RuntimeWarning: invalid value encountered in divide\n",
      "  return (np.dot(a,b)/(norm(a)*norm(b)))\n",
      " 97%|█████████▋| 3882/3990 [3:04:52<00:21,  4.92it/s]"
     ]
    },
    {
     "name": "stdout",
     "output_type": "stream",
     "text": [
      "Setting DEHLER 29 to DEHLER 29 with distance [1.]\n"
     ]
    },
    {
     "name": "stderr",
     "output_type": "stream",
     "text": [
      " 97%|█████████▋| 3883/3990 [3:04:57<03:02,  1.70s/it]c:\\Users\\chris\\OneDrive\\Dokumenter\\GitHub\\SailFGVC\\Labeller.py:13: RuntimeWarning: invalid value encountered in divide\n",
      "  return (np.dot(a,b)/(norm(a)*norm(b)))\n",
      " 97%|█████████▋| 3884/3990 [3:04:57<02:11,  1.24s/it]c:\\Users\\chris\\OneDrive\\Dokumenter\\GitHub\\SailFGVC\\Labeller.py:13: RuntimeWarning: invalid value encountered in divide\n",
      "  return (np.dot(a,b)/(norm(a)*norm(b)))\n",
      " 98%|█████████▊| 3891/3990 [3:04:59<00:24,  4.11it/s]c:\\Users\\chris\\AppData\\Local\\Programs\\Python\\Python310\\lib\\site-packages\\bs4\\__init__.py:435: MarkupResemblesLocatorWarning: The input looks more like a filename than markup. You may want to open this file and pass the filehandle into Beautiful Soup.\n",
      "  warnings.warn(\n",
      " 98%|█████████▊| 3892/3990 [3:04:59<00:21,  4.63it/s]"
     ]
    },
    {
     "name": "stdout",
     "output_type": "stream",
     "text": [
      "Setting DEHLER 42 to DEHLER 42 with distance [1.]\n"
     ]
    },
    {
     "name": "stderr",
     "output_type": "stream",
     "text": [
      " 98%|█████████▊| 3896/3990 [3:05:05<01:13,  1.28it/s]"
     ]
    },
    {
     "name": "stdout",
     "output_type": "stream",
     "text": [
      "Setting BAVARIA CRUISER 37 to BAVARIA CRUISER 37 with distance [1.]\n"
     ]
    },
    {
     "name": "stderr",
     "output_type": "stream",
     "text": [
      " 98%|█████████▊| 3897/3990 [3:05:06<01:11,  1.30it/s]"
     ]
    },
    {
     "name": "stdout",
     "output_type": "stream",
     "text": [
      "Setting ITALIA YACHTS 14.98 to ITALIA 14.98 with distance [0.8660254]\n"
     ]
    },
    {
     "name": "stderr",
     "output_type": "stream",
     "text": [
      " 98%|█████████▊| 3900/3990 [3:05:11<01:27,  1.03it/s]"
     ]
    },
    {
     "name": "stdout",
     "output_type": "stream",
     "text": [
      "Setting JEANNEAU SUN ODYSSEY 440 to SUN ODYSSEY 440 (JEANNEAU) with distance [1.]\n"
     ]
    },
    {
     "name": "stderr",
     "output_type": "stream",
     "text": [
      " 98%|█████████▊| 3903/3990 [3:05:26<03:51,  2.66s/it]"
     ]
    },
    {
     "name": "stdout",
     "output_type": "stream",
     "text": [
      "Setting B&EACUTEN&EACUTETEAU OCEANIS 34.1 to OCEANIS 34 (BENETEAU) with distance [0.81649658]\n"
     ]
    },
    {
     "name": "stderr",
     "output_type": "stream",
     "text": [
      " 98%|█████████▊| 3906/3990 [3:05:29<01:59,  1.43s/it]c:\\Users\\chris\\OneDrive\\Dokumenter\\GitHub\\SailFGVC\\Labeller.py:13: RuntimeWarning: invalid value encountered in divide\n",
      "  return (np.dot(a,b)/(norm(a)*norm(b)))\n",
      " 98%|█████████▊| 3908/3990 [3:05:30<01:03,  1.28it/s]"
     ]
    },
    {
     "name": "stdout",
     "output_type": "stream",
     "text": [
      "Setting DEHLER 34 to DEHLER 34 with distance [1.]\n"
     ]
    },
    {
     "name": "stderr",
     "output_type": "stream",
     "text": [
      " 98%|█████████▊| 3909/3990 [3:05:36<03:15,  2.42s/it]"
     ]
    },
    {
     "name": "stdout",
     "output_type": "stream",
     "text": [
      "Setting D & D YACHTS KUFNER 54 EXCLUSIVE to JEANNEAU YACHTS 54 with distance [0.81649658]\n"
     ]
    },
    {
     "name": "stderr",
     "output_type": "stream",
     "text": [
      " 98%|█████████▊| 3910/3990 [3:05:47<06:43,  5.05s/it]"
     ]
    },
    {
     "name": "stdout",
     "output_type": "stream",
     "text": [
      "Setting JEANNEAU SUN FAST 3300 to SUN FAST 3300 (JEANNEAU) with distance [1.]\n"
     ]
    },
    {
     "name": "stderr",
     "output_type": "stream",
     "text": [
      " 98%|█████████▊| 3912/3990 [3:05:52<04:33,  3.51s/it]"
     ]
    },
    {
     "name": "stdout",
     "output_type": "stream",
     "text": [
      "Setting EXCESS 11 to EXCESS 11 with distance [1.]\n"
     ]
    },
    {
     "name": "stderr",
     "output_type": "stream",
     "text": [
      " 98%|█████████▊| 3914/3990 [3:06:01<04:40,  3.69s/it]"
     ]
    },
    {
     "name": "stdout",
     "output_type": "stream",
     "text": [
      "Setting ALUBAT OVNI 370 to OVNI 370 with distance [0.81649658]\n"
     ]
    },
    {
     "name": "stderr",
     "output_type": "stream",
     "text": [
      " 98%|█████████▊| 3915/3990 [3:06:06<04:46,  3.82s/it]c:\\Users\\chris\\OneDrive\\Dokumenter\\GitHub\\SailFGVC\\Labeller.py:13: RuntimeWarning: invalid value encountered in divide\n",
      "  return (np.dot(a,b)/(norm(a)*norm(b)))\n",
      " 98%|█████████▊| 3916/3990 [3:06:06<03:21,  2.72s/it]"
     ]
    },
    {
     "name": "stdout",
     "output_type": "stream",
     "text": [
      "Setting DOMANI S30 CLUB to DOMANI S30 with distance [0.81649658]\n"
     ]
    },
    {
     "name": "stderr",
     "output_type": "stream",
     "text": [
      " 98%|█████████▊| 3917/3990 [3:06:06<02:34,  2.11s/it]"
     ]
    },
    {
     "name": "stdout",
     "output_type": "stream",
     "text": [
      "Setting DUFOUR 530 to DUFOUR 530 with distance [1.]\n"
     ]
    },
    {
     "name": "stderr",
     "output_type": "stream",
     "text": [
      " 98%|█████████▊| 3918/3990 [3:06:13<04:03,  3.38s/it]"
     ]
    },
    {
     "name": "stdout",
     "output_type": "stream",
     "text": [
      "Setting SUNBEAM 28.1 to SUNBEAM 28.1 with distance [1.]\n"
     ]
    },
    {
     "name": "stderr",
     "output_type": "stream",
     "text": [
      " 98%|█████████▊| 3920/3990 [3:06:17<02:58,  2.55s/it]"
     ]
    },
    {
     "name": "stdout",
     "output_type": "stream",
     "text": [
      "Setting WINNER 8 ELECTRIC to WINNER 8 with distance [1.]\n"
     ]
    },
    {
     "name": "stderr",
     "output_type": "stream",
     "text": [
      " 98%|█████████▊| 3922/3990 [3:06:23<02:52,  2.54s/it]"
     ]
    },
    {
     "name": "stdout",
     "output_type": "stream",
     "text": [
      "Setting JEANNEAU SUN ODYSSEY 410 to SUN ODYSSEY 410 (JEANNEAU) with distance [1.]\n"
     ]
    },
    {
     "name": "stderr",
     "output_type": "stream",
     "text": [
      " 98%|█████████▊| 3926/3990 [3:06:33<01:49,  1.72s/it]"
     ]
    },
    {
     "name": "stdout",
     "output_type": "stream",
     "text": [
      "Setting DEHLER 42 to DEHLER 42 with distance [1.]\n"
     ]
    },
    {
     "name": "stderr",
     "output_type": "stream",
     "text": [
      " 99%|█████████▊| 3932/3990 [3:06:41<00:40,  1.43it/s]"
     ]
    },
    {
     "name": "stdout",
     "output_type": "stream",
     "text": [
      "Setting ALUBAT OVNI 450 to OVNI 450 with distance [0.81649658]\n"
     ]
    },
    {
     "name": "stderr",
     "output_type": "stream",
     "text": [
      " 99%|█████████▊| 3933/3990 [3:06:43<00:53,  1.06it/s]"
     ]
    },
    {
     "name": "stdout",
     "output_type": "stream",
     "text": [
      "Setting SUNBEAM 28.1 to SUNBEAM 28.1 with distance [1.]\n"
     ]
    },
    {
     "name": "stderr",
     "output_type": "stream",
     "text": [
      " 99%|█████████▊| 3934/3990 [3:06:45<01:09,  1.24s/it]"
     ]
    },
    {
     "name": "stdout",
     "output_type": "stream",
     "text": [
      "Setting SAARE 38.2 to SAARE 38 with distance [1.]\n"
     ]
    },
    {
     "name": "stderr",
     "output_type": "stream",
     "text": [
      " 99%|█████████▊| 3936/3990 [3:06:51<01:47,  2.00s/it]"
     ]
    },
    {
     "name": "stdout",
     "output_type": "stream",
     "text": [
      "Setting B&EACUTEN&EACUTETEAU OCEANIS 34.1 to OCEANIS 34 (BENETEAU) with distance [0.81649658]\n"
     ]
    },
    {
     "name": "stderr",
     "output_type": "stream",
     "text": [
      " 99%|█████████▊| 3937/3990 [3:06:55<02:04,  2.35s/it]"
     ]
    },
    {
     "name": "stdout",
     "output_type": "stream",
     "text": [
      "Setting BAVARIA C42 to C42 (BAVARIA) with distance [1.]\n"
     ]
    },
    {
     "name": "stderr",
     "output_type": "stream",
     "text": [
      " 99%|█████████▊| 3938/3990 [3:06:59<02:42,  3.12s/it]"
     ]
    },
    {
     "name": "stdout",
     "output_type": "stream",
     "text": [
      "Setting DUFOUR 470 to DUFOUR 470 with distance [1.]\n"
     ]
    },
    {
     "name": "stderr",
     "output_type": "stream",
     "text": [
      " 99%|█████████▊| 3940/3990 [3:07:06<02:22,  2.85s/it]"
     ]
    },
    {
     "name": "stdout",
     "output_type": "stream",
     "text": [
      "Setting WINNER 9 ELECTRIC to WINNER 8 with distance [1.]\n"
     ]
    },
    {
     "name": "stderr",
     "output_type": "stream",
     "text": [
      " 99%|█████████▉| 3941/3990 [3:07:13<03:26,  4.22s/it]"
     ]
    },
    {
     "name": "stdout",
     "output_type": "stream",
     "text": [
      "Setting CODE 10 to CODE 10 with distance [1.]\n"
     ]
    },
    {
     "name": "stderr",
     "output_type": "stream",
     "text": [
      " 99%|█████████▉| 3942/3990 [3:07:14<02:40,  3.34s/it]"
     ]
    },
    {
     "name": "stdout",
     "output_type": "stream",
     "text": [
      "Setting DUFOUR 32 to DUFOUR 32 with distance [1.]\n"
     ]
    },
    {
     "name": "stderr",
     "output_type": "stream",
     "text": [
      " 99%|█████████▉| 3944/3990 [3:07:23<02:35,  3.39s/it]"
     ]
    },
    {
     "name": "stdout",
     "output_type": "stream",
     "text": [
      "Setting SUNBEAM 32.1 to SUNBEAM 32 with distance [1.]\n"
     ]
    },
    {
     "name": "stderr",
     "output_type": "stream",
     "text": [
      " 99%|█████████▉| 3945/3990 [3:07:29<03:06,  4.14s/it]"
     ]
    },
    {
     "name": "stdout",
     "output_type": "stream",
     "text": [
      "Setting JEANNEAU SUN ODYSSEY 349 to SUN ODYSSEY 349 (JEANNEAU) with distance [1.]\n"
     ]
    },
    {
     "name": "stderr",
     "output_type": "stream",
     "text": [
      " 99%|█████████▉| 3947/3990 [3:07:37<02:45,  3.86s/it]"
     ]
    },
    {
     "name": "stdout",
     "output_type": "stream",
     "text": [
      "Setting SOLARIS 60 to SOLARIS 60 with distance [1.]\n"
     ]
    },
    {
     "name": "stderr",
     "output_type": "stream",
     "text": [
      " 99%|█████████▉| 3948/3990 [3:07:41<02:35,  3.70s/it]"
     ]
    },
    {
     "name": "stdout",
     "output_type": "stream",
     "text": [
      "Setting BAVARIA VISION 42 to BAVARIA VISION 42 with distance [1.]\n"
     ]
    },
    {
     "name": "stderr",
     "output_type": "stream",
     "text": [
      " 99%|█████████▉| 3951/3990 [3:07:49<01:40,  2.58s/it]"
     ]
    },
    {
     "name": "stdout",
     "output_type": "stream",
     "text": [
      "Setting DEHLER 29 to DEHLER 29 with distance [1.]\n"
     ]
    },
    {
     "name": "stderr",
     "output_type": "stream",
     "text": [
      " 99%|█████████▉| 3952/3990 [3:07:53<01:52,  2.96s/it]"
     ]
    },
    {
     "name": "stdout",
     "output_type": "stream",
     "text": [
      "Setting D & D YACHTS KUFNER 50 EXCLUSIVE to SWEDEN YACHTS 50 with distance [0.81649658]\n"
     ]
    },
    {
     "name": "stderr",
     "output_type": "stream",
     "text": [
      " 99%|█████████▉| 3954/3990 [3:08:02<02:00,  3.34s/it]"
     ]
    },
    {
     "name": "stdout",
     "output_type": "stream",
     "text": [
      "Setting ALUBAT OVNI 400 to OVNI 400 with distance [0.81649658]\n"
     ]
    },
    {
     "name": "stderr",
     "output_type": "stream",
     "text": [
      " 99%|█████████▉| 3955/3990 [3:08:06<02:08,  3.66s/it]"
     ]
    },
    {
     "name": "stdout",
     "output_type": "stream",
     "text": [
      "Setting DOMANI S30 to DOMANI S30 with distance [1.]\n"
     ]
    },
    {
     "name": "stderr",
     "output_type": "stream",
     "text": [
      " 99%|█████████▉| 3956/3990 [3:08:11<02:10,  3.82s/it]"
     ]
    },
    {
     "name": "stdout",
     "output_type": "stream",
     "text": [
      "Setting HEEG POINTER 25 LOUNGE to POINTER 25 with distance [1.]\n"
     ]
    },
    {
     "name": "stderr",
     "output_type": "stream",
     "text": [
      " 99%|█████████▉| 3957/3990 [3:08:14<01:59,  3.63s/it]"
     ]
    },
    {
     "name": "stdout",
     "output_type": "stream",
     "text": [
      "Setting BAVARIA CRUISER 34 to BAVARIA CRUISER 34 with distance [1.]\n"
     ]
    },
    {
     "name": "stderr",
     "output_type": "stream",
     "text": [
      " 99%|█████████▉| 3958/3990 [3:08:18<02:04,  3.89s/it]"
     ]
    },
    {
     "name": "stdout",
     "output_type": "stream",
     "text": [
      "Setting BALI CATAMARANS BALI 4.2 to BALI 4.1 with distance [0.89442719]\n"
     ]
    },
    {
     "name": "stderr",
     "output_type": "stream",
     "text": [
      " 99%|█████████▉| 3959/3990 [3:08:22<01:55,  3.73s/it]"
     ]
    },
    {
     "name": "stdout",
     "output_type": "stream",
     "text": [
      "Setting SOLARIS 40 to SOLARIS 40 with distance [1.]\n"
     ]
    },
    {
     "name": "stderr",
     "output_type": "stream",
     "text": [
      " 99%|█████████▉| 3961/3990 [3:08:25<01:16,  2.64s/it]"
     ]
    },
    {
     "name": "stdout",
     "output_type": "stream",
     "text": [
      "Setting ITALIA YACHTS 11.98 to ITALIA 11.98 with distance [0.8660254]\n"
     ]
    },
    {
     "name": "stderr",
     "output_type": "stream",
     "text": [
      " 99%|█████████▉| 3962/3990 [3:08:29<01:22,  2.94s/it]"
     ]
    },
    {
     "name": "stdout",
     "output_type": "stream",
     "text": [
      "Setting DEHLER 38 SQ to DEHLER 38 SQ with distance [1.]\n"
     ]
    },
    {
     "name": "stderr",
     "output_type": "stream",
     "text": [
      " 99%|█████████▉| 3966/3990 [3:08:36<00:35,  1.48s/it]"
     ]
    },
    {
     "name": "stdout",
     "output_type": "stream",
     "text": [
      "Setting BAVARIA C57 to C57 (BAVARIA) with distance [1.]\n"
     ]
    },
    {
     "name": "stderr",
     "output_type": "stream",
     "text": [
      " 99%|█████████▉| 3967/3990 [3:08:43<01:08,  2.97s/it]"
     ]
    },
    {
     "name": "stdout",
     "output_type": "stream",
     "text": [
      "Setting DEHLER 34 to DEHLER 34 with distance [1.]\n"
     ]
    },
    {
     "name": "stderr",
     "output_type": "stream",
     "text": [
      " 99%|█████████▉| 3968/3990 [3:08:47<01:16,  3.48s/it]"
     ]
    },
    {
     "name": "stdout",
     "output_type": "stream",
     "text": [
      "Setting DEHLER 30OD ONEDESIGN to DEHLER 30od with distance [1.]\n"
     ]
    },
    {
     "name": "stderr",
     "output_type": "stream",
     "text": [
      "100%|█████████▉| 3973/3990 [3:08:51<00:15,  1.09it/s]"
     ]
    },
    {
     "name": "stdout",
     "output_type": "stream",
     "text": [
      "Setting SOLARIS 60 to SOLARIS 60 with distance [1.]\n"
     ]
    },
    {
     "name": "stderr",
     "output_type": "stream",
     "text": [
      "100%|█████████▉| 3979/3990 [3:08:55<00:04,  2.60it/s]"
     ]
    },
    {
     "name": "stdout",
     "output_type": "stream",
     "text": [
      "Setting BAVARIA C50 to C50 (BAVARIA) with distance [1.]\n"
     ]
    },
    {
     "name": "stderr",
     "output_type": "stream",
     "text": [
      "100%|█████████▉| 3980/3990 [3:09:04<00:30,  3.09s/it]"
     ]
    },
    {
     "name": "stdout",
     "output_type": "stream",
     "text": [
      "Setting BAVARIA C45 to C45 (BAVARIA) with distance [1.]\n"
     ]
    },
    {
     "name": "stderr",
     "output_type": "stream",
     "text": [
      "100%|█████████▉| 3982/3990 [3:09:10<00:22,  2.79s/it]"
     ]
    },
    {
     "name": "stdout",
     "output_type": "stream",
     "text": [
      "Setting SUNBEAM 32.1 to SUNBEAM 32 with distance [1.]\n"
     ]
    },
    {
     "name": "stderr",
     "output_type": "stream",
     "text": [
      "100%|█████████▉| 3983/3990 [3:09:13<00:19,  2.74s/it]"
     ]
    },
    {
     "name": "stdout",
     "output_type": "stream",
     "text": [
      "Setting JEANNEAU SUN ODYSSEY 490 to SUN ODYSSEY 490 (JEANNEAU) with distance [1.]\n"
     ]
    },
    {
     "name": "stderr",
     "output_type": "stream",
     "text": [
      "100%|█████████▉| 3984/3990 [3:09:31<00:44,  7.47s/it]"
     ]
    },
    {
     "name": "stdout",
     "output_type": "stream",
     "text": [
      "Setting EXCESS 14 to EXCESS 14 with distance [1.]\n"
     ]
    },
    {
     "name": "stderr",
     "output_type": "stream",
     "text": [
      "100%|█████████▉| 3985/3990 [3:09:39<00:38,  7.73s/it]c:\\Users\\chris\\OneDrive\\Dokumenter\\GitHub\\SailFGVC\\Labeller.py:13: RuntimeWarning: invalid value encountered in divide\n",
      "  return (np.dot(a,b)/(norm(a)*norm(b)))\n",
      "100%|█████████▉| 3987/3990 [3:09:40<00:11,  3.87s/it]"
     ]
    },
    {
     "name": "stdout",
     "output_type": "stream",
     "text": [
      "Setting BALI CATAMARANS CATSPACE to BALI CATSPACE with distance [0.81649658]\n"
     ]
    },
    {
     "name": "stderr",
     "output_type": "stream",
     "text": [
      "100%|█████████▉| 3988/3990 [3:09:43<00:07,  3.71s/it]"
     ]
    },
    {
     "name": "stdout",
     "output_type": "stream",
     "text": [
      "Setting JEANNEAU SUN ODYSSEY 380 to SUN ODYSSEY 380 (JEANNEAU) with distance [1.]\n"
     ]
    },
    {
     "name": "stderr",
     "output_type": "stream",
     "text": [
      "100%|██████████| 3990/3990 [3:09:50<00:00,  2.85s/it]\n"
     ]
    },
    {
     "name": "stdout",
     "output_type": "stream",
     "text": [
      "Checking if boat24_data_clean only contains uniques :  True\n"
     ]
    }
   ],
   "source": [
    "boat24_data_raw = pd.read_csv(os.path.join(data_dir, \"boat24_data_raw.csv\"))\n",
    "sailboatdata_data = pd.read_csv(os.path.join(data_dir, \"boat_data_clean.csv\"))\n",
    "\n",
    "boat_names = [Name_Classes[x] for x in sailboatdata_data['name'].unique()]\n",
    "\n",
    "labeller = Labeller(boat_names)\n",
    "counter = 10\n",
    "for path,subdirs,files in os.walk(os.path.join(os.getcwd(),img_dir,\"boat24\")):\n",
    "    for file in files:\n",
    "        counter += 1\n",
    "save = False\n",
    "print(\"Starting counter at\" , counter)\n",
    "\n",
    "for i in tqdm(range(len(boat24_data_raw))):\n",
    "    found , name , distance = labeller.add_label([BeautifulSoup(boat24_data_raw['name'][i].lower() , 'html.parser').get_text()])\n",
    "    if found and not (boat24_data_raw['url'][i] == already_scraped[0]).any():\n",
    "        images = re.findall(image_tag , boat24_data_raw['html'][i])\n",
    "        print('Setting' , BeautifulSoup(boat24_data_raw['name'][i] , 'html.parser').get_text() , 'to' , Name_Classes[name] , 'with distance' , distance)\n",
    "        for image in images:\n",
    "            file_name = \"boat24_\"+str(counter).zfill(6)+\".jpg\"\n",
    "            img_subdir = os.path.join(img_dir,\"boat24\", Name_Classes[name])\n",
    "            if not os.path.exists(img_subdir):\n",
    "                os.makedirs(img_subdir)\n",
    "            try:\n",
    "                img_request.urlretrieve(image,os.path.join(img_subdir,file_name))\n",
    "                row = sailboatdata_data[sailboatdata_data['name'] == name].iloc[0].to_frame().T\n",
    "                row['img_path'] = file_name\n",
    "                row['img_url'] = image\n",
    "                row['image_hash'] = None\n",
    "                row['original_label'] = BeautifulSoup(boat24_data_raw['name'][i] , 'html.parser').get_text()\n",
    "                boat24_data_clean = pd.concat([boat24_data_clean , row])\n",
    "                counter += 1\n",
    "            except:\n",
    "                print(\"Error downloading image\",image)\n",
    "            if counter % 10 == 0:\n",
    "                save = True\n",
    "    already_scraped = pd.concat([already_scraped , pd.DataFrame([boat24_data_raw['url'][i]])])\n",
    "    if save:\n",
    "        boat24_data_clean.to_csv(os.path.join(data_dir,\"boat24_data_clean.csv\") , index=False)\n",
    "        already_scraped.to_csv(os.path.join(data_dir,\"already_scraped.csv\") , index=False , header=False)\n",
    "        save = False\n",
    "boat24_data_clean.to_csv(os.path.join(data_dir,\"boat24_data_clean.csv\") , index=False)\n",
    "already_scraped.to_csv(os.path.join(data_dir,\"already_scraped.csv\") , index=False , header=False)\n",
    "\n",
    "print(\"Checking if boat24_data_clean only contains uniques : \" , boat24_data_clean.value_counts('img_path').sum() == len(boat24_data_clean))\n",
    "\n"
   ]
  },
  {
   "attachments": {},
   "cell_type": "markdown",
   "metadata": {},
   "source": [
    "## Image Search"
   ]
  },
  {
   "cell_type": "code",
   "execution_count": null,
   "metadata": {},
   "outputs": [],
   "source": [
    "boat_data_clean = pd.read_csv(data_dir+\"boat_data_clean.csv\")\n",
    "\n",
    "from icrawler.builtin import BingImageCrawler\n",
    "boat_data_clean = pd.read_csv(data_dir+\"boat_data_clean.csv\")\n",
    "boat_names = [Name_Classes[x] for x in boat_data_clean['name'].unique()]\n",
    "already_found = os.walk(os.path.join(os.getcwd(),img_dir,\"image_search\")).__next__()[1]\n",
    "for boat in boat_names:\n",
    "    if boat not in already_found:\n",
    "        path = os.path.join(img_dir,\"image_search\",boat)\n",
    "        if not(os.path.exists(path)):\n",
    "            print(\"Making dir\" , path)\n",
    "            makedirs(path)\n",
    "        google_Crawler = BingImageCrawler(storage = {'root_dir': path} , downloader_threads = 16)\n",
    "        google_Crawler.crawl(keyword = boat + \" sailboat\", max_num = 16 , filters = {\"type\":\"photo\"})\n",
    "\n"
   ]
  },
  {
   "cell_type": "code",
   "execution_count": null,
   "metadata": {},
   "outputs": [],
   "source": [
    "counter = 0\n",
    "sailboatdata_data = pd.read_csv(data_dir+\"boat_data_clean.csv\")\n",
    "label2id = {Name_Classes[x]:x for x in Name_Classes}\n",
    "image_search_data = pd.DataFrame(columns = sailboatdata_data.columns)\n",
    "for dir in tqdm(os.walk(os.path.join(os.getcwd(),img_dir,\"image_search\")).__next__()[1]):\n",
    "    rows = []\n",
    "    for file in os.listdir(os.path.join(os.getcwd(),img_dir,\"image_search\",dir)):\n",
    "        if file.endswith(\".jpg\"):\n",
    "            file_name = \"image_search\" + str(counter).zfill(6) + \".jpg\"\n",
    "            counter += 1\n",
    "            # os.rename(os.path.join(os.getcwd(),img_dir,\"image_search\",dir,file) , os.path.join(os.getcwd(),img_dir,\"image_search\",dir,file_name))\n",
    "            try:\n",
    "                row = sailboatdata_data[sailboatdata_data['name'] == label2id[dir]].iloc[0].to_frame().T\n",
    "            except:\n",
    "                row = sailboatdata_data[sailboatdata_data['name'] == label2id[dir+\".\"]].iloc[0].to_frame().T\n",
    "            row['img_path'] = file_name\n",
    "            rows += [row]\n",
    "    try:\n",
    "        image_search_data = pd.concat([image_search_data , pd.concat(rows)])\n",
    "    except:\n",
    "        print(\"Error with dir\",dir)\n",
    "image_search_data.to_csv(os.path.join(data_dir,\"image_search_data.csv\") , index=False)"
   ]
  },
  {
   "attachments": {},
   "cell_type": "markdown",
   "metadata": {},
   "source": [
    "# Cleaning and Data Processing"
   ]
  },
  {
   "attachments": {},
   "cell_type": "markdown",
   "metadata": {},
   "source": [
    "## Initial HTML cleanup"
   ]
  },
  {
   "cell_type": "code",
   "execution_count": null,
   "metadata": {},
   "outputs": [],
   "source": [
    "units_cleaner_tag = re.compile(r'([\\d.]+)(\\s*m|\\s*kg)(<.*>)*')\n",
    "\n",
    "def clean_row(row):\n",
    "  cleaned_row = []\n",
    "  for i in range(len(row)):\n",
    "    if i != 32:\n",
    "      try:\n",
    "        cleaned_row.append(float(re.sub(units_cleaner_tag , r'\\g<1>' , row[i].replace(',','') , )))\n",
    "      except:\n",
    "        cleaned_row.append(row[i])\n",
    "    else:\n",
    "      cleaned_row.append(row[i])\n",
    "  return cleaned_row"
   ]
  },
  {
   "cell_type": "code",
   "execution_count": null,
   "metadata": {},
   "outputs": [],
   "source": [
    "cleaned_data = []\n",
    "for i , row in data_raw.iterrows():\n",
    "  cleaned_data.append(clean_row(row))"
   ]
  },
  {
   "cell_type": "code",
   "execution_count": null,
   "metadata": {},
   "outputs": [],
   "source": [
    "data_clean = pd.DataFrame(cleaned_data , columns = data_raw.columns)\n",
    "data_clean.to_csv(data_dir+\"boat_data_clean.csv\" , index = False)"
   ]
  },
  {
   "cell_type": "code",
   "execution_count": null,
   "metadata": {},
   "outputs": [],
   "source": [
    "data_clean = pd.read_csv(data_dir+\"boat_data_clean.csv\")"
   ]
  },
  {
   "cell_type": "code",
   "execution_count": null,
   "metadata": {},
   "outputs": [],
   "source": [
    "row_clean_tag = re.compile(r'[^\\w\\s/&]')\n",
    "for column in data_clean.columns:\n",
    "    if (data_clean[column].dtype == \"object\" or data_clean[column].dtype == \"category\") and not column == \"Download Boat Record\" and not column == \"url\" and not column == \"img_path\":\n",
    "        data_clean[column] = data_clean[column].str.strip().str.rstrip('.').str.lower()\n",
    "        data_clean[column] = data_clean[column].str.replace(row_clean_tag , '')\n",
    "        # data_clean[column] = data_clean[column].astype('category')\n",
    "        # pd.DataFrame(data_clean[column].cat.categories).to_csv(data_dir+\"labels/\"+column.replace(\" \",\"_\")+\".txt\" , index = False , header = False)\n",
    "        # data_clean[column] = data_clean[column].cat.codes"
   ]
  },
  {
   "attachments": {},
   "cell_type": "markdown",
   "metadata": {},
   "source": [
    "## Image Hashing"
   ]
  },
  {
   "cell_type": "code",
   "execution_count": 25,
   "metadata": {},
   "outputs": [],
   "source": [
    "# Average hash computation.\n",
    "# See:\n",
    "# https://www.hackerfactor.com/blog/index.php?/archives/432-Looks-Like-It.html\n",
    "def average_hasher(image):\n",
    "  # Read image.\n",
    "  img = PIL.Image.open(image)\n",
    "\n",
    "  # Simplify image by reducing its size and colors.\n",
    "  pixels = img.convert(\"L\").resize((8, 8), Image.ANTIALIAS).getdata()\n",
    "\n",
    "  # Get the average pixel value.\n",
    "  sum = 0.0\n",
    "  for p in pixels: sum += p\n",
    "  mean = sum / 64\n",
    "\n",
    "  # Generate the hash by comparing each pixel's value to the average.\n",
    "  bits = 0\n",
    "  for p in pixels:\n",
    "    bits <<= 1\n",
    "    if p > mean: bits |= 1\n",
    "\n",
    "  return \"%016x\" % bits, img.width, img.height"
   ]
  },
  {
   "cell_type": "code",
   "execution_count": 26,
   "metadata": {},
   "outputs": [],
   "source": [
    "def hash_images(dir , data , existing_hashes = []):\n",
    "    image_hashes = []\n",
    "    found_duplicates = 0\n",
    "    for i , row in tqdm(data.iterrows()):\n",
    "        try:\n",
    "            img_hash = average_hasher(os.path.join(img_dir , dir , data['img_path'][i] ))[0]\n",
    "        except:\n",
    "            try:\n",
    "                img_hash = average_hasher(os.path.join(img_dir , dir , Name_Classes[data['name'][i]] ,data['img_path'][i] ))[0]\n",
    "            except:\n",
    "                print(\"Error with \",os.path.join(img_dir , dir , Name_Classes[data['name'][i]] ,data['img_path'][i]))\n",
    "                img_hash = None\n",
    "        if img_hash not in existing_hashes:\n",
    "            image_hashes.append(img_hash)\n",
    "        else:\n",
    "            if found_duplicates <= 10:\n",
    "                print(\"Found duplicate\",img_hash)\n",
    "            elif found_duplicates < 10:\n",
    "                print(\"Found over 10 duplicates. Will not print more...\")\n",
    "            found_duplicates += 1\n",
    "            image_hashes.append(None)\n",
    "    print(\"Found\",found_duplicates,\"duplicates\")\n",
    "    return image_hashes"
   ]
  },
  {
   "cell_type": "code",
   "execution_count": null,
   "metadata": {},
   "outputs": [],
   "source": [
    "sailboatdata_data = pd.read_csv(data_dir+\"boat_data_clean.csv\")\n",
    "sailboatdata_data['image_hash'] = hash_images(\"sailboatdata\" , sailboatdata_data)\n",
    "# Remove duplicate hashes.\n",
    "sailboatdata_data = sailboatdata_data.dropna(subset=['image_hash'])\n",
    "print(\"Number of unique hashes:\",len(sailboatdata_data))\n",
    "sailboatdata_data.to_csv(data_dir+\"sailboatdata_data_hashed.csv\" , index = False)\n"
   ]
  },
  {
   "cell_type": "code",
   "execution_count": 27,
   "metadata": {},
   "outputs": [
    {
     "name": "stderr",
     "output_type": "stream",
     "text": [
      "0it [00:00, ?it/s]C:\\Users\\chris\\AppData\\Local\\Temp\\ipykernel_26372\\1406540995.py:9: DeprecationWarning: ANTIALIAS is deprecated and will be removed in Pillow 10 (2023-07-01). Use Resampling.LANCZOS instead.\n",
      "  pixels = img.convert(\"L\").resize((8, 8), Image.ANTIALIAS).getdata()\n",
      "44266it [05:41, 129.49it/s]\n"
     ]
    },
    {
     "name": "stdout",
     "output_type": "stream",
     "text": [
      "Found 0 duplicates\n",
      "Number of unique hashes: 44266\n"
     ]
    }
   ],
   "source": [
    "boat24_data = pd.read_csv(data_dir+\"boat24_data_clean.csv\")\n",
    "boat24_data['image_hash'] = hash_images(\"boat24\" , boat24_data)\n",
    "# Remove duplicate hashes.\n",
    "boat24_data = boat24_data.dropna(subset=['image_hash'])\n",
    "print(\"Number of unique hashes:\",len(boat24_data))\n",
    "boat24_data.to_csv(data_dir+\"boat24_data_hashed.csv\" , index = False)"
   ]
  },
  {
   "cell_type": "code",
   "execution_count": null,
   "metadata": {},
   "outputs": [],
   "source": [
    "image_search_data = pd.read_csv(data_dir+\"image_search_data.csv\")\n",
    "image_search_data['image_hash'] = hash_images(\"image_search\" , image_search_data , sailboatdata_data['image_hash'].tolist())\n",
    "# Remove duplicate hashes.\n",
    "image_search_data = image_search_data.dropna(subset=['image_hash'])\n",
    "print(\"Number of unique hashes:\",len(image_search_data))\n",
    "image_search_data.to_csv(data_dir+\"image_search_data_hashed.csv\" , index = False)"
   ]
  },
  {
   "cell_type": "code",
   "execution_count": null,
   "metadata": {},
   "outputs": [],
   "source": [
    "dat = pd.read_csv(data_dir+\"boat24_data_clean.csv\")\n"
   ]
  },
  {
   "cell_type": "code",
   "execution_count": null,
   "metadata": {},
   "outputs": [],
   "source": []
  },
  {
   "attachments": {},
   "cell_type": "markdown",
   "metadata": {},
   "source": [
    "# Splitting"
   ]
  },
  {
   "cell_type": "code",
   "execution_count": null,
   "metadata": {},
   "outputs": [],
   "source": [
    "data_train , data_test = train_test_split(data_clean , test_size = 0.2 , random_state = 42)\n"
   ]
  },
  {
   "cell_type": "code",
   "execution_count": null,
   "metadata": {},
   "outputs": [],
   "source": [
    "train_dir = \"data/train/\"\n",
    "test_dir = \"data/test/\"\n",
    "\n",
    "if not(os.path.exists(train_dir)):\n",
    "    print(\"Making dir\" , train_dir)\n",
    "    makedirs(train_dir)\n",
    "\n",
    "if not(os.path.exists(test_dir)):\n",
    "    print(\"Making dir\" , test_dir)\n",
    "    makedirs(test_dir)\n",
    "\n",
    "\n",
    "for image in data_train['img_path']:\n",
    "    try:\n",
    "        img = Image.open(img_dir+image)\n",
    "        img = img.convert('RGB')\n",
    "        img.save(train_dir+image)\n",
    "    except:\n",
    "        print(\"Image not found\" , image)\n",
    "        data_train = data_train[data_train['img_path'] != image]\n",
    "\n",
    "for image in data_test['img_path']:\n",
    "    try:\n",
    "        img = Image.open(img_dir+image)\n",
    "        img = img.convert('RGB')\n",
    "        img.save(test_dir+image)\n",
    "    except:\n",
    "        print(\"Image not found\" , image)\n",
    "        data_test = data_test[data_test['img_path'] != image]\n"
   ]
  },
  {
   "cell_type": "code",
   "execution_count": null,
   "metadata": {},
   "outputs": [],
   "source": [
    "data_train.to_csv(data_dir+\"boat_data_train.csv\" , index = False)\n",
    "data_test.to_csv(data_dir+\"boat_data_test.csv\" , index = False)"
   ]
  },
  {
   "attachments": {},
   "cell_type": "markdown",
   "metadata": {},
   "source": [
    "# Label embedding"
   ]
  },
  {
   "cell_type": "code",
   "execution_count": null,
   "metadata": {},
   "outputs": [],
   "source": [
    "data_clean = pd.DataFrame(cleaned_data , columns = data_raw.columns)\n",
    "\n",
    "col_list = ['Hull Type' , 'Rigging Type' , 'Construction' , 'Ballast Type' , 'Designer' , 'name']\n",
    "\n",
    "for column in data_clean.columns:\n",
    "    if column in col_list:\n",
    "        path = data_dir+\"/labels/\"+column.replace(\" \",\"_\")\n",
    "        data_clean[column] = data_clean[column].astype('category')\n",
    "        classes = dict( zip(data_clean[column] , data_clean[column].cat.codes))\n",
    "        with open(path+\".json\", \"w\") as outfile:\n",
    "            json.dump(classes, outfile , indent = 4)\n",
    "        data_clean[column] = data_clean[column].cat.codes\n",
    "\n",
    "data_clean.to_csv(data_dir+\"boat_data_clean.csv\" , index = False)\n",
    "data_train , data_test = train_test_split(data_clean , test_size = 0.2 , random_state = 42)\n",
    "data_train.to_csv(data_dir+\"boat_data_train.csv\" , index = False)\n",
    "data_test.to_csv(data_dir+\"boat_data_test.csv\" , index = False)"
   ]
  },
  {
   "cell_type": "code",
   "execution_count": null,
   "metadata": {},
   "outputs": [],
   "source": [
    "# file_path = \"images/00002.jpg\"\n",
    "# df = data_train\n",
    "# idx = df.index[(df['img_path'] == file_path.split(\"/\")[1])].values[0]\n",
    "\n",
    "# print(\n",
    "# Hull_Type_Classes[df['Hull Type'][idx]],[df['Hull Type'][idx]],\"\\n\"+\n",
    "# Rigging_Type_Classes[df['Rigging Type'][idx]],[df['Rigging Type'][idx]],\"\\n\"+\n",
    "# Construction_Classes[df['Construction'][idx]],[df['Construction'][idx]],\"\\n\"+\n",
    "# Ballast_Type_Classes[df['Ballast Type'][idx]],[df['Ballast Type'][idx]],\"\\n\"+\n",
    "# Designer_Classes[df['Designer'][idx]],[df['Designer'][idx]],\"\\n\"+\n",
    "# Name_Classes[df['name'][idx]],[df['name'][idx]],\"\\n\"\n",
    "# )"
   ]
  },
  {
   "cell_type": "code",
   "execution_count": null,
   "metadata": {},
   "outputs": [],
   "source": [
    "labels = ['Hull Type' , 'Rigging Type' , 'Construction' , 'Ballast Type' , 'Designer' , 'name']\n",
    "for label in labels:\n",
    "    sailboatdata_data = pd.read_csv(\"data/boat_data_clean.csv\")\n",
    "    sailboatdata_data = sailboatdata_data.dropna(subset=[label])\n",
    "    # drop labels with less than 2 entries\n",
    "    \n",
    "    sailboatdata_data = sailboatdata_data.groupby(label).filter(lambda x: len(x) > 1)\n",
    "    sailboatdata_data = sailboatdata_data.drop_duplicates(subset=[label])\n",
    "    print(label,sailboatdata_data.__len__())"
   ]
  }
 ],
 "metadata": {
  "kernelspec": {
   "display_name": "Python 3",
   "language": "python",
   "name": "python3"
  },
  "language_info": {
   "codemirror_mode": {
    "name": "ipython",
    "version": 3
   },
   "file_extension": ".py",
   "mimetype": "text/x-python",
   "name": "python",
   "nbconvert_exporter": "python",
   "pygments_lexer": "ipython3",
   "version": "3.10.7"
  },
  "orig_nbformat": 4,
  "vscode": {
   "interpreter": {
    "hash": "edf259275ad4a72d4dd5b452264ad5fb2b635233dff2a31edc6ebc740e55e21b"
   }
  }
 },
 "nbformat": 4,
 "nbformat_minor": 2
}
