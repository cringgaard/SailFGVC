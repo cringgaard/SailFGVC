{
 "cells": [
  {
   "cell_type": "code",
   "execution_count": 2,
   "metadata": {},
   "outputs": [],
   "source": [
    "import re\n",
    "import requests\n",
    "import urllib.request as img_request\n",
    "import time\n",
    "from tqdm import tqdm\n",
    "import pandas as pd\n",
    "import json \n",
    "import matplotlib.pyplot as plt\n",
    "from PIL import Image\n",
    "from os import makedirs\n",
    "from os import listdir\n",
    "from os import getcwd\n",
    "import os\n",
    "\n",
    "from sklearn.model_selection import train_test_split"
   ]
  },
  {
   "attachments": {},
   "cell_type": "markdown",
   "metadata": {},
   "source": [
    "# Init"
   ]
  },
  {
   "cell_type": "markdown",
   "metadata": {},
   "source": [
    "Defining important directories as variables"
   ]
  },
  {
   "cell_type": "code",
   "execution_count": 3,
   "metadata": {},
   "outputs": [],
   "source": [
    "cwd = getcwd()\n",
    "data_dir = \"data/\"\n",
    "img_dir = \"data/images/\""
   ]
  },
  {
   "attachments": {},
   "cell_type": "markdown",
   "metadata": {},
   "source": [
    "Defining regex tags"
   ]
  },
  {
   "cell_type": "code",
   "execution_count": null,
   "metadata": {},
   "outputs": [],
   "source": [
    "if not (os.path.exists(data_dir)):\n",
    "    print(\"Making dir\" , data_dir)\n",
    "    makedirs(data_dir)\n",
    "\n",
    "if not(os.path.exists(img_dir)):\n",
    "    print(\"Making dir\" , img_dir)\n",
    "    makedirs(img_dir)"
   ]
  },
  {
   "attachments": {},
   "cell_type": "markdown",
   "metadata": {},
   "source": [
    "# Scraping"
   ]
  },
  {
   "attachments": {},
   "cell_type": "markdown",
   "metadata": {},
   "source": [
    "## Sailboatdata.com"
   ]
  },
  {
   "cell_type": "code",
   "execution_count": null,
   "metadata": {},
   "outputs": [],
   "source": [
    "n_pages_tag = re.compile(r'<a href=.*page=(\\d*).*/li>') # For getting the amount of pages on the domain\n",
    "\n",
    "name_tag = re.compile(r'<a href=\\\"https://sailboatdata\\.com/sailboat/.*\\\">(.*)</a>') # For making a list of all the boats on sailboatdata\n",
    "\n",
    "specs_tag = re.compile(r'<div class=\\\" col-\\w\\w-\\d*  col-\\w\\w-6 sailboatdata-label \\\">\\s*(.*):\\s</div>\\s<.*\\s*(.*)') # For scraping data from specific boat url\n",
    "\n",
    "image_tag = re.compile(r'(?:photo|drawing)\\\".*src=\\\"(http.*)\\\"/>')\n",
    "\n",
    "photo_draw_tag = re.compile(r'sailboat/(\\w*)')"
   ]
  },
  {
   "cell_type": "code",
   "execution_count": null,
   "metadata": {},
   "outputs": [],
   "source": [
    "specs = []\n",
    "categories = []\n",
    "boat_data = pd.DataFrame()\n",
    "counter = 0"
   ]
  },
  {
   "cell_type": "code",
   "execution_count": null,
   "metadata": {},
   "outputs": [],
   "source": [
    "general_url = 'https://sailboatdata.com/sailboat?page={}&paginate=25'\n",
    "\n",
    "print(\"Connecting to\" , general_url.format(1))\n",
    "init_request = requests.get(general_url.format(1))\n",
    "print(init_request.status_code)\n",
    "pages = re.findall(n_pages_tag , init_request.text)\n",
    "n_pages = pages[-1]\n",
    "\n",
    "boat_types = []\n",
    "for i in tqdm(range (1,int(n_pages)+1)):\n",
    "  # print(\"Connecting to\" , general_url.format(i))\n",
    "  r = requests.get(general_url.format(i))\n",
    "  # print(r.status_code)\n",
    "  boat_types += re.findall(name_tag,r.text)\n",
    "  time.sleep(0.5) #To not throw too many requests at the website\n",
    "\n",
    "print(len(boat_types))"
   ]
  },
  {
   "cell_type": "code",
   "execution_count": null,
   "metadata": {},
   "outputs": [],
   "source": [
    "for boat in boat_types:\n",
    "    # GETTNG REQUEST\n",
    "    print(\"Scraping\",boat,\"...\")\n",
    "    r = requests.get(\"https://sailboatdata.com/sailboat/{}?units=metric\".format(boat.replace(\" \",\"-\").replace(\"(\",\"\").replace(\")\",\"\").replace(\".\",\"\")))\n",
    "    raw_text = r.text\n",
    "\n",
    "    # SCRAPING IMAGES\n",
    "    images = re.findall(image_tag,raw_text)\n",
    "    print(\"         -------scraping\")\n",
    "    for image in images:\n",
    "        img_path = str(counter).zfill(5)+\".jpg\"\n",
    "        if not os.path.isfile(img_path):\n",
    "            counter += 1\n",
    "            print(image)\n",
    "            try:\n",
    "                img_request.urlretrieve(image,img_dir+img_path)\n",
    "            except:\n",
    "                print(\"Strange url\" , image.replace(\" \",\"%20\"))\n",
    "                try:\n",
    "                    img_request.urlretrieve(image,img_dir+img_path)\n",
    "                except:\n",
    "                    has_image = False\n",
    "\n",
    "            # SCRAPING SPECS\n",
    "            categories_specs = re.findall(specs_tag,raw_text)\n",
    "            specs = [el[1] for el in categories_specs]\n",
    "            categories = [el[0] for el in categories_specs]\n",
    "            new_row = {categories[i]: specs[i] for i in range(len(categories))}\n",
    "            new_row['name'] = boat\n",
    "            new_row['img_path'] = img_path\n",
    "            boat_data = pd.concat([boat_data, pd.DataFrame([new_row])], ignore_index=True)\n",
    "\n",
    "\n",
    "\n",
    "    print(\"Done\\n\")\n",
    "    if counter%100 == 1:\n",
    "        print(\"saving\")\n",
    "        boat_data.to_csv(data_dir+\"boat_data.csv\" , index=False)\n",
    "boat_data.to_csv(data_dir+\"boat_data.csv\" , index = False)"
   ]
  },
  {
   "cell_type": "code",
   "execution_count": 4,
   "metadata": {},
   "outputs": [
    {
     "data": {
      "text/html": [
       "<div>\n",
       "<style scoped>\n",
       "    .dataframe tbody tr th:only-of-type {\n",
       "        vertical-align: middle;\n",
       "    }\n",
       "\n",
       "    .dataframe tbody tr th {\n",
       "        vertical-align: top;\n",
       "    }\n",
       "\n",
       "    .dataframe thead th {\n",
       "        text-align: right;\n",
       "    }\n",
       "</style>\n",
       "<table border=\"1\" class=\"dataframe\">\n",
       "  <thead>\n",
       "    <tr style=\"text-align: right;\">\n",
       "      <th></th>\n",
       "      <th>Hull Type</th>\n",
       "      <th>Rigging Type</th>\n",
       "      <th>LOA</th>\n",
       "      <th>LWL</th>\n",
       "      <th>Beam</th>\n",
       "      <th>S.A. (reported)</th>\n",
       "      <th>Draft (max)</th>\n",
       "      <th>Displacement</th>\n",
       "      <th>Ballast</th>\n",
       "      <th>S.A./Disp.</th>\n",
       "      <th>Bal./Disp.</th>\n",
       "      <th>Disp./Len.</th>\n",
       "      <th>Construction</th>\n",
       "      <th>Ballast Type</th>\n",
       "      <th>First Built</th>\n",
       "      <th># Built</th>\n",
       "      <th>Designer</th>\n",
       "      <th>Comfort Ratio</th>\n",
       "      <th>Capsize Screening Formula</th>\n",
       "      <th>S#</th>\n",
       "      <th>I</th>\n",
       "      <th>J</th>\n",
       "      <th>P</th>\n",
       "      <th>E</th>\n",
       "      <th>SPL/TPS</th>\n",
       "      <th>ISP</th>\n",
       "      <th>S.A. Fore</th>\n",
       "      <th>S.A. Main</th>\n",
       "      <th>S.A./Disp. (calc.)</th>\n",
       "      <th>Est. Forestay Len.</th>\n",
       "      <th>Download Boat Record</th>\n",
       "      <th>name</th>\n",
       "      <th>img_path</th>\n",
       "      <th>Draft (min)</th>\n",
       "      <th>Builder</th>\n",
       "      <th>Model</th>\n",
       "      <th>Last Built</th>\n",
       "      <th>Make</th>\n",
       "      <th>Type</th>\n",
       "      <th>HP</th>\n",
       "      <th>Fuel</th>\n",
       "      <th>Headroom</th>\n",
       "      <th>Water</th>\n",
       "      <th>Website</th>\n",
       "      <th>KSP</th>\n",
       "      <th>PY</th>\n",
       "      <th>EY</th>\n",
       "      <th>Bridgedeck Clearance</th>\n",
       "      <th>Mast Height from DWL</th>\n",
       "      <th>Bruce Number</th>\n",
       "    </tr>\n",
       "  </thead>\n",
       "  <tbody>\n",
       "    <tr>\n",
       "      <th>0</th>\n",
       "      <td>Fin w/bulb &amp; spade rudder</td>\n",
       "      <td>Fractional  Sloop</td>\n",
       "      <td>10.30 m</td>\n",
       "      <td>8.20 m</td>\n",
       "      <td>2.50 m</td>\n",
       "      <td>41.81 m&lt;sup&gt;2&lt;/sup&gt;</td>\n",
       "      <td>1.80 m</td>\n",
       "      <td>1,600 kg</td>\n",
       "      <td>725 kg</td>\n",
       "      <td>31.16</td>\n",
       "      <td>45.31</td>\n",
       "      <td>80.89</td>\n",
       "      <td>FG w/core,Composite</td>\n",
       "      <td>Lead</td>\n",
       "      <td>1990.0</td>\n",
       "      <td>350.0</td>\n",
       "      <td>Ron Holland &amp; Rolf Gyhlenius</td>\n",
       "      <td>11.41</td>\n",
       "      <td>2.16</td>\n",
       "      <td>6.48</td>\n",
       "      <td>9.81 m</td>\n",
       "      <td>3.10 m</td>\n",
       "      <td>11.00 m</td>\n",
       "      <td>4.15 m</td>\n",
       "      <td>4.00 m</td>\n",
       "      <td>12.50 m</td>\n",
       "      <td>15.22 m&lt;sup&gt;2&lt;/sup&gt;</td>\n",
       "      <td>22.83 m&lt;sup&gt;2&lt;/sup&gt;</td>\n",
       "      <td>28.36</td>\n",
       "      <td>10.29 m</td>\n",
       "      <td>&lt;a class=\"\" href=\"https://sailboatdata.com/sai...</td>\n",
       "      <td>11 METER</td>\n",
       "      <td>00000.jpg</td>\n",
       "      <td>NaN</td>\n",
       "      <td>NaN</td>\n",
       "      <td>NaN</td>\n",
       "      <td>NaN</td>\n",
       "      <td>NaN</td>\n",
       "      <td>NaN</td>\n",
       "      <td>NaN</td>\n",
       "      <td>NaN</td>\n",
       "      <td>NaN</td>\n",
       "      <td>NaN</td>\n",
       "      <td>NaN</td>\n",
       "      <td>NaN</td>\n",
       "      <td>NaN</td>\n",
       "      <td>NaN</td>\n",
       "      <td>NaN</td>\n",
       "      <td>NaN</td>\n",
       "      <td>NaN</td>\n",
       "    </tr>\n",
       "    <tr>\n",
       "      <th>1</th>\n",
       "      <td>Fin w/bulb &amp; spade rudder</td>\n",
       "      <td>Fractional  Sloop</td>\n",
       "      <td>10.30 m</td>\n",
       "      <td>8.20 m</td>\n",
       "      <td>2.50 m</td>\n",
       "      <td>41.81 m&lt;sup&gt;2&lt;/sup&gt;</td>\n",
       "      <td>1.80 m</td>\n",
       "      <td>1,600 kg</td>\n",
       "      <td>725 kg</td>\n",
       "      <td>31.16</td>\n",
       "      <td>45.31</td>\n",
       "      <td>80.89</td>\n",
       "      <td>FG w/core,Composite</td>\n",
       "      <td>Lead</td>\n",
       "      <td>1990.0</td>\n",
       "      <td>350.0</td>\n",
       "      <td>Ron Holland &amp; Rolf Gyhlenius</td>\n",
       "      <td>11.41</td>\n",
       "      <td>2.16</td>\n",
       "      <td>6.48</td>\n",
       "      <td>9.81 m</td>\n",
       "      <td>3.10 m</td>\n",
       "      <td>11.00 m</td>\n",
       "      <td>4.15 m</td>\n",
       "      <td>4.00 m</td>\n",
       "      <td>12.50 m</td>\n",
       "      <td>15.22 m&lt;sup&gt;2&lt;/sup&gt;</td>\n",
       "      <td>22.83 m&lt;sup&gt;2&lt;/sup&gt;</td>\n",
       "      <td>28.36</td>\n",
       "      <td>10.29 m</td>\n",
       "      <td>&lt;a class=\"\" href=\"https://sailboatdata.com/sai...</td>\n",
       "      <td>11 METER</td>\n",
       "      <td>00001.jpg</td>\n",
       "      <td>NaN</td>\n",
       "      <td>NaN</td>\n",
       "      <td>NaN</td>\n",
       "      <td>NaN</td>\n",
       "      <td>NaN</td>\n",
       "      <td>NaN</td>\n",
       "      <td>NaN</td>\n",
       "      <td>NaN</td>\n",
       "      <td>NaN</td>\n",
       "      <td>NaN</td>\n",
       "      <td>NaN</td>\n",
       "      <td>NaN</td>\n",
       "      <td>NaN</td>\n",
       "      <td>NaN</td>\n",
       "      <td>NaN</td>\n",
       "      <td>NaN</td>\n",
       "      <td>NaN</td>\n",
       "    </tr>\n",
       "    <tr>\n",
       "      <th>2</th>\n",
       "      <td>Fin w/bulb &amp; spade rudder</td>\n",
       "      <td>Fractional  Sloop</td>\n",
       "      <td>7.32 m</td>\n",
       "      <td>5.49 m</td>\n",
       "      <td>1.27 m</td>\n",
       "      <td>14.59 m&lt;sup&gt;2&lt;/sup&gt;</td>\n",
       "      <td>0.91 m</td>\n",
       "      <td>413 kg</td>\n",
       "      <td>136 kg</td>\n",
       "      <td>26.80</td>\n",
       "      <td>32.97</td>\n",
       "      <td>69.66</td>\n",
       "      <td>Plywood or GRP</td>\n",
       "      <td>Iron</td>\n",
       "      <td>1938.0</td>\n",
       "      <td>750.0</td>\n",
       "      <td>C. Raymond Hunt</td>\n",
       "      <td>10.58</td>\n",
       "      <td>1.72</td>\n",
       "      <td>NaN</td>\n",
       "      <td>NaN</td>\n",
       "      <td>NaN</td>\n",
       "      <td>NaN</td>\n",
       "      <td>NaN</td>\n",
       "      <td>NaN</td>\n",
       "      <td>NaN</td>\n",
       "      <td>NaN</td>\n",
       "      <td>NaN</td>\n",
       "      <td>NaN</td>\n",
       "      <td>NaN</td>\n",
       "      <td>&lt;a class=\"\" href=\"https://sailboatdata.com/sai...</td>\n",
       "      <td>110</td>\n",
       "      <td>00002.jpg</td>\n",
       "      <td>NaN</td>\n",
       "      <td>NaN</td>\n",
       "      <td>NaN</td>\n",
       "      <td>NaN</td>\n",
       "      <td>NaN</td>\n",
       "      <td>NaN</td>\n",
       "      <td>NaN</td>\n",
       "      <td>NaN</td>\n",
       "      <td>NaN</td>\n",
       "      <td>NaN</td>\n",
       "      <td>NaN</td>\n",
       "      <td>NaN</td>\n",
       "      <td>NaN</td>\n",
       "      <td>NaN</td>\n",
       "      <td>NaN</td>\n",
       "      <td>NaN</td>\n",
       "      <td>NaN</td>\n",
       "    </tr>\n",
       "    <tr>\n",
       "      <th>3</th>\n",
       "      <td>Fin w/bulb &amp; spade rudder</td>\n",
       "      <td>Fractional  Sloop</td>\n",
       "      <td>7.32 m</td>\n",
       "      <td>5.49 m</td>\n",
       "      <td>1.27 m</td>\n",
       "      <td>14.59 m&lt;sup&gt;2&lt;/sup&gt;</td>\n",
       "      <td>0.91 m</td>\n",
       "      <td>413 kg</td>\n",
       "      <td>136 kg</td>\n",
       "      <td>26.80</td>\n",
       "      <td>32.97</td>\n",
       "      <td>69.66</td>\n",
       "      <td>Plywood or GRP</td>\n",
       "      <td>Iron</td>\n",
       "      <td>1938.0</td>\n",
       "      <td>750.0</td>\n",
       "      <td>C. Raymond Hunt</td>\n",
       "      <td>10.58</td>\n",
       "      <td>1.72</td>\n",
       "      <td>NaN</td>\n",
       "      <td>NaN</td>\n",
       "      <td>NaN</td>\n",
       "      <td>NaN</td>\n",
       "      <td>NaN</td>\n",
       "      <td>NaN</td>\n",
       "      <td>NaN</td>\n",
       "      <td>NaN</td>\n",
       "      <td>NaN</td>\n",
       "      <td>NaN</td>\n",
       "      <td>NaN</td>\n",
       "      <td>&lt;a class=\"\" href=\"https://sailboatdata.com/sai...</td>\n",
       "      <td>110</td>\n",
       "      <td>00003.jpg</td>\n",
       "      <td>NaN</td>\n",
       "      <td>NaN</td>\n",
       "      <td>NaN</td>\n",
       "      <td>NaN</td>\n",
       "      <td>NaN</td>\n",
       "      <td>NaN</td>\n",
       "      <td>NaN</td>\n",
       "      <td>NaN</td>\n",
       "      <td>NaN</td>\n",
       "      <td>NaN</td>\n",
       "      <td>NaN</td>\n",
       "      <td>NaN</td>\n",
       "      <td>NaN</td>\n",
       "      <td>NaN</td>\n",
       "      <td>NaN</td>\n",
       "      <td>NaN</td>\n",
       "      <td>NaN</td>\n",
       "    </tr>\n",
       "    <tr>\n",
       "      <th>4</th>\n",
       "      <td>Centerboard Dinghy</td>\n",
       "      <td>Gunter</td>\n",
       "      <td>5.97 m</td>\n",
       "      <td>5.39 m</td>\n",
       "      <td>1.43 m</td>\n",
       "      <td>12.73 m&lt;sup&gt;2&lt;/sup&gt;</td>\n",
       "      <td>0.29 m</td>\n",
       "      <td>231 kg</td>\n",
       "      <td>NaN</td>\n",
       "      <td>34.39</td>\n",
       "      <td>NaN</td>\n",
       "      <td>41.06</td>\n",
       "      <td>Wood</td>\n",
       "      <td>NaN</td>\n",
       "      <td>1931.0</td>\n",
       "      <td>NaN</td>\n",
       "      <td>Krogen Brothers</td>\n",
       "      <td>5.48</td>\n",
       "      <td>2.35</td>\n",
       "      <td>NaN</td>\n",
       "      <td>NaN</td>\n",
       "      <td>NaN</td>\n",
       "      <td>NaN</td>\n",
       "      <td>NaN</td>\n",
       "      <td>NaN</td>\n",
       "      <td>NaN</td>\n",
       "      <td>NaN</td>\n",
       "      <td>NaN</td>\n",
       "      <td>NaN</td>\n",
       "      <td>NaN</td>\n",
       "      <td>&lt;a class=\"\" href=\"https://sailboatdata.com/sai...</td>\n",
       "      <td>12 SQUARE METER SHARPIE</td>\n",
       "      <td>00004.jpg</td>\n",
       "      <td>0.97 m</td>\n",
       "      <td>NaN</td>\n",
       "      <td>NaN</td>\n",
       "      <td>NaN</td>\n",
       "      <td>NaN</td>\n",
       "      <td>NaN</td>\n",
       "      <td>NaN</td>\n",
       "      <td>NaN</td>\n",
       "      <td>NaN</td>\n",
       "      <td>NaN</td>\n",
       "      <td>NaN</td>\n",
       "      <td>NaN</td>\n",
       "      <td>NaN</td>\n",
       "      <td>NaN</td>\n",
       "      <td>NaN</td>\n",
       "      <td>NaN</td>\n",
       "      <td>NaN</td>\n",
       "    </tr>\n",
       "    <tr>\n",
       "      <th>...</th>\n",
       "      <td>...</td>\n",
       "      <td>...</td>\n",
       "      <td>...</td>\n",
       "      <td>...</td>\n",
       "      <td>...</td>\n",
       "      <td>...</td>\n",
       "      <td>...</td>\n",
       "      <td>...</td>\n",
       "      <td>...</td>\n",
       "      <td>...</td>\n",
       "      <td>...</td>\n",
       "      <td>...</td>\n",
       "      <td>...</td>\n",
       "      <td>...</td>\n",
       "      <td>...</td>\n",
       "      <td>...</td>\n",
       "      <td>...</td>\n",
       "      <td>...</td>\n",
       "      <td>...</td>\n",
       "      <td>...</td>\n",
       "      <td>...</td>\n",
       "      <td>...</td>\n",
       "      <td>...</td>\n",
       "      <td>...</td>\n",
       "      <td>...</td>\n",
       "      <td>...</td>\n",
       "      <td>...</td>\n",
       "      <td>...</td>\n",
       "      <td>...</td>\n",
       "      <td>...</td>\n",
       "      <td>...</td>\n",
       "      <td>...</td>\n",
       "      <td>...</td>\n",
       "      <td>...</td>\n",
       "      <td>...</td>\n",
       "      <td>...</td>\n",
       "      <td>...</td>\n",
       "      <td>...</td>\n",
       "      <td>...</td>\n",
       "      <td>...</td>\n",
       "      <td>...</td>\n",
       "      <td>...</td>\n",
       "      <td>...</td>\n",
       "      <td>...</td>\n",
       "      <td>...</td>\n",
       "      <td>...</td>\n",
       "      <td>...</td>\n",
       "      <td>...</td>\n",
       "      <td>...</td>\n",
       "      <td>...</td>\n",
       "    </tr>\n",
       "    <tr>\n",
       "      <th>10490</th>\n",
       "      <td>Fin with rudder on skeg</td>\n",
       "      <td>Masthead Sloop</td>\n",
       "      <td>10.50 m</td>\n",
       "      <td>8.42 m</td>\n",
       "      <td>3.20 m</td>\n",
       "      <td>46.73 m&lt;sup&gt;2&lt;/sup&gt;</td>\n",
       "      <td>1.80 m</td>\n",
       "      <td>5,000 kg</td>\n",
       "      <td>2,200 kg</td>\n",
       "      <td>16.30</td>\n",
       "      <td>44.00</td>\n",
       "      <td>233.55</td>\n",
       "      <td>FG</td>\n",
       "      <td>NaN</td>\n",
       "      <td>1984.0</td>\n",
       "      <td>NaN</td>\n",
       "      <td>Sparkman &amp; Stephens</td>\n",
       "      <td>25.06</td>\n",
       "      <td>1.89</td>\n",
       "      <td>2.26</td>\n",
       "      <td>13.41 m</td>\n",
       "      <td>3.95 m</td>\n",
       "      <td>11.80 m</td>\n",
       "      <td>3.43 m</td>\n",
       "      <td>NaN</td>\n",
       "      <td>NaN</td>\n",
       "      <td>26.49 m&lt;sup&gt;2&lt;/sup&gt;</td>\n",
       "      <td>20.23 m&lt;sup&gt;2&lt;/sup&gt;</td>\n",
       "      <td>16.30</td>\n",
       "      <td>13.98 m</td>\n",
       "      <td>&lt;a class=\"\" href=\"https://sailboatdata.com/sai...</td>\n",
       "      <td>ZUANELLI 34</td>\n",
       "      <td>10490.jpg</td>\n",
       "      <td>NaN</td>\n",
       "      <td>Cantiere Zuanelli (ITA)</td>\n",
       "      <td>NaN</td>\n",
       "      <td>NaN</td>\n",
       "      <td>Volvo Penta</td>\n",
       "      <td>Diesel</td>\n",
       "      <td>NaN</td>\n",
       "      <td>72 L</td>\n",
       "      <td>NaN</td>\n",
       "      <td>151 L</td>\n",
       "      <td>NaN</td>\n",
       "      <td>NaN</td>\n",
       "      <td>NaN</td>\n",
       "      <td>NaN</td>\n",
       "      <td>NaN</td>\n",
       "      <td>NaN</td>\n",
       "      <td>NaN</td>\n",
       "    </tr>\n",
       "    <tr>\n",
       "      <th>10491</th>\n",
       "      <td>Fin w/spade rudder</td>\n",
       "      <td>Masthead Sloop</td>\n",
       "      <td>12.70 m</td>\n",
       "      <td>10.35 m</td>\n",
       "      <td>3.90 m</td>\n",
       "      <td>69.31 m&lt;sup&gt;2&lt;/sup&gt;</td>\n",
       "      <td>1.95 m</td>\n",
       "      <td>9,000 kg</td>\n",
       "      <td>3,600 kg</td>\n",
       "      <td>16.35</td>\n",
       "      <td>40.00</td>\n",
       "      <td>226.16</td>\n",
       "      <td>FG</td>\n",
       "      <td>Lead</td>\n",
       "      <td>1996.0</td>\n",
       "      <td>NaN</td>\n",
       "      <td>Sparkman &amp; Stephens</td>\n",
       "      <td>28.35</td>\n",
       "      <td>1.89</td>\n",
       "      <td>2.34</td>\n",
       "      <td>16.15 m</td>\n",
       "      <td>4.88 m</td>\n",
       "      <td>14.50 m</td>\n",
       "      <td>4.12 m</td>\n",
       "      <td>NaN</td>\n",
       "      <td>NaN</td>\n",
       "      <td>39.40 m&lt;sup&gt;2&lt;/sup&gt;</td>\n",
       "      <td>29.88 m&lt;sup&gt;2&lt;/sup&gt;</td>\n",
       "      <td>16.34</td>\n",
       "      <td>16.87 m</td>\n",
       "      <td>&lt;a class=\"\" href=\"https://sailboatdata.com/sai...</td>\n",
       "      <td>ZUANELLI 401</td>\n",
       "      <td>10491.jpg</td>\n",
       "      <td>NaN</td>\n",
       "      <td>Cantiere Zuanelli (ITA)</td>\n",
       "      <td>NaN</td>\n",
       "      <td>NaN</td>\n",
       "      <td>Volvo Penta</td>\n",
       "      <td>Diesel</td>\n",
       "      <td>55</td>\n",
       "      <td>49 L</td>\n",
       "      <td>NaN</td>\n",
       "      <td>575 L</td>\n",
       "      <td>NaN</td>\n",
       "      <td>NaN</td>\n",
       "      <td>NaN</td>\n",
       "      <td>NaN</td>\n",
       "      <td>NaN</td>\n",
       "      <td>NaN</td>\n",
       "      <td>NaN</td>\n",
       "    </tr>\n",
       "    <tr>\n",
       "      <th>10492</th>\n",
       "      <td>Fin Keel w/bulb</td>\n",
       "      <td>Fractional  Sloop</td>\n",
       "      <td>5.79 m</td>\n",
       "      <td>5.31 m</td>\n",
       "      <td>1.88 m</td>\n",
       "      <td>17.00 m&lt;sup&gt;2&lt;/sup&gt;</td>\n",
       "      <td>0.86 m</td>\n",
       "      <td>379 kg</td>\n",
       "      <td>80 kg</td>\n",
       "      <td>33.05</td>\n",
       "      <td>21.05</td>\n",
       "      <td>70.60</td>\n",
       "      <td>Wood/FG</td>\n",
       "      <td>Lead</td>\n",
       "      <td>1960.0</td>\n",
       "      <td>NaN</td>\n",
       "      <td>Ernst Lehfeld</td>\n",
       "      <td>6.40</td>\n",
       "      <td>2.62</td>\n",
       "      <td>NaN</td>\n",
       "      <td>NaN</td>\n",
       "      <td>NaN</td>\n",
       "      <td>NaN</td>\n",
       "      <td>NaN</td>\n",
       "      <td>NaN</td>\n",
       "      <td>NaN</td>\n",
       "      <td>NaN</td>\n",
       "      <td>NaN</td>\n",
       "      <td>NaN</td>\n",
       "      <td>NaN</td>\n",
       "      <td>&lt;a class=\"\" href=\"https://sailboatdata.com/sai...</td>\n",
       "      <td>ZUGVOGEL (KEEL)</td>\n",
       "      <td>10492.jpg</td>\n",
       "      <td>NaN</td>\n",
       "      <td>NaN</td>\n",
       "      <td>NaN</td>\n",
       "      <td>NaN</td>\n",
       "      <td>NaN</td>\n",
       "      <td>NaN</td>\n",
       "      <td>NaN</td>\n",
       "      <td>NaN</td>\n",
       "      <td>NaN</td>\n",
       "      <td>NaN</td>\n",
       "      <td>NaN</td>\n",
       "      <td>NaN</td>\n",
       "      <td>NaN</td>\n",
       "      <td>NaN</td>\n",
       "      <td>NaN</td>\n",
       "      <td>NaN</td>\n",
       "      <td>NaN</td>\n",
       "    </tr>\n",
       "    <tr>\n",
       "      <th>10493</th>\n",
       "      <td>Dbrd. Dinghy</td>\n",
       "      <td>Cat (unstayed)</td>\n",
       "      <td>3.89 m</td>\n",
       "      <td>3.79 m</td>\n",
       "      <td>1.52 m</td>\n",
       "      <td>6.04 m&lt;sup&gt;2&lt;/sup&gt;</td>\n",
       "      <td>0.66 m</td>\n",
       "      <td>59 kg</td>\n",
       "      <td>NaN</td>\n",
       "      <td>40.75</td>\n",
       "      <td>NaN</td>\n",
       "      <td>30.06</td>\n",
       "      <td>FG</td>\n",
       "      <td>NaN</td>\n",
       "      <td>1984.0</td>\n",
       "      <td>NaN</td>\n",
       "      <td>Gary Grossman/Steve Nichols</td>\n",
       "      <td>1.86</td>\n",
       "      <td>3.96</td>\n",
       "      <td>NaN</td>\n",
       "      <td>NaN</td>\n",
       "      <td>NaN</td>\n",
       "      <td>NaN</td>\n",
       "      <td>NaN</td>\n",
       "      <td>NaN</td>\n",
       "      <td>NaN</td>\n",
       "      <td>NaN</td>\n",
       "      <td>NaN</td>\n",
       "      <td>NaN</td>\n",
       "      <td>NaN</td>\n",
       "      <td>&lt;a class=\"\" href=\"https://sailboatdata.com/sai...</td>\n",
       "      <td>ZUMA</td>\n",
       "      <td>10493.jpg</td>\n",
       "      <td>0.10 m</td>\n",
       "      <td>AMF Alcort/Vanguard Sailboats (USA)</td>\n",
       "      <td>NaN</td>\n",
       "      <td>NaN</td>\n",
       "      <td>NaN</td>\n",
       "      <td>NaN</td>\n",
       "      <td>NaN</td>\n",
       "      <td>NaN</td>\n",
       "      <td>NaN</td>\n",
       "      <td>NaN</td>\n",
       "      <td>NaN</td>\n",
       "      <td>NaN</td>\n",
       "      <td>NaN</td>\n",
       "      <td>NaN</td>\n",
       "      <td>NaN</td>\n",
       "      <td>NaN</td>\n",
       "      <td>NaN</td>\n",
       "    </tr>\n",
       "    <tr>\n",
       "      <th>10494</th>\n",
       "      <td>Centerboard Dinghy</td>\n",
       "      <td>Fractional  Sloop</td>\n",
       "      <td>3.60 m</td>\n",
       "      <td>NaN</td>\n",
       "      <td>1.37 m</td>\n",
       "      <td>8.64 m&lt;sup&gt;2&lt;/sup&gt;</td>\n",
       "      <td>NaN</td>\n",
       "      <td>80 kg</td>\n",
       "      <td>NaN</td>\n",
       "      <td>47.41</td>\n",
       "      <td>NaN</td>\n",
       "      <td>NaN</td>\n",
       "      <td>FG</td>\n",
       "      <td>NaN</td>\n",
       "      <td>2007.0</td>\n",
       "      <td>NaN</td>\n",
       "      <td>John Corby / David Harte</td>\n",
       "      <td>NaN</td>\n",
       "      <td>3.21</td>\n",
       "      <td>NaN</td>\n",
       "      <td>NaN</td>\n",
       "      <td>NaN</td>\n",
       "      <td>NaN</td>\n",
       "      <td>NaN</td>\n",
       "      <td>NaN</td>\n",
       "      <td>NaN</td>\n",
       "      <td>NaN</td>\n",
       "      <td>NaN</td>\n",
       "      <td>NaN</td>\n",
       "      <td>NaN</td>\n",
       "      <td>&lt;a class=\"\" href=\"https://sailboatdata.com/sai...</td>\n",
       "      <td>ZZAP</td>\n",
       "      <td>10494.jpg</td>\n",
       "      <td>NaN</td>\n",
       "      <td>Nautivela (ITA)</td>\n",
       "      <td>NaN</td>\n",
       "      <td>NaN</td>\n",
       "      <td>NaN</td>\n",
       "      <td>NaN</td>\n",
       "      <td>NaN</td>\n",
       "      <td>NaN</td>\n",
       "      <td>NaN</td>\n",
       "      <td>NaN</td>\n",
       "      <td>NaN</td>\n",
       "      <td>NaN</td>\n",
       "      <td>NaN</td>\n",
       "      <td>NaN</td>\n",
       "      <td>NaN</td>\n",
       "      <td>NaN</td>\n",
       "      <td>NaN</td>\n",
       "    </tr>\n",
       "  </tbody>\n",
       "</table>\n",
       "<p>10495 rows × 50 columns</p>\n",
       "</div>"
      ],
      "text/plain": [
       "                       Hull Type       Rigging Type      LOA      LWL    Beam  \\\n",
       "0      Fin w/bulb & spade rudder  Fractional  Sloop  10.30 m   8.20 m  2.50 m   \n",
       "1      Fin w/bulb & spade rudder  Fractional  Sloop  10.30 m   8.20 m  2.50 m   \n",
       "2      Fin w/bulb & spade rudder  Fractional  Sloop   7.32 m   5.49 m  1.27 m   \n",
       "3      Fin w/bulb & spade rudder  Fractional  Sloop   7.32 m   5.49 m  1.27 m   \n",
       "4             Centerboard Dinghy             Gunter   5.97 m   5.39 m  1.43 m   \n",
       "...                          ...                ...      ...      ...     ...   \n",
       "10490    Fin with rudder on skeg     Masthead Sloop  10.50 m   8.42 m  3.20 m   \n",
       "10491         Fin w/spade rudder     Masthead Sloop  12.70 m  10.35 m  3.90 m   \n",
       "10492            Fin Keel w/bulb  Fractional  Sloop   5.79 m   5.31 m  1.88 m   \n",
       "10493               Dbrd. Dinghy     Cat (unstayed)   3.89 m   3.79 m  1.52 m   \n",
       "10494         Centerboard Dinghy  Fractional  Sloop   3.60 m      NaN  1.37 m   \n",
       "\n",
       "           S.A. (reported) Draft (max) Displacement   Ballast  S.A./Disp.  \\\n",
       "0      41.81 m<sup>2</sup>      1.80 m     1,600 kg    725 kg       31.16   \n",
       "1      41.81 m<sup>2</sup>      1.80 m     1,600 kg    725 kg       31.16   \n",
       "2      14.59 m<sup>2</sup>      0.91 m       413 kg    136 kg       26.80   \n",
       "3      14.59 m<sup>2</sup>      0.91 m       413 kg    136 kg       26.80   \n",
       "4      12.73 m<sup>2</sup>      0.29 m       231 kg       NaN       34.39   \n",
       "...                    ...         ...          ...       ...         ...   \n",
       "10490  46.73 m<sup>2</sup>      1.80 m     5,000 kg  2,200 kg       16.30   \n",
       "10491  69.31 m<sup>2</sup>      1.95 m     9,000 kg  3,600 kg       16.35   \n",
       "10492  17.00 m<sup>2</sup>      0.86 m       379 kg     80 kg       33.05   \n",
       "10493   6.04 m<sup>2</sup>      0.66 m        59 kg       NaN       40.75   \n",
       "10494   8.64 m<sup>2</sup>         NaN        80 kg       NaN       47.41   \n",
       "\n",
       "       Bal./Disp. Disp./Len.         Construction Ballast Type  First Built  \\\n",
       "0           45.31      80.89  FG w/core,Composite         Lead       1990.0   \n",
       "1           45.31      80.89  FG w/core,Composite         Lead       1990.0   \n",
       "2           32.97      69.66       Plywood or GRP         Iron       1938.0   \n",
       "3           32.97      69.66       Plywood or GRP         Iron       1938.0   \n",
       "4             NaN      41.06                 Wood          NaN       1931.0   \n",
       "...           ...        ...                  ...          ...          ...   \n",
       "10490       44.00     233.55                   FG          NaN       1984.0   \n",
       "10491       40.00     226.16                   FG         Lead       1996.0   \n",
       "10492       21.05      70.60              Wood/FG         Lead       1960.0   \n",
       "10493         NaN      30.06                   FG          NaN       1984.0   \n",
       "10494         NaN        NaN                   FG          NaN       2007.0   \n",
       "\n",
       "       # Built                      Designer  Comfort Ratio  \\\n",
       "0        350.0  Ron Holland & Rolf Gyhlenius          11.41   \n",
       "1        350.0  Ron Holland & Rolf Gyhlenius          11.41   \n",
       "2        750.0               C. Raymond Hunt          10.58   \n",
       "3        750.0               C. Raymond Hunt          10.58   \n",
       "4          NaN               Krogen Brothers           5.48   \n",
       "...        ...                           ...            ...   \n",
       "10490      NaN           Sparkman & Stephens          25.06   \n",
       "10491      NaN           Sparkman & Stephens          28.35   \n",
       "10492      NaN                 Ernst Lehfeld           6.40   \n",
       "10493      NaN   Gary Grossman/Steve Nichols           1.86   \n",
       "10494      NaN      John Corby / David Harte            NaN   \n",
       "\n",
       "       Capsize Screening Formula    S#        I       J        P       E  \\\n",
       "0                           2.16  6.48   9.81 m  3.10 m  11.00 m  4.15 m   \n",
       "1                           2.16  6.48   9.81 m  3.10 m  11.00 m  4.15 m   \n",
       "2                           1.72   NaN      NaN     NaN      NaN     NaN   \n",
       "3                           1.72   NaN      NaN     NaN      NaN     NaN   \n",
       "4                           2.35   NaN      NaN     NaN      NaN     NaN   \n",
       "...                          ...   ...      ...     ...      ...     ...   \n",
       "10490                       1.89  2.26  13.41 m  3.95 m  11.80 m  3.43 m   \n",
       "10491                       1.89  2.34  16.15 m  4.88 m  14.50 m  4.12 m   \n",
       "10492                       2.62   NaN      NaN     NaN      NaN     NaN   \n",
       "10493                       3.96   NaN      NaN     NaN      NaN     NaN   \n",
       "10494                       3.21   NaN      NaN     NaN      NaN     NaN   \n",
       "\n",
       "      SPL/TPS      ISP            S.A. Fore            S.A. Main  \\\n",
       "0      4.00 m  12.50 m  15.22 m<sup>2</sup>  22.83 m<sup>2</sup>   \n",
       "1      4.00 m  12.50 m  15.22 m<sup>2</sup>  22.83 m<sup>2</sup>   \n",
       "2         NaN      NaN                  NaN                  NaN   \n",
       "3         NaN      NaN                  NaN                  NaN   \n",
       "4         NaN      NaN                  NaN                  NaN   \n",
       "...       ...      ...                  ...                  ...   \n",
       "10490     NaN      NaN  26.49 m<sup>2</sup>  20.23 m<sup>2</sup>   \n",
       "10491     NaN      NaN  39.40 m<sup>2</sup>  29.88 m<sup>2</sup>   \n",
       "10492     NaN      NaN                  NaN                  NaN   \n",
       "10493     NaN      NaN                  NaN                  NaN   \n",
       "10494     NaN      NaN                  NaN                  NaN   \n",
       "\n",
       "       S.A./Disp. (calc.) Est. Forestay Len.  \\\n",
       "0                   28.36            10.29 m   \n",
       "1                   28.36            10.29 m   \n",
       "2                     NaN                NaN   \n",
       "3                     NaN                NaN   \n",
       "4                     NaN                NaN   \n",
       "...                   ...                ...   \n",
       "10490               16.30            13.98 m   \n",
       "10491               16.34            16.87 m   \n",
       "10492                 NaN                NaN   \n",
       "10493                 NaN                NaN   \n",
       "10494                 NaN                NaN   \n",
       "\n",
       "                                    Download Boat Record  \\\n",
       "0      <a class=\"\" href=\"https://sailboatdata.com/sai...   \n",
       "1      <a class=\"\" href=\"https://sailboatdata.com/sai...   \n",
       "2      <a class=\"\" href=\"https://sailboatdata.com/sai...   \n",
       "3      <a class=\"\" href=\"https://sailboatdata.com/sai...   \n",
       "4      <a class=\"\" href=\"https://sailboatdata.com/sai...   \n",
       "...                                                  ...   \n",
       "10490  <a class=\"\" href=\"https://sailboatdata.com/sai...   \n",
       "10491  <a class=\"\" href=\"https://sailboatdata.com/sai...   \n",
       "10492  <a class=\"\" href=\"https://sailboatdata.com/sai...   \n",
       "10493  <a class=\"\" href=\"https://sailboatdata.com/sai...   \n",
       "10494  <a class=\"\" href=\"https://sailboatdata.com/sai...   \n",
       "\n",
       "                          name   img_path Draft (min)  \\\n",
       "0                     11 METER  00000.jpg         NaN   \n",
       "1                     11 METER  00001.jpg         NaN   \n",
       "2                          110  00002.jpg         NaN   \n",
       "3                          110  00003.jpg         NaN   \n",
       "4      12 SQUARE METER SHARPIE  00004.jpg      0.97 m   \n",
       "...                        ...        ...         ...   \n",
       "10490              ZUANELLI 34  10490.jpg         NaN   \n",
       "10491             ZUANELLI 401  10491.jpg         NaN   \n",
       "10492          ZUGVOGEL (KEEL)  10492.jpg         NaN   \n",
       "10493                     ZUMA  10493.jpg      0.10 m   \n",
       "10494                     ZZAP  10494.jpg         NaN   \n",
       "\n",
       "                                   Builder Model  Last Built         Make  \\\n",
       "0                                      NaN   NaN         NaN          NaN   \n",
       "1                                      NaN   NaN         NaN          NaN   \n",
       "2                                      NaN   NaN         NaN          NaN   \n",
       "3                                      NaN   NaN         NaN          NaN   \n",
       "4                                      NaN   NaN         NaN          NaN   \n",
       "...                                    ...   ...         ...          ...   \n",
       "10490              Cantiere Zuanelli (ITA)   NaN         NaN  Volvo Penta   \n",
       "10491              Cantiere Zuanelli (ITA)   NaN         NaN  Volvo Penta   \n",
       "10492                                  NaN   NaN         NaN          NaN   \n",
       "10493  AMF Alcort/Vanguard Sailboats (USA)   NaN         NaN          NaN   \n",
       "10494                      Nautivela (ITA)   NaN         NaN          NaN   \n",
       "\n",
       "         Type   HP  Fuel Headroom  Water Website  KSP   PY   EY  \\\n",
       "0         NaN  NaN   NaN      NaN    NaN     NaN  NaN  NaN  NaN   \n",
       "1         NaN  NaN   NaN      NaN    NaN     NaN  NaN  NaN  NaN   \n",
       "2         NaN  NaN   NaN      NaN    NaN     NaN  NaN  NaN  NaN   \n",
       "3         NaN  NaN   NaN      NaN    NaN     NaN  NaN  NaN  NaN   \n",
       "4         NaN  NaN   NaN      NaN    NaN     NaN  NaN  NaN  NaN   \n",
       "...       ...  ...   ...      ...    ...     ...  ...  ...  ...   \n",
       "10490  Diesel  NaN  72 L      NaN  151 L     NaN  NaN  NaN  NaN   \n",
       "10491  Diesel   55  49 L      NaN  575 L     NaN  NaN  NaN  NaN   \n",
       "10492     NaN  NaN   NaN      NaN    NaN     NaN  NaN  NaN  NaN   \n",
       "10493     NaN  NaN   NaN      NaN    NaN     NaN  NaN  NaN  NaN   \n",
       "10494     NaN  NaN   NaN      NaN    NaN     NaN  NaN  NaN  NaN   \n",
       "\n",
       "      Bridgedeck Clearance Mast Height from DWL  Bruce Number  \n",
       "0                      NaN                  NaN           NaN  \n",
       "1                      NaN                  NaN           NaN  \n",
       "2                      NaN                  NaN           NaN  \n",
       "3                      NaN                  NaN           NaN  \n",
       "4                      NaN                  NaN           NaN  \n",
       "...                    ...                  ...           ...  \n",
       "10490                  NaN                  NaN           NaN  \n",
       "10491                  NaN                  NaN           NaN  \n",
       "10492                  NaN                  NaN           NaN  \n",
       "10493                  NaN                  NaN           NaN  \n",
       "10494                  NaN                  NaN           NaN  \n",
       "\n",
       "[10495 rows x 50 columns]"
      ]
     },
     "execution_count": 4,
     "metadata": {},
     "output_type": "execute_result"
    }
   ],
   "source": [
    "pd.set_option('display.max_columns', None)\n",
    "data_raw = pd.read_csv(data_dir+\"boat_data.csv\")\n",
    "data_raw"
   ]
  },
  {
   "attachments": {},
   "cell_type": "markdown",
   "metadata": {},
   "source": [
    "## boat24.com"
   ]
  },
  {
   "attachments": {},
   "cell_type": "markdown",
   "metadata": {},
   "source": [
    "regex"
   ]
  },
  {
   "cell_type": "code",
   "execution_count": 30,
   "metadata": {},
   "outputs": [],
   "source": [
    "n_pages_tag = re.compile(r'\\?page=(\\d{3,})') # For getting the amount of pages on the domain\n",
    "\n",
    "name_and_url_tag = re.compile(r'__title\\\"><a href=\\\"(https://www\\.boat24\\.com.+)\\\"\\stitle=\\\"(.+?)\\\"\\s>')\n",
    "\n",
    "image_tag = re.compile(r'srcset=\\\"(https://[^\\s]+?\\.jpg) \\d[^2]')\n"
   ]
  },
  {
   "cell_type": "code",
   "execution_count": 19,
   "metadata": {},
   "outputs": [
    {
     "data": {
      "text/plain": [
       "'10494.jpg'"
      ]
     },
     "execution_count": 19,
     "metadata": {},
     "output_type": "execute_result"
    }
   ],
   "source": [
    "data_raw['img_path'][data_raw.__len__()-1]"
   ]
  },
  {
   "cell_type": "code",
   "execution_count": 36,
   "metadata": {},
   "outputs": [
    {
     "name": "stdout",
     "output_type": "stream",
     "text": [
      "Scraping 11 METER ...\n",
      "[]\n",
      "Scraping 11 METER ...\n",
      "[]\n",
      "Scraping 110 ...\n",
      "[('https://www.boat24.com/en/powerboats/performance/performance-1107-1201-refit-2022-carbon-edition/detail/508471/', 'Performance 1107 1201 REFIT 2022 Carbon Edition!'), ('https://www.boat24.com/en/powerboats/scand/scand-11000-dynamic/detail/529784/', 'Scand 11000 Dynamic'), ('https://www.boat24.com/en/powerboats/menorquin/menorquin-110/detail/520010/', 'Menorquin 110'), ('https://www.boat24.com/en/powerboats/performance/performance-1107/detail/532470/', 'Performance 1107'), ('https://www.boat24.com/en/powerboats/yachtwerft-barten-machetta-1100-l/detail/531837/', 'Yachtwerft-Barten Machetta 1100 L'), ('https://www.boat24.com/en/powerboats/ruber-110sl/detail/490619/', 'Ruber 110SL'), ('https://www.boat24.com/en/powerboats/lehmar/lehmar-lehmann-ch-ls1100/detail/464463/', 'Lehmar Lehmann CH, LS1100'), ('https://www.boat24.com/en/powerboats/menorquin/menorquin-110/detail/498874/', 'Menorquin 110'), ('https://www.boat24.com/en/powerboats/menorquin/menorquin-110/detail/526925/', 'Menorquin 110'), ('https://www.boat24.com/en/engines/volvo-penta/volvo-penta-aq110130/detail/531403/\" title=\"Volvo Penta AQ110/130\" >Volvo Penta AQ110/130</a></h3><p class=\"blurb__subtitle\">Volvo Penta AQ 110/130</p><ul class=\"blurb__facts\"><li class=\"blurb__fact l-hide--lg-u\"><span class=\"blurb__value\">1979</span><span class=\"blurb__key\">Year Built</span></li></ul><p class=\"blurb__location\">Switzerland<span class=\"blurb__location-divider\"> &raquo; </span>Lake of Zurich<span class=\"blurb__location-divider\"> &raquo; </span>Zürich</p></div><aside class=\"blurb__side\"><p class=\"blurb__price\">EUR 4.320,-</p><p class=\"blurb__price-type\"></p><ul class=\"blurb__description\"><li></li><li>Year Built 1979</li></ul><a href=\"https://www.boat24.com/en/engines/volvo-penta/volvo-penta-aq110130/detail/531403/\" title=\"Volvo Penta AQ110/130\" class=\"blurb__button button button--small button--tertiary button--full-width l-hide--md-d\" >Show offer</a></aside></div></li><li><div class=\"blurb blurb--strip blurb--singleline js-link\" data-link=\"https://www.boat24.com/en/powerboats/menorquin/menorquin-110/detail/524209/\" title=\"Menorquin 110\"><div class=\"blurb__image-area\"><div class=\"slider\"><div class=\"slider__wrapper js-slider\"><ul class=\"slider__slides js-slider-slides\"><li class=\"slider__slide js-slider-slide\"><figure class=\"blurb__image blurb__image--ratio-4-3\"><img src=\"/img/alpha.gif\" data-srcset=\"https://static.boat24.com/thumbs/small/524209-1671429725.jpg 120w, https://static.boat24.com/thumbs/large/524209-1671429725.jpg 240w, https://static.boat24.com/thumbs/xlarge/524209-1671429725.jpg 480w, https://static.boat24.com/thumbs/xxlarge/524209-1671429725.jpg 960w\" data-sizes=\"auto\" alt=\"Menorquin 110\" class=\"image image--lazy lazyload\"></figure></li><li class=\"slider__slide js-slider-slide\"><figure class=\"blurb__image blurb__image--ratio-4-3\"><img src=\"/img/alpha.gif\" data-srcset=\"https://static.boat24.com/fotos/small/524209-cb640ba105d0c4ecd572eb0289d54a9c-x-4810317-f9c66042d17bfd02abd47803f70c45a5.jpg 240w, https://static.boat24.com/fotos/medium/524209-cb640ba105d0c4ecd572eb0289d54a9c-x-4810317-f9c66042d17bfd02abd47803f70c45a5.jpg 480w\" data-sizes=\"auto\" class=\"slider__image image image--lazy lazyload\" alt=\"Menorquin 110\"></figure></li><li class=\"slider__slide js-slider-slide\"><figure class=\"blurb__image blurb__image--ratio-4-3\"><img src=\"/img/alpha.gif\" data-srcset=\"https://static.boat24.com/fotos/small/524209-2bcde40afcfec371228112c04cec14ea-x-4810318-d0b66f4bc93a16a340aad2871cb7d2f2.jpg 240w, https://static.boat24.com/fotos/medium/524209-2bcde40afcfec371228112c04cec14ea-x-4810318-d0b66f4bc93a16a340aad2871cb7d2f2.jpg 480w\" data-sizes=\"auto\" class=\"slider__image image image--lazy lazyload\" alt=\"Menorquin 110\"></figure></li><li class=\"slider__slide js-slider-slide\"><figure class=\"blurb__image blurb__image--ratio-4-3\"><img src=\"/img/alpha.gif\" data-srcset=\"https://static.boat24.com/fotos/small/524209-67eeb76072ae15dc85c059afc3e0b862-x-4810319-ac584c3c48490b740f5b0dac1eb33e7b.jpg 240w, https://static.boat24.com/fotos/medium/524209-67eeb76072ae15dc85c059afc3e0b862-x-4810319-ac584c3c48490b740f5b0dac1eb33e7b.jpg 480w\" data-sizes=\"auto\" class=\"slider__image image image--lazy lazyload\" alt=\"Menorquin 110\"></figure></li><li class=\"slider__slide js-slider-slide\"><figure class=\"blurb__image blurb__image--ratio-4-3\"><img src=\"/img/alpha.gif\" data-srcset=\"https://static.boat24.com/fotos/small/524209-84d2a67bb960ebecf8a374cc76716f55-x-4863402-a5a4c296359a8be55ff03d117689d7f7.jpg 240w, https://static.boat24.com/fotos/medium/524209-84d2a67bb960ebecf8a374cc76716f55-x-4863402-a5a4c296359a8be55ff03d117689d7f7.jpg 480w\" data-sizes=\"auto\" class=\"slider__image image image--lazy lazyload\" alt=\"Menorquin 110\"></figure></li><li class=\"slider__slide js-slider-slide\"><figure class=\"blurb__image blurb__image--ratio-4-3\"><img src=\"/img/alpha.gif\" data-srcset=\"https://static.boat24.com/fotos/small/524209-0ad0bb6ee9266b9a83e006d325a154b4-x-4863403-cbebbb5564c8a611c5fbca7e5c6c1141.jpg 240w, https://static.boat24.com/fotos/medium/524209-0ad0bb6ee9266b9a83e006d325a154b4-x-4863403-cbebbb5564c8a611c5fbca7e5c6c1141.jpg 480w\" data-sizes=\"auto\" class=\"slider__image image image--lazy lazyload\" alt=\"Menorquin 110\"></figure></li><li class=\"slider__slide js-slider-slide\"><figure class=\"blurb__image blurb__image--ratio-4-3\"><img src=\"/img/alpha.gif\" data-srcset=\"https://static.boat24.com/fotos/small/524209-23e79585256a078cbb3f12055cecd5bc-x-4863404-add5977c1f966e3ed6e2841c309c58af.jpg 240w, https://static.boat24.com/fotos/medium/524209-23e79585256a078cbb3f12055cecd5bc-x-4863404-add5977c1f966e3ed6e2841c309c58af.jpg 480w\" data-sizes=\"auto\" class=\"slider__image image image--lazy lazyload\" alt=\"Menorquin 110\"></figure></li><li class=\"slider__slide js-slider-slide\"><figure class=\"blurb__image blurb__image--ratio-4-3\"><img src=\"/img/alpha.gif\" data-srcset=\"https://static.boat24.com/fotos/small/524209-7518c1a1ae4005f21169375ef04b4c23-x-4863405-7e9c2b7a499e24fd6200392cf4311811.jpg 240w, https://static.boat24.com/fotos/medium/524209-7518c1a1ae4005f21169375ef04b4c23-x-4863405-7e9c2b7a499e24fd6200392cf4311811.jpg 480w\" data-sizes=\"auto\" class=\"slider__image image image--lazy lazyload\" alt=\"Menorquin 110\"></figure></li><li class=\"slider__slide js-slider-slide\"><figure class=\"blurb__image blurb__image--ratio-4-3\"><img src=\"/img/alpha.gif\" data-srcset=\"https://static.boat24.com/fotos/small/524209-7ef2d32e862c2b7b23e5090920039ff3-x-4863406-c16cf88f770c6399b2332fa74b300d67.jpg 240w, https://static.boat24.com/fotos/medium/524209-7ef2d32e862c2b7b23e5090920039ff3-x-4863406-c16cf88f770c6399b2332fa74b300d67.jpg 480w\" data-sizes=\"auto\" class=\"slider__image image image--lazy lazyload\" alt=\"Menorquin 110\"></figure></li><li class=\"slider__slide js-slider-slide\"><figure class=\"blurb__image blurb__image--ratio-4-3\"><img src=\"/img/alpha.gif\" data-srcset=\"https://static.boat24.com/fotos/small/524209-7bc609315c8f924d48315234f2f775f3-x-4863407-e5c7d08f71707d5f8bd9075b7cc472b2.jpg 240w, https://static.boat24.com/fotos/medium/524209-7bc609315c8f924d48315234f2f775f3-x-4863407-e5c7d08f71707d5f8bd9075b7cc472b2.jpg 480w\" data-sizes=\"auto\" class=\"slider__image image image--lazy lazyload\" alt=\"Menorquin 110\"></figure></li><li class=\"slider__slide js-slider-slide\"><figure class=\"blurb__image blurb__image--ratio-4-3\"><img src=\"/img/alpha.gif\" data-srcset=\"https://static.boat24.com/fotos/small/524209-1ed15fe6532cd40f76fc165c40d84aa0-x-4863408-a6d16ee890a71e0fb904f316d915af80.jpg 240w, https://static.boat24.com/fotos/medium/524209-1ed15fe6532cd40f76fc165c40d84aa0-x-4863408-a6d16ee890a71e0fb904f316d915af80.jpg 480w\" data-sizes=\"auto\" class=\"slider__image image image--lazy lazyload\" alt=\"Menorquin 110\"></figure></li><li class=\"slider__slide js-slider-slide\"><figure class=\"blurb__image blurb__image--ratio-4-3\"><img src=\"/img/alpha.gif\" data-srcset=\"https://static.boat24.com/fotos/small/524209-9524f1f22623669c45c8ce3d0e142f85-x-4863409-d46074ff6c8bea6ba539a58b071a3933.jpg 240w, https://static.boat24.com/fotos/medium/524209-9524f1f22623669c45c8ce3d0e142f85-x-4863409-d46074ff6c8bea6ba539a58b071a3933.jpg 480w\" data-sizes=\"auto\" class=\"slider__image image image--lazy lazyload\" alt=\"Menorquin 110\"></figure></li><li class=\"slider__slide js-slider-slide\"><figure class=\"blurb__image blurb__image--ratio-4-3\"><img src=\"/img/alpha.gif\" data-srcset=\"https://static.boat24.com/fotos/small/524209-c1026690e33e1ba6793a912dc5671748-x-4863410-67ce1d36740a4276075b491343857840.jpg 240w, https://static.boat24.com/fotos/medium/524209-c1026690e33e1ba6793a912dc5671748-x-4863410-67ce1d36740a4276075b491343857840.jpg 480w\" data-sizes=\"auto\" class=\"slider__image image image--lazy lazyload\" alt=\"Menorquin 110\"></figure></li><li class=\"slider__slide js-slider-slide\"><figure class=\"blurb__image blurb__image--ratio-4-3\"><img src=\"/img/alpha.gif\" data-srcset=\"https://static.boat24.com/fotos/small/524209-b6587f5dc1dd12771ae6ab3c29eddb6b-x-4863411-5e36403ee787e0278832a50649089e7b.jpg 240w, https://static.boat24.com/fotos/medium/524209-b6587f5dc1dd12771ae6ab3c29eddb6b-x-4863411-5e36403ee787e0278832a50649089e7b.jpg 480w\" data-sizes=\"auto\" class=\"slider__image image image--lazy lazyload\" alt=\"Menorquin 110\"></figure></li><li class=\"slider__slide js-slider-slide\"><figure class=\"blurb__image blurb__image--ratio-4-3\"><img src=\"/img/alpha.gif\" data-srcset=\"https://static.boat24.com/fotos/small/524209-3fb16a6ecd989398e34aa87d0b577d82-x-4863412-0368619c87740fa805edfbed2cc2934f.jpg 240w, https://static.boat24.com/fotos/medium/524209-3fb16a6ecd989398e34aa87d0b577d82-x-4863412-0368619c87740fa805edfbed2cc2934f.jpg 480w\" data-sizes=\"auto\" class=\"slider__image image image--lazy lazyload\" alt=\"Menorquin 110\"></figure></li><li class=\"slider__slide js-slider-slide\"><figure class=\"blurb__image blurb__image--ratio-4-3\"><img src=\"/img/alpha.gif\" data-srcset=\"https://static.boat24.com/fotos/small/524209-a5a5caf4dce59b0b5f3a4edda75763e6-x-4863413-8b7d85cbef95f7a4ac46cd9d359625c3.jpg 240w, https://static.boat24.com/fotos/medium/524209-a5a5caf4dce59b0b5f3a4edda75763e6-x-4863413-8b7d85cbef95f7a4ac46cd9d359625c3.jpg 480w\" data-sizes=\"auto\" class=\"slider__image image image--lazy lazyload\" alt=\"Menorquin 110\"></figure></li><li class=\"slider__slide js-slider-slide\"><figure class=\"blurb__image blurb__image--ratio-4-3\"><img src=\"/img/alpha.gif\" data-srcset=\"https://static.boat24.com/fotos/small/524209-0fc3fb949f9687fad1fa2efac51b48ac-x-4863414-adce35d2d6b03ec544ece5a938d02619.jpg 240w, https://static.boat24.com/fotos/medium/524209-0fc3fb949f9687fad1fa2efac51b48ac-x-4863414-adce35d2d6b03ec544ece5a938d02619.jpg 480w\" data-sizes=\"auto\" class=\"slider__image image image--lazy lazyload\" alt=\"Menorquin 110\"></figure></li><li class=\"slider__slide js-slider-slide\"><figure class=\"blurb__image blurb__image--ratio-4-3\"><img src=\"/img/alpha.gif\" data-srcset=\"https://static.boat24.com/fotos/small/524209-267b8df2f4c1b95e11c6cf5677ce4563-x-4863415-de06492b93ee9b7deef3eea29c499311.jpg 240w, https://static.boat24.com/fotos/medium/524209-267b8df2f4c1b95e11c6cf5677ce4563-x-4863415-de06492b93ee9b7deef3eea29c499311.jpg 480w\" data-sizes=\"auto\" class=\"slider__image image image--lazy lazyload\" alt=\"Menorquin 110\"></figure></li><li class=\"slider__slide js-slider-slide\"><figure class=\"blurb__image blurb__image--ratio-4-3\"><img src=\"/img/alpha.gif\" data-srcset=\"https://static.boat24.com/fotos/small/524209-5b7306a3bbf7940a50a26d8e9d2f24f4-x-4863416-2a603e51c661c3379f9348b09edf6748.jpg 240w, https://static.boat24.com/fotos/medium/524209-5b7306a3bbf7940a50a26d8e9d2f24f4-x-4863416-2a603e51c661c3379f9348b09edf6748.jpg 480w\" data-sizes=\"auto\" class=\"slider__image image image--lazy lazyload\" alt=\"Menorquin 110\"></figure></li><li class=\"slider__slide js-slider-slide\"><figure class=\"blurb__image blurb__image--ratio-4-3\"><img src=\"/img/alpha.gif\" data-srcset=\"https://static.boat24.com/fotos/small/524209-246fd7da93b38ff1b9e2059c88c5b9f0-x-4863417-d3a4475275dd41b2fc9afccba24567ca.jpg 240w, https://static.boat24.com/fotos/medium/524209-246fd7da93b38ff1b9e2059c88c5b9f0-x-4863417-d3a4475275dd41b2fc9afccba24567ca.jpg 480w\" data-sizes=\"auto\" class=\"slider__image image image--lazy lazyload\" alt=\"Menorquin 110\"></figure></li><li class=\"slider__slide js-slider-slide\"><figure class=\"blurb__image blurb__image--ratio-4-3\"><img src=\"/img/alpha.gif\" data-srcset=\"https://static.boat24.com/fotos/small/524209-292b4805a69603166917977952a9a7be-x-4863418-8796af056b9e7ace73795bb93c804170.jpg 240w, https://static.boat24.com/fotos/medium/524209-292b4805a69603166917977952a9a7be-x-4863418-8796af056b9e7ace73795bb93c804170.jpg 480w\" data-sizes=\"auto\" class=\"slider__image image image--lazy lazyload\" alt=\"Menorquin 110\"></figure></li></ul><div class=\"slider__slide-numbers js-slider-numbers\"><span class=\"slider__current-slide-number\">1</span>/20</div></div><div class=\"slider__slide-prev js-slider-previous\">previous</div><div class=\"slider__slide-next js-slider-next\">next</div></div><div class=\"blurb__bookmark js-toggle-favorite\" data-id=\"524209\" data-type=\"ads\" data-notifications-title=\"Menorquin 110\" data-notifications-message=\"Added to your favorites\" data-notifications-picture=\"https://static.boat24.com/thumbs/small/524209-1671429725.jpg\">Favorite</div></div><div class=\"blurb__main\"><p class=\"blurb__title-header\">Trawler</p><h3 class=\"blurb__title\"><a href=\"https://www.boat24.com/en/powerboats/menorquin/menorquin-110/detail/524209/', 'Menorquin 110'), ('https://www.boat24.com/en/powerboats/performance/performance-1107/detail/511887/', 'Performance 1107'), ('https://www.boat24.com/en/powerboats/stevens-nautical/stevens-nautical-1100-softtop/detail/531670/', 'Stevens Nautical 11.00 Softtop'), ('https://www.boat24.com/en/powerboats/haren-werft-1100/detail/518333/', 'Haren Werft 1100'), ('https://www.boat24.com/en/powerboats/valkkruiser/valkkruiser-1100-content/detail/506711/', 'Valkkruiser 1100 Content'), ('https://www.boat24.com/en/sailingboats/wibo-1100/detail/498035/', 'Wibo 1100'), ('https://www.boat24.com/en/powerboats/lauwersmeer/lauwersmeer-1100/detail/522420/', 'Lauwersmeer 1100'), ('https://www.boat24.com/en/powerboats/performance-marine-1107-performance/detail/522029/', 'Performance Marine 1107 Performance'), ('https://www.boat24.com/en/powerboats/permare/permare-amer-110/detail/512002/', 'Permare Amer 110'), ('https://www.boat24.com/en/powerboats/hellingskip/hellingskip-1100/detail/523055/', 'Hellingskip 1100'), ('https://www.boat24.com/en/powerboats/brandaris-1100-pur-sang/detail/513603/', 'Brandaris 1100 Pur Sang')]\n"
     ]
    },
    {
     "ename": "NameError",
     "evalue": "name 'names' is not defined",
     "output_type": "error",
     "traceback": [
      "\u001b[1;31m---------------------------------------------------------------------------\u001b[0m",
      "\u001b[1;31mNameError\u001b[0m                                 Traceback (most recent call last)",
      "\u001b[1;32mc:\\Users\\chris\\OneDrive\\Dokumenter\\GitHub\\SailFGVC\\scrape.ipynb Cell 18\u001b[0m in \u001b[0;36m1\n\u001b[0;32m     <a href='vscode-notebook-cell:/c%3A/Users/chris/OneDrive/Dokumenter/GitHub/SailFGVC/scrape.ipynb#X43sZmlsZQ%3D%3D?line=11'>12</a>\u001b[0m     \u001b[39mpass\u001b[39;00m\n\u001b[0;32m     <a href='vscode-notebook-cell:/c%3A/Users/chris/OneDrive/Dokumenter/GitHub/SailFGVC/scrape.ipynb#X43sZmlsZQ%3D%3D?line=12'>13</a>\u001b[0m \u001b[39melse\u001b[39;00m:\n\u001b[1;32m---> <a href='vscode-notebook-cell:/c%3A/Users/chris/OneDrive/Dokumenter/GitHub/SailFGVC/scrape.ipynb#X43sZmlsZQ%3D%3D?line=13'>14</a>\u001b[0m     \u001b[39mfor\u001b[39;00m name , url \u001b[39min\u001b[39;00m \u001b[39mzip\u001b[39m(names,urls):\n\u001b[0;32m     <a href='vscode-notebook-cell:/c%3A/Users/chris/OneDrive/Dokumenter/GitHub/SailFGVC/scrape.ipynb#X43sZmlsZQ%3D%3D?line=15'>16</a>\u001b[0m         images \u001b[39m=\u001b[39m re\u001b[39m.\u001b[39mfindall(image_tag,requests\u001b[39m.\u001b[39mget(url)\u001b[39m.\u001b[39mtext)\n\u001b[0;32m     <a href='vscode-notebook-cell:/c%3A/Users/chris/OneDrive/Dokumenter/GitHub/SailFGVC/scrape.ipynb#X43sZmlsZQ%3D%3D?line=16'>17</a>\u001b[0m         \u001b[39mfor\u001b[39;00m image \u001b[39min\u001b[39;00m images:\n",
      "\u001b[1;31mNameError\u001b[0m: name 'names' is not defined"
     ]
    }
   ],
   "source": [
    "# general_url = 'https://www.boat24.com/en/secondhandboats/?src={}'\n",
    "\n",
    "# counter = int(data_raw['img_path'][data_raw.__len__()-1].replace(\".jpg\",\"\"))+1\n",
    "# boat_data = pd.DataFrame()\n",
    "\n",
    "# for name in data_raw['name'].values:\n",
    "#     print(\"Scraping\",name,\"...\")   \n",
    "#     r = requests.get(general_url.format(name.replace(\" \",\"+\")))\n",
    "#     names_and_url = re.findall(name_and_url_tag , r.text)\n",
    "#     print(names_and_url)\n",
    "#     if len(names_and_url) == 0:\n",
    "#         pass\n",
    "#     else:\n",
    "#         for i in range(len(names_and_url)):\n",
    "#             images = re.findall(image_tag,requests.get(names_and_url[i][0]).text)\n",
    "#             for image in images:\n",
    "#                 img_path = str(counter).zfill(5)+\".jpg\"\n",
    "#                 if not os.path.isfile(img_path):\n",
    "#                     counter += 1\n",
    "#                     print(image)\n",
    "#                     try:\n",
    "#                         img_request.urlretrieve(image,img_dir+img_path)\n",
    "#                     except:\n",
    "#                         print(\"Strange url\" , image.replace(\" \",\"%20\"))\n",
    "#                         try:\n",
    "#                             img_request.urlretrieve(image,img_dir+img_path)\n",
    "#                         except:\n",
    "#                             has_image = False\n",
    "#                 new_row = {}\n",
    "#                 new_row['name'] = name\n",
    "#                 new_row['img_path'] = img_path\n",
    "#                 boat_data = pd.concat([boat_data, pd.DataFrame([new_row])], ignore_index=True)\n",
    "\n",
    "#     if counter%100 == 1:\n",
    "#         print(\"saving\")\n",
    "#         boat_data.to_csv(data_dir+\"boat_data_additional.csv\" , index=False)\n",
    "# boat_data.to_csv(data_dir+\"boat_data_additional.csv\" , index = False)\n"
   ]
  },
  {
   "attachments": {},
   "cell_type": "markdown",
   "metadata": {},
   "source": [
    "# Cleaning"
   ]
  },
  {
   "cell_type": "code",
   "execution_count": 4,
   "metadata": {},
   "outputs": [],
   "source": [
    "units_cleaner_tag = re.compile(r'([\\d.]+)(\\s*m|\\s*kg)(<.*>)*')\n",
    "\n",
    "def clean_row(row):\n",
    "  cleaned_row = []\n",
    "  for i in range(len(row)):\n",
    "    if i != 32:\n",
    "      try:\n",
    "        cleaned_row.append(float(re.sub(units_cleaner_tag , r'\\g<1>' , row[i].replace(',','') , )))\n",
    "      except:\n",
    "        cleaned_row.append(row[i])\n",
    "    else:\n",
    "      cleaned_row.append(row[i])\n",
    "  return cleaned_row"
   ]
  },
  {
   "cell_type": "code",
   "execution_count": 5,
   "metadata": {},
   "outputs": [],
   "source": [
    "cleaned_data = []\n",
    "for i , row in data_raw.iterrows():\n",
    "  cleaned_data.append(clean_row(row))"
   ]
  },
  {
   "cell_type": "code",
   "execution_count": 6,
   "metadata": {},
   "outputs": [],
   "source": [
    "data_clean = pd.DataFrame(cleaned_data , columns = data_raw.columns)\n",
    "data_clean.to_csv(data_dir+\"boat_data_clean.csv\" , index = False)"
   ]
  },
  {
   "cell_type": "code",
   "execution_count": 12,
   "metadata": {},
   "outputs": [],
   "source": [
    "data_clean = pd.read_csv(data_dir+\"boat_data_clean.csv\")"
   ]
  },
  {
   "cell_type": "code",
   "execution_count": 7,
   "metadata": {},
   "outputs": [],
   "source": [
    "row_clean_tag = re.compile(r'[^\\w\\s/&]')\n",
    "for column in data_clean.columns:\n",
    "    if (data_clean[column].dtype == \"object\" or data_clean[column].dtype == \"category\") and not column == \"Download Boat Record\" and not column == \"url\" and not column == \"img_path\":\n",
    "        data_clean[column] = data_clean[column].str.strip().str.rstrip('.').str.lower()\n",
    "        data_clean[column] = data_clean[column].str.replace(row_clean_tag , '')\n",
    "        # data_clean[column] = data_clean[column].astype('category')\n",
    "        # pd.DataFrame(data_clean[column].cat.categories).to_csv(data_dir+\"labels/\"+column.replace(\" \",\"_\")+\".txt\" , index = False , header = False)\n",
    "        # data_clean[column] = data_clean[column].cat.codes"
   ]
  },
  {
   "attachments": {},
   "cell_type": "markdown",
   "metadata": {},
   "source": [
    "# Splitting"
   ]
  },
  {
   "cell_type": "code",
   "execution_count": 8,
   "metadata": {},
   "outputs": [],
   "source": [
    "data_train , data_test = train_test_split(data_clean , test_size = 0.2 , random_state = 42)\n"
   ]
  },
  {
   "cell_type": "code",
   "execution_count": null,
   "metadata": {},
   "outputs": [],
   "source": [
    "train_dir = \"data/train/\"\n",
    "test_dir = \"data/test/\"\n",
    "\n",
    "if not(os.path.exists(train_dir)):\n",
    "    print(\"Making dir\" , train_dir)\n",
    "    makedirs(train_dir)\n",
    "\n",
    "if not(os.path.exists(test_dir)):\n",
    "    print(\"Making dir\" , test_dir)\n",
    "    makedirs(test_dir)\n",
    "\n",
    "\n",
    "for image in data_train['img_path']:\n",
    "    try:\n",
    "        img = Image.open(img_dir+image)\n",
    "        img = img.convert('RGB')\n",
    "        img.save(train_dir+image)\n",
    "    except:\n",
    "        print(\"Image not found\" , image)\n",
    "        data_train = data_train[data_train['img_path'] != image]\n",
    "\n",
    "for image in data_test['img_path']:\n",
    "    try:\n",
    "        img = Image.open(img_dir+image)\n",
    "        img = img.convert('RGB')\n",
    "        img.save(test_dir+image)\n",
    "    except:\n",
    "        print(\"Image not found\" , image)\n",
    "        data_test = data_test[data_test['img_path'] != image]\n"
   ]
  },
  {
   "cell_type": "code",
   "execution_count": 9,
   "metadata": {},
   "outputs": [],
   "source": [
    "data_train.to_csv(data_dir+\"boat_data_train.csv\" , index = False)\n",
    "data_test.to_csv(data_dir+\"boat_data_test.csv\" , index = False)"
   ]
  },
  {
   "attachments": {},
   "cell_type": "markdown",
   "metadata": {},
   "source": [
    "# Plotting"
   ]
  },
  {
   "cell_type": "code",
   "execution_count": null,
   "metadata": {},
   "outputs": [],
   "source": [
    "# data_train = pd.read_csv(data_dir+\"boat_data_train.csv\")\n",
    "# data_test = pd.read_csv(data_dir+\"boat_data_test.csv\")\n",
    "# data_clean = pd.read_csv(data_dir+\"boat_data_clean.csv\")"
   ]
  },
  {
   "cell_type": "code",
   "execution_count": null,
   "metadata": {},
   "outputs": [],
   "source": [
    "plot_dir = \"plots/\"\n",
    "if not(os.path.exists(plot_dir)):\n",
    "    print(\"Making dir\" , plot_dir)\n",
    "    os.makedirs(plot_dir)"
   ]
  },
  {
   "cell_type": "code",
   "execution_count": null,
   "metadata": {},
   "outputs": [
    {
     "name": "stdout",
     "output_type": "stream",
     "text": [
      "Plotting Hull Type\n",
      "Plotting Rigging Type\n",
      "Plotting Construction\n",
      "Plotting Ballast Type\n",
      "Plotting Designer\n"
     ]
    },
    {
     "name": "stderr",
     "output_type": "stream",
     "text": [
      "C:\\Users\\chris\\AppData\\Local\\Temp\\ipykernel_5516\\2040015531.py:6: RuntimeWarning: More than 20 figures have been opened. Figures created through the pyplot interface (`matplotlib.pyplot.figure`) are retained until explicitly closed and may consume too much memory. (To control this warning, see the rcParam `figure.max_open_warning`).\n",
      "  fig = plt.figure(figsize=(10*2,5*2))\n"
     ]
    },
    {
     "name": "stdout",
     "output_type": "stream",
     "text": [
      "Plotting Builder\n",
      "Plotting Model\n",
      "Plotting Make\n",
      "Plotting Type\n",
      "Plotting HP\n",
      "Plotting Fuel\n",
      "Plotting Water\n",
      "Plotting Website\n",
      "Plotting Hull Type\n",
      "Plotting Rigging Type\n",
      "Plotting Construction\n",
      "Plotting Ballast Type\n",
      "Plotting Designer\n",
      "Plotting Builder\n",
      "Plotting Model\n",
      "Plotting Make\n",
      "Plotting Type\n",
      "Plotting HP\n",
      "Plotting Fuel\n",
      "Plotting Water\n",
      "Plotting Website\n"
     ]
    },
    {
     "data": {
      "text/plain": [
       "<Figure size 2000x1000 with 0 Axes>"
      ]
     },
     "metadata": {},
     "output_type": "display_data"
    },
    {
     "data": {
      "text/plain": [
       "<Figure size 2000x1000 with 0 Axes>"
      ]
     },
     "metadata": {},
     "output_type": "display_data"
    },
    {
     "data": {
      "text/plain": [
       "<Figure size 2000x1000 with 0 Axes>"
      ]
     },
     "metadata": {},
     "output_type": "display_data"
    },
    {
     "data": {
      "text/plain": [
       "<Figure size 2000x1000 with 0 Axes>"
      ]
     },
     "metadata": {},
     "output_type": "display_data"
    },
    {
     "data": {
      "text/plain": [
       "<Figure size 2000x1000 with 0 Axes>"
      ]
     },
     "metadata": {},
     "output_type": "display_data"
    },
    {
     "data": {
      "text/plain": [
       "<Figure size 2000x1000 with 0 Axes>"
      ]
     },
     "metadata": {},
     "output_type": "display_data"
    },
    {
     "data": {
      "text/plain": [
       "<Figure size 2000x1000 with 0 Axes>"
      ]
     },
     "metadata": {},
     "output_type": "display_data"
    },
    {
     "data": {
      "text/plain": [
       "<Figure size 2000x1000 with 0 Axes>"
      ]
     },
     "metadata": {},
     "output_type": "display_data"
    },
    {
     "data": {
      "text/plain": [
       "<Figure size 2000x1000 with 0 Axes>"
      ]
     },
     "metadata": {},
     "output_type": "display_data"
    },
    {
     "data": {
      "text/plain": [
       "<Figure size 2000x1000 with 0 Axes>"
      ]
     },
     "metadata": {},
     "output_type": "display_data"
    },
    {
     "data": {
      "text/plain": [
       "<Figure size 2000x1000 with 0 Axes>"
      ]
     },
     "metadata": {},
     "output_type": "display_data"
    },
    {
     "data": {
      "text/plain": [
       "<Figure size 2000x1000 with 0 Axes>"
      ]
     },
     "metadata": {},
     "output_type": "display_data"
    },
    {
     "data": {
      "text/plain": [
       "<Figure size 2000x1000 with 0 Axes>"
      ]
     },
     "metadata": {},
     "output_type": "display_data"
    },
    {
     "data": {
      "text/plain": [
       "<Figure size 2000x1000 with 0 Axes>"
      ]
     },
     "metadata": {},
     "output_type": "display_data"
    },
    {
     "data": {
      "text/plain": [
       "<Figure size 2000x1000 with 0 Axes>"
      ]
     },
     "metadata": {},
     "output_type": "display_data"
    },
    {
     "data": {
      "text/plain": [
       "<Figure size 2000x1000 with 0 Axes>"
      ]
     },
     "metadata": {},
     "output_type": "display_data"
    },
    {
     "data": {
      "text/plain": [
       "<Figure size 2000x1000 with 0 Axes>"
      ]
     },
     "metadata": {},
     "output_type": "display_data"
    },
    {
     "data": {
      "text/plain": [
       "<Figure size 2000x1000 with 0 Axes>"
      ]
     },
     "metadata": {},
     "output_type": "display_data"
    },
    {
     "data": {
      "text/plain": [
       "<Figure size 2000x1000 with 0 Axes>"
      ]
     },
     "metadata": {},
     "output_type": "display_data"
    },
    {
     "data": {
      "text/plain": [
       "<Figure size 2000x1000 with 0 Axes>"
      ]
     },
     "metadata": {},
     "output_type": "display_data"
    },
    {
     "data": {
      "text/plain": [
       "<Figure size 2000x1000 with 0 Axes>"
      ]
     },
     "metadata": {},
     "output_type": "display_data"
    },
    {
     "data": {
      "text/plain": [
       "<Figure size 2000x1000 with 0 Axes>"
      ]
     },
     "metadata": {},
     "output_type": "display_data"
    },
    {
     "data": {
      "text/plain": [
       "<Figure size 2000x1000 with 0 Axes>"
      ]
     },
     "metadata": {},
     "output_type": "display_data"
    },
    {
     "data": {
      "text/plain": [
       "<Figure size 2000x1000 with 0 Axes>"
      ]
     },
     "metadata": {},
     "output_type": "display_data"
    },
    {
     "data": {
      "text/plain": [
       "<Figure size 2000x1000 with 0 Axes>"
      ]
     },
     "metadata": {},
     "output_type": "display_data"
    },
    {
     "data": {
      "text/plain": [
       "<Figure size 2000x1000 with 0 Axes>"
      ]
     },
     "metadata": {},
     "output_type": "display_data"
    },
    {
     "data": {
      "text/plain": [
       "<Figure size 2000x1000 with 0 Axes>"
      ]
     },
     "metadata": {},
     "output_type": "display_data"
    },
    {
     "data": {
      "text/plain": [
       "<Figure size 2000x1000 with 0 Axes>"
      ]
     },
     "metadata": {},
     "output_type": "display_data"
    },
    {
     "data": {
      "text/plain": [
       "<Figure size 2000x1000 with 0 Axes>"
      ]
     },
     "metadata": {},
     "output_type": "display_data"
    },
    {
     "data": {
      "text/plain": [
       "<Figure size 2000x1000 with 0 Axes>"
      ]
     },
     "metadata": {},
     "output_type": "display_data"
    },
    {
     "data": {
      "text/plain": [
       "<Figure size 2000x1000 with 0 Axes>"
      ]
     },
     "metadata": {},
     "output_type": "display_data"
    },
    {
     "data": {
      "text/plain": [
       "<Figure size 2000x1000 with 0 Axes>"
      ]
     },
     "metadata": {},
     "output_type": "display_data"
    },
    {
     "data": {
      "text/plain": [
       "<Figure size 2000x1000 with 0 Axes>"
      ]
     },
     "metadata": {},
     "output_type": "display_data"
    },
    {
     "data": {
      "text/plain": [
       "<Figure size 2000x1000 with 0 Axes>"
      ]
     },
     "metadata": {},
     "output_type": "display_data"
    },
    {
     "data": {
      "text/plain": [
       "<Figure size 2000x1000 with 0 Axes>"
      ]
     },
     "metadata": {},
     "output_type": "display_data"
    },
    {
     "data": {
      "text/plain": [
       "<Figure size 2000x1000 with 0 Axes>"
      ]
     },
     "metadata": {},
     "output_type": "display_data"
    },
    {
     "data": {
      "text/plain": [
       "<Figure size 2000x1000 with 0 Axes>"
      ]
     },
     "metadata": {},
     "output_type": "display_data"
    },
    {
     "data": {
      "text/plain": [
       "<Figure size 2000x1000 with 0 Axes>"
      ]
     },
     "metadata": {},
     "output_type": "display_data"
    },
    {
     "data": {
      "text/plain": [
       "<Figure size 2000x1000 with 0 Axes>"
      ]
     },
     "metadata": {},
     "output_type": "display_data"
    },
    {
     "data": {
      "text/plain": [
       "<Figure size 2000x1000 with 0 Axes>"
      ]
     },
     "metadata": {},
     "output_type": "display_data"
    },
    {
     "data": {
      "text/plain": [
       "<Figure size 2000x1000 with 0 Axes>"
      ]
     },
     "metadata": {},
     "output_type": "display_data"
    },
    {
     "data": {
      "text/plain": [
       "<Figure size 2000x1000 with 0 Axes>"
      ]
     },
     "metadata": {},
     "output_type": "display_data"
    },
    {
     "data": {
      "text/plain": [
       "<Figure size 2000x1000 with 0 Axes>"
      ]
     },
     "metadata": {},
     "output_type": "display_data"
    },
    {
     "data": {
      "text/plain": [
       "<Figure size 2000x1000 with 0 Axes>"
      ]
     },
     "metadata": {},
     "output_type": "display_data"
    },
    {
     "data": {
      "text/plain": [
       "<Figure size 2000x1000 with 0 Axes>"
      ]
     },
     "metadata": {},
     "output_type": "display_data"
    },
    {
     "data": {
      "text/plain": [
       "<Figure size 2000x1000 with 0 Axes>"
      ]
     },
     "metadata": {},
     "output_type": "display_data"
    },
    {
     "data": {
      "text/plain": [
       "<Figure size 2000x1000 with 0 Axes>"
      ]
     },
     "metadata": {},
     "output_type": "display_data"
    },
    {
     "data": {
      "text/plain": [
       "<Figure size 2000x1000 with 0 Axes>"
      ]
     },
     "metadata": {},
     "output_type": "display_data"
    },
    {
     "data": {
      "text/plain": [
       "<Figure size 2000x1000 with 0 Axes>"
      ]
     },
     "metadata": {},
     "output_type": "display_data"
    },
    {
     "data": {
      "text/plain": [
       "<Figure size 2000x1000 with 0 Axes>"
      ]
     },
     "metadata": {},
     "output_type": "display_data"
    },
    {
     "data": {
      "text/plain": [
       "<Figure size 2000x1000 with 0 Axes>"
      ]
     },
     "metadata": {},
     "output_type": "display_data"
    },
    {
     "data": {
      "text/plain": [
       "<Figure size 2000x1000 with 0 Axes>"
      ]
     },
     "metadata": {},
     "output_type": "display_data"
    },
    {
     "data": {
      "text/plain": [
       "<Figure size 2000x1000 with 0 Axes>"
      ]
     },
     "metadata": {},
     "output_type": "display_data"
    },
    {
     "data": {
      "text/plain": [
       "<Figure size 2000x1000 with 0 Axes>"
      ]
     },
     "metadata": {},
     "output_type": "display_data"
    },
    {
     "data": {
      "text/plain": [
       "<Figure size 2000x1000 with 0 Axes>"
      ]
     },
     "metadata": {},
     "output_type": "display_data"
    },
    {
     "data": {
      "text/plain": [
       "<Figure size 2000x1000 with 0 Axes>"
      ]
     },
     "metadata": {},
     "output_type": "display_data"
    },
    {
     "data": {
      "text/plain": [
       "<Figure size 2000x1000 with 0 Axes>"
      ]
     },
     "metadata": {},
     "output_type": "display_data"
    },
    {
     "data": {
      "text/plain": [
       "<Figure size 2000x1000 with 0 Axes>"
      ]
     },
     "metadata": {},
     "output_type": "display_data"
    },
    {
     "data": {
      "text/plain": [
       "<Figure size 2000x1000 with 0 Axes>"
      ]
     },
     "metadata": {},
     "output_type": "display_data"
    },
    {
     "data": {
      "text/plain": [
       "<Figure size 2000x1000 with 0 Axes>"
      ]
     },
     "metadata": {},
     "output_type": "display_data"
    },
    {
     "data": {
      "text/plain": [
       "<Figure size 2000x1000 with 0 Axes>"
      ]
     },
     "metadata": {},
     "output_type": "display_data"
    },
    {
     "data": {
      "text/plain": [
       "<Figure size 2000x1000 with 0 Axes>"
      ]
     },
     "metadata": {},
     "output_type": "display_data"
    },
    {
     "data": {
      "text/plain": [
       "<Figure size 2000x1000 with 0 Axes>"
      ]
     },
     "metadata": {},
     "output_type": "display_data"
    },
    {
     "data": {
      "text/plain": [
       "<Figure size 2000x1000 with 0 Axes>"
      ]
     },
     "metadata": {},
     "output_type": "display_data"
    },
    {
     "data": {
      "text/plain": [
       "<Figure size 2000x1000 with 0 Axes>"
      ]
     },
     "metadata": {},
     "output_type": "display_data"
    },
    {
     "data": {
      "text/plain": [
       "<Figure size 2000x1000 with 0 Axes>"
      ]
     },
     "metadata": {},
     "output_type": "display_data"
    },
    {
     "data": {
      "text/plain": [
       "<Figure size 2000x1000 with 0 Axes>"
      ]
     },
     "metadata": {},
     "output_type": "display_data"
    },
    {
     "data": {
      "text/plain": [
       "<Figure size 2000x1000 with 0 Axes>"
      ]
     },
     "metadata": {},
     "output_type": "display_data"
    },
    {
     "data": {
      "text/plain": [
       "<Figure size 2000x1000 with 0 Axes>"
      ]
     },
     "metadata": {},
     "output_type": "display_data"
    },
    {
     "data": {
      "text/plain": [
       "<Figure size 2000x1000 with 0 Axes>"
      ]
     },
     "metadata": {},
     "output_type": "display_data"
    },
    {
     "data": {
      "text/plain": [
       "<Figure size 2000x1000 with 0 Axes>"
      ]
     },
     "metadata": {},
     "output_type": "display_data"
    },
    {
     "data": {
      "text/plain": [
       "<Figure size 2000x1000 with 0 Axes>"
      ]
     },
     "metadata": {},
     "output_type": "display_data"
    },
    {
     "data": {
      "text/plain": [
       "<Figure size 2000x1000 with 0 Axes>"
      ]
     },
     "metadata": {},
     "output_type": "display_data"
    },
    {
     "data": {
      "text/plain": [
       "<Figure size 2000x1000 with 0 Axes>"
      ]
     },
     "metadata": {},
     "output_type": "display_data"
    },
    {
     "data": {
      "text/plain": [
       "<Figure size 2000x1000 with 0 Axes>"
      ]
     },
     "metadata": {},
     "output_type": "display_data"
    },
    {
     "data": {
      "text/plain": [
       "<Figure size 2000x1000 with 0 Axes>"
      ]
     },
     "metadata": {},
     "output_type": "display_data"
    },
    {
     "data": {
      "text/plain": [
       "<Figure size 2000x1000 with 0 Axes>"
      ]
     },
     "metadata": {},
     "output_type": "display_data"
    },
    {
     "data": {
      "text/plain": [
       "<Figure size 2000x1000 with 0 Axes>"
      ]
     },
     "metadata": {},
     "output_type": "display_data"
    },
    {
     "data": {
      "text/plain": [
       "<Figure size 2000x1000 with 0 Axes>"
      ]
     },
     "metadata": {},
     "output_type": "display_data"
    },
    {
     "data": {
      "text/plain": [
       "<Figure size 2000x1000 with 0 Axes>"
      ]
     },
     "metadata": {},
     "output_type": "display_data"
    },
    {
     "data": {
      "text/plain": [
       "<Figure size 2000x1000 with 0 Axes>"
      ]
     },
     "metadata": {},
     "output_type": "display_data"
    },
    {
     "data": {
      "text/plain": [
       "<Figure size 2000x1000 with 0 Axes>"
      ]
     },
     "metadata": {},
     "output_type": "display_data"
    },
    {
     "data": {
      "text/plain": [
       "<Figure size 2000x1000 with 0 Axes>"
      ]
     },
     "metadata": {},
     "output_type": "display_data"
    },
    {
     "data": {
      "text/plain": [
       "<Figure size 2000x1000 with 0 Axes>"
      ]
     },
     "metadata": {},
     "output_type": "display_data"
    },
    {
     "data": {
      "text/plain": [
       "<Figure size 2000x1000 with 0 Axes>"
      ]
     },
     "metadata": {},
     "output_type": "display_data"
    },
    {
     "data": {
      "text/plain": [
       "<Figure size 2000x1000 with 0 Axes>"
      ]
     },
     "metadata": {},
     "output_type": "display_data"
    },
    {
     "data": {
      "text/plain": [
       "<Figure size 2000x1000 with 0 Axes>"
      ]
     },
     "metadata": {},
     "output_type": "display_data"
    },
    {
     "data": {
      "text/plain": [
       "<Figure size 2000x1000 with 0 Axes>"
      ]
     },
     "metadata": {},
     "output_type": "display_data"
    },
    {
     "data": {
      "text/plain": [
       "<Figure size 2000x1000 with 0 Axes>"
      ]
     },
     "metadata": {},
     "output_type": "display_data"
    },
    {
     "data": {
      "text/plain": [
       "<Figure size 2000x1000 with 0 Axes>"
      ]
     },
     "metadata": {},
     "output_type": "display_data"
    },
    {
     "data": {
      "text/plain": [
       "<Figure size 2000x1000 with 0 Axes>"
      ]
     },
     "metadata": {},
     "output_type": "display_data"
    },
    {
     "data": {
      "text/plain": [
       "<Figure size 2000x1000 with 0 Axes>"
      ]
     },
     "metadata": {},
     "output_type": "display_data"
    },
    {
     "data": {
      "text/plain": [
       "<Figure size 2000x1000 with 0 Axes>"
      ]
     },
     "metadata": {},
     "output_type": "display_data"
    },
    {
     "data": {
      "text/plain": [
       "<Figure size 2000x1000 with 0 Axes>"
      ]
     },
     "metadata": {},
     "output_type": "display_data"
    }
   ],
   "source": [
    "train_test = [\"train\" , \"test\"]\n",
    "size_factor = [1,0.2]\n",
    "for i , data in enumerate([data_train , data_test]):\n",
    "    for column in data_clean.columns:\n",
    "        if not column == \"Download Boat Record\" and not column == \"name\" and not column == \"url\" and not column == \"img_path\":\n",
    "            fig = plt.figure(figsize=(10*2,5*2))\n",
    "            if data[column].dtype == \"object\":\n",
    "                to_remove = 50*size_factor[i]\n",
    "                try:\n",
    "                    dat = data[column].value_counts()\n",
    "                    # dat = dat[dat > to_remove] # Removing entries with less than to_remove entries\n",
    "                    dat = dat/len(data[column]) # Normalising\n",
    "                    print(\"Plotting\" , column)\n",
    "                    dat.to_csv(plot_dir+column.replace('/',\"_\")+\"_\"+train_test[i]+\".csv\")\n",
    "                    dat.plot(kind='barh')\n",
    "                    plt.annotate(text = \"Total entries were \"+str(len(data[column].value_counts())) , xy = (0.8,0.95) , xycoords = \"axes fraction\")\n",
    "                    plt.annotate(text = \"Removed entries where n<\"+str(to_remove) , xy = (0.8,0.9) , xycoords = \"axes fraction\")\n",
    "                except:\n",
    "                    data[column].value_counts().plot(kind='barh')\n",
    "                fig.name = column\n",
    "                fig.suptitle(column+str(\" \")+train_test[i] , fontsize=16)\n",
    "                path = plot_dir+column.replace('/',\"_\")+\"_\"+train_test[i]+\".png\"\n",
    "                plt.savefig(path)\n",
    "                fig.clear()\n",
    "\n",
    "\n",
    "            # else:\n",
    "                # data[column].plot(kind='hist' , logy=True)\n",
    "            # fig.name = column\n",
    "            # fig.suptitle(column+str(\" \")+train_test[i] , fontsize=16)\n",
    "            # path = plot_dir+column.replace('/',\"_\")+\"_\"+train_test[i]+\".png\"\n",
    "            # plt.savefig(path)\n",
    "            # fig.clear()\n"
   ]
  },
  {
   "attachments": {},
   "cell_type": "markdown",
   "metadata": {},
   "source": [
    "# Label embedding"
   ]
  },
  {
   "cell_type": "code",
   "execution_count": 31,
   "metadata": {},
   "outputs": [],
   "source": [
    "data_clean = pd.DataFrame(cleaned_data , columns = data_raw.columns)\n",
    "\n",
    "col_list = ['Hull Type' , 'Rigging Type' , 'Construction' , 'Ballast Type' , 'Designer' , 'name']\n",
    "\n",
    "for column in data_clean.columns:\n",
    "    if column in col_list:\n",
    "        path = data_dir+\"/labels/\"+column.replace(\" \",\"_\")\n",
    "        data_clean[column] = data_clean[column].astype('category')\n",
    "        classes = dict( zip(data_clean[column] , data_clean[column].cat.codes))\n",
    "        with open(path+\".json\", \"w\") as outfile:\n",
    "            json.dump(classes, outfile , indent = 4)\n",
    "        data_clean[column] = data_clean[column].cat.codes\n",
    "\n",
    "data_clean.to_csv(data_dir+\"boat_data_clean.csv\" , index = False)\n",
    "data_train , data_test = train_test_split(data_clean , test_size = 0.2 , random_state = 42)\n",
    "data_train.to_csv(data_dir+\"boat_data_train.csv\" , index = False)\n",
    "data_test.to_csv(data_dir+\"boat_data_test.csv\" , index = False)"
   ]
  },
  {
   "cell_type": "code",
   "execution_count": 23,
   "metadata": {},
   "outputs": [
    {
     "name": "stdout",
     "output_type": "stream",
     "text": [
      "fin wbulb  spade rudder [19] \n",
      "fractional 78 sloop [14] \n",
      "plywood or grp wfoam sandwich [421] \n",
      "internal cast iron centerboard galvanized steel [37] \n",
      "c raymond hunt   assoc [298] \n",
      "11 meter [0] \n",
      "\n"
     ]
    }
   ],
   "source": [
    "# file_path = \"images/00002.jpg\"\n",
    "# df = data_train\n",
    "# idx = df.index[(df['img_path'] == file_path.split(\"/\")[1])].values[0]\n",
    "\n",
    "# print(\n",
    "# Hull_Type_Classes[df['Hull Type'][idx]],[df['Hull Type'][idx]],\"\\n\"+\n",
    "# Rigging_Type_Classes[df['Rigging Type'][idx]],[df['Rigging Type'][idx]],\"\\n\"+\n",
    "# Construction_Classes[df['Construction'][idx]],[df['Construction'][idx]],\"\\n\"+\n",
    "# Ballast_Type_Classes[df['Ballast Type'][idx]],[df['Ballast Type'][idx]],\"\\n\"+\n",
    "# Designer_Classes[df['Designer'][idx]],[df['Designer'][idx]],\"\\n\"+\n",
    "# Name_Classes[df['name'][idx]],[df['name'][idx]],\"\\n\"\n",
    "# )"
   ]
  }
 ],
 "metadata": {
  "kernelspec": {
   "display_name": "Python 3",
   "language": "python",
   "name": "python3"
  },
  "language_info": {
   "codemirror_mode": {
    "name": "ipython",
    "version": 3
   },
   "file_extension": ".py",
   "mimetype": "text/x-python",
   "name": "python",
   "nbconvert_exporter": "python",
   "pygments_lexer": "ipython3",
   "version": "3.10.7"
  },
  "orig_nbformat": 4,
  "vscode": {
   "interpreter": {
    "hash": "edf259275ad4a72d4dd5b452264ad5fb2b635233dff2a31edc6ebc740e55e21b"
   }
  }
 },
 "nbformat": 4,
 "nbformat_minor": 2
}
